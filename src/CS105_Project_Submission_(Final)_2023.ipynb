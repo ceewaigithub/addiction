{
  "cells": [
    {
      "cell_type": "markdown",
      "metadata": {
        "id": "4Lu8Q7F-2kIO"
      },
      "source": [
        "<div class=\"alert alert-block alert-info\">\n",
        "Singapore Management University<br>\n",
        "CS105 Statistical Thinking for Data Science, 2022/23 Term 2\n",
        "</div>"
      ]
    },
    {
      "cell_type": "markdown",
      "metadata": {
        "id": "zYBbWb-0Kc6H"
      },
      "source": [
        "# CS105 Group Project Submission (Final)"
      ]
    },
    {
      "cell_type": "markdown",
      "metadata": {
        "id": "LrCtfCLv2kIR"
      },
      "source": [
        "-----\n",
        "<img src=\"attachment:info.png\" width=\"60\" align=\"left\"/>Provide your team details, including section, team number, team members, and the name of the dataset. \n",
        "Complete all of the following sections. For any part requiring code to derive your answers, please create a code cell immediately below your response and run the code.\n",
        "To edit any markdown cell, double click the cell; after editing, execute the markdown cell to collapse it.\n",
        "\n",
        "Include both Part I and Part II to produce a self-contained notebook. You may fine-tune Part I codes and/or findings based on feedback received on Part I submission.\n",
        "<br>\n",
        "-----"
      ]
    },
    {
      "cell_type": "markdown",
      "metadata": {
        "id": "NZj9CniZ2kIS"
      },
      "source": [
        "#### Section: G1\n",
        "#### Team: 7\n",
        "#### Members: \n",
        "1. Milton Sim \n",
        "2. Ryan Loh\n",
        "3. Axel Tan\n",
        "4. Tay Si Yu\n",
        "5. Shawn Chia\n",
        "\n",
        "#### Dataset: Climate"
      ]
    },
    {
      "cell_type": "code",
      "execution_count": null,
      "metadata": {
        "id": "aFyS6KmS-2Jz"
      },
      "outputs": [],
      "source": [
        "import numpy as np\n",
        "import pandas as pd\n",
        "import matplotlib.pyplot as plt\n",
        "import plotly.express as px"
      ]
    },
    {
      "cell_type": "code",
      "execution_count": null,
      "metadata": {
        "id": "I49cJoO1-2Jz"
      },
      "outputs": [],
      "source": [
        "# parse climate.csv into a dataframe\n",
        "df = pd.read_csv('climate.csv')"
      ]
    },
    {
      "cell_type": "markdown",
      "metadata": {
        "id": "aO0QbA20-2Jz"
      },
      "source": [
        "## Part I: Exploratory Data Analysis (EDA) [8% of final grade]"
      ]
    },
    {
      "cell_type": "markdown",
      "metadata": {
        "id": "6tsB1lkU-2Jz"
      },
      "source": [
        "### 1. Overview of dataset [15% of Part I]"
      ]
    },
    {
      "cell_type": "markdown",
      "metadata": {
        "id": "5knpcoaO-2Jz"
      },
      "source": [
        "**a.** Summarise the background of the dataset [limited to 50 words]"
      ]
    },
    {
      "cell_type": "markdown",
      "metadata": {
        "id": "QLy1flyB-2J0"
      },
      "source": [
        "**Response.** "
      ]
    },
    {
      "cell_type": "markdown",
      "source": [
        "We believe this dataset aims to study the relationship between average global temperature and other factors. Analysing the dataset can provide insight on the impacts of certain climate factors, such as concentration of greenhouse gases and ozone layer depletion, on temperature changes, which could result in climate change."
      ],
      "metadata": {
        "id": "9Q6PdSE7AL0l"
      }
    },
    {
      "cell_type": "markdown",
      "metadata": {
        "id": "sTj05Rzv-2J0"
      },
      "source": [
        "**b.** State the size of the dataset"
      ]
    },
    {
      "cell_type": "code",
      "execution_count": null,
      "metadata": {
        "scrolled": true,
        "id": "GXZrKa3k-2J0",
        "outputId": "d25583c1-3200-42a8-ea4f-67572ff2ee80",
        "colab": {
          "base_uri": "https://localhost:8080/"
        }
      },
      "outputs": [
        {
          "output_type": "stream",
          "name": "stdout",
          "text": [
            "number of rows in climate dataset is 308\n",
            "number of columns in climate dataset is 11\n"
          ]
        }
      ],
      "source": [
        "# get number of rows and columns of dataframe using shape\n",
        "n_rows, n_cols = df.shape\n",
        "print(f\"number of rows in climate dataset is {n_rows}\")\n",
        "print(f\"number of columns in climate dataset is {n_cols}\")"
      ]
    },
    {
      "cell_type": "markdown",
      "metadata": {
        "id": "AGZBCRes-2J0"
      },
      "source": [
        "**c.** For each variable, describe what it represents and its data type (numerical or categorical)"
      ]
    },
    {
      "cell_type": "markdown",
      "metadata": {
        "id": "ctyJes6R-2J0"
      },
      "source": [
        "| Name | Description | Data Type | Details\n",
        "| :--- | :--- | :--- | :--- |\n",
        "| Year | Year of observation | Categorical |\n",
        "| Month | Month of observation | Categorical |\n",
        "| MEI | Multivariate El Nino Southern Oscillation index (MEI) | Numerical |\n",
        "| CO2 | Atmospheric concentration of carbon dioxide | Numerical |\n",
        "| CH4 | Atmospheric concentration of methane | Numerical | Measured in parts per million by volume |\n",
        "| N2O | Level of atmospheric concentration of nitrous oxide | Categorical | Possible values: “H”, “L” |\n",
        "| CFC-11 | Atmospheric concentration of trichlorofluoromethane | Numerical | Measured in parts per billion by volume |\n",
        "| CFC-12 | Atmospheric concentration of dichlorodifluoromethane | Numerical | Measured in parts per billion by volume |\n",
        "| TSI | Level of Total Solar Irradiance | Categorical | Possible values: “H”, “M”, “L” |\n",
        "| Aerosols | Level of stratospheric “aerosol optical depth” at 550nm | Categorical | Possible values: “H”, “M”, “L” |\n",
        "| Temp | Difference in temperature between average global temperature and a reference value | Numerical |"
      ]
    },
    {
      "cell_type": "markdown",
      "source": [
        "Below is what we researched about the more in-depth details of the different variables of the dataset and how they could potentially relate to global temperatures. This subject matter data could guide us in deciding what to investigate and interpret from our data inferences.\n",
        "\n",
        "<br>\n",
        "<b> MEI </b> \n",
        "<br>\n",
        "MEI is the measure of the changes in temperature of the Pacific Ocean caused by the interactions of two major climate phenomenon known as the El Nino and La Nina events on the water body. These events are generally caused by trade winds that affects how the water body moves. El Nino events generally lead to warmer temperatures while La Nina events generally lead to cooler temperatures and they generally follow a 3 to 7 years cycle. Therefore, MEI values have both positive and negative values to denote the warming and cooling effect that both events have on the temperature of the ocean body. As a result, the MEI values that measure the effects of El Nino and La Nina caused by winds could bring cooling and warming effects to the Pacific Ocean and could potentially increases global temperatures too.\n",
        "\n",
        "<br>\n",
        "<br>\n",
        "<b> CO2, CH4, N2O </b>\n",
        "<br> \n",
        "These gases are also known as greenhouse gases. Greenhouse gases could impact global temperatures as these gases traps heat that are radiating away from Earth to space. As a result, the heat cannot escape Earth and hence global temperatures could potentially increase.\n",
        "\n",
        "\n",
        "<br>\n",
        "<br>\n",
        "<b> N2O, CFC-11, CFC-12 </b>\n",
        "<br>\n",
        "These gases are harmful to Earth's atmosphere, specifically the Ozone layer. The Ozone layer generally absorbs and reflects some of the sun's energy emitted on to Earth and protects the Earth from harmful UV rays. However, these harmful gases are able to react with the Ozone molecule in the Ozone layer and as a result create holes in the Ozone layer. With holes in the Ozone layer, the sun's energy and harmful UV rays can enter Earth. Hence, the levels of N2O, CFC-11, CFC-12 relates to the damage of the Ozone layer. As a result, increase in these gases could lead to higher global temperatures.\n",
        "\n",
        "<br>\n",
        "<br> \n",
        "<b> TSI </b>\n",
        "<br>\n",
        "TSI refers to the amount of solar radiation emitted by the sun. These values are changing due to the Earth's rotation around the Sun. As a result, increases in TSI value which relates to higher solar radiations could lead to higher global temperatures.\n",
        "\n",
        "<br>\n",
        "<br>\n",
        "<b> Aerosols </b>\n",
        "<br>\n",
        "Aerosols refer to the volcanic materials that are released into the Earth's atmosphere during eruptions. These materials are generally very small but due to the large volumes emitted they can gather and cloud up in the Earth's atmosphere. These volcanic materials will hence block out the sun rays from hitting the Earth's surface. Some significant volcanic eruptions that led to increasingly high count of Aerosols include the Mount Pinatubo eruption in 1991 and the Iceland volcano Eyjafjallajokull eruption in 2010. As a result, lower Aerosol amounts could lead to higher global temperatures."
      ],
      "metadata": {
        "id": "_iL0BfnYp3zV"
      }
    },
    {
      "cell_type": "code",
      "execution_count": null,
      "metadata": {
        "id": "5HcBXgK4-2J1",
        "outputId": "93fafdf9-f7a7-4d55-b7ab-96b911bf7c43",
        "colab": {
          "base_uri": "https://localhost:8080/"
        }
      },
      "outputs": [
        {
          "output_type": "stream",
          "name": "stdout",
          "text": [
            "Year          int64\n",
            "Month         int64\n",
            "MEI         float64\n",
            "CO2         float64\n",
            "CH4         float64\n",
            "N2O          object\n",
            "CFC-11      float64\n",
            "CFC-12      float64\n",
            "TSI          object\n",
            "Aerosols     object\n",
            "Temp        float64\n",
            "dtype: object\n"
          ]
        }
      ],
      "source": [
        "# print data type of each column in df\n",
        "print(df.dtypes)"
      ]
    },
    {
      "cell_type": "markdown",
      "metadata": {
        "id": "nXJdaErL-2J1"
      },
      "source": [
        "### 2. Data pre-processing [35% of Part I]"
      ]
    },
    {
      "cell_type": "markdown",
      "metadata": {
        "id": "m_Afw3Pd-2J1"
      },
      "source": [
        "**a.** For each variable, determine the percentage of missing data. For any column with missing data, describe how you resolve the issue. Clearly state any assumption you made."
      ]
    },
    {
      "cell_type": "markdown",
      "metadata": {
        "id": "JmY9jogx-2J1"
      },
      "source": [
        "<a id=\"non-na-count\"></a>"
      ]
    },
    {
      "cell_type": "code",
      "execution_count": null,
      "metadata": {
        "scrolled": true,
        "id": "boGiUxNI-2J1",
        "colab": {
          "base_uri": "https://localhost:8080/"
        },
        "outputId": "d262c880-2cc5-48b1-a89c-de33a918c910"
      },
      "outputs": [
        {
          "output_type": "execute_result",
          "data": {
            "text/plain": [
              "Year        308\n",
              "Month       308\n",
              "MEI         308\n",
              "CO2         288\n",
              "CH4         308\n",
              "N2O         308\n",
              "CFC-11      308\n",
              "CFC-12      308\n",
              "TSI         289\n",
              "Aerosols    308\n",
              "Temp        308\n",
              "dtype: int64"
            ]
          },
          "metadata": {},
          "execution_count": 8
        }
      ],
      "source": [
        "# count no. of non-null values in each column in dataframe\n",
        "df.count()"
      ]
    },
    {
      "cell_type": "code",
      "execution_count": null,
      "metadata": {
        "id": "GLClxuSv-2J1",
        "outputId": "a9708064-b890-43f5-80dc-736f042c3c26",
        "colab": {
          "base_uri": "https://localhost:8080/"
        }
      },
      "outputs": [
        {
          "output_type": "execute_result",
          "data": {
            "text/plain": [
              "Year        0.000000\n",
              "Month       0.000000\n",
              "MEI         0.000000\n",
              "CO2         6.493506\n",
              "CH4         0.000000\n",
              "N2O         0.000000\n",
              "CFC-11      0.000000\n",
              "CFC-12      0.000000\n",
              "TSI         6.168831\n",
              "Aerosols    0.000000\n",
              "Temp        0.000000\n",
              "dtype: float64"
            ]
          },
          "metadata": {},
          "execution_count": 9
        }
      ],
      "source": [
        "# calculate percentage of missing values in each column in dataframe\n",
        "100 * (1 - df.count() / n_rows)"
      ]
    },
    {
      "cell_type": "markdown",
      "metadata": {
        "id": "ZB_ixtRW-2J2"
      },
      "source": [
        "<i><b> Assumptions and Justifications for the choices we made </b></i>\n",
        "<br>\n",
        "<u>*CO2*</u> : We chose to drop the values with NaN CO2 values as\n",
        "<br>    1. Inputing NaN data with mean or mode may introduce bias into the dataset when CO2 values is affected by many different factors which is not independent of the previous years\n",
        "<br>    2. Dropping the CO2 column is not feasible as only 6.5% of the data is missing, and the column has important information of CO2 values per year, a greenhouse gas, which could allow us to investigate the effects of greenhouse gases on global temperatures.\n",
        "<br> >> Hence, we chose to drop the rows with NaN values in order to avoid introducing bias into our data and so that we could consider investigating the effect of one of the greenhouse gases on global temperatures.\n",
        "<br><br>\n",
        "<u>*TSI*</u> : We chose to drop the values with NaN TSI values as \n",
        "<br>    1. Inputing NaN data with the mean or mode category could skew the pattern that TSI records. This is so as TSI is affected by the Solar Cycle which lasts approximately 11 years. Furthermore, TSI measures the solar energy deposited per unit area and by inputting the mean or mode, we could alter the effects of TSI on global temperatures that we might interpret upon investigating.\n",
        "<br>    2. Dropping the TSI column is also not feasible as only 6.2% of the data is missing. \n",
        "<br> >> Hence, we chose to drop the rows with NaN values to avoid altering the Solar Cycle pattern that affects TSI and so that we could consider investigating the effects of the Solar Cycle on global temperatures.\n"
      ]
    },
    {
      "cell_type": "code",
      "execution_count": null,
      "metadata": {
        "id": "FVRbTqlh-2J2",
        "outputId": "39b3f783-b35f-44bc-b860-adbe484a3630",
        "colab": {
          "base_uri": "https://localhost:8080/",
          "height": 206
        }
      },
      "outputs": [
        {
          "output_type": "execute_result",
          "data": {
            "text/plain": [
              "   Year  Month    MEI     CO2      CH4 N2O   CFC-11   CFC-12 TSI Aerosols  \\\n",
              "0  1983      5  2.556  345.96  1638.59   L  191.324  350.113   M        H   \n",
              "1  1983      6  2.167  345.52  1633.71   L  192.057  351.848   M        H   \n",
              "2  1983      7  1.741  344.15  1633.22   L  192.818  353.725   M        H   \n",
              "4  1983      9  0.428  340.17  1648.40   L  194.392  357.465   M        H   \n",
              "5  1983     10  0.002  340.30  1663.79   L  195.171  359.174   M        H   \n",
              "\n",
              "    Temp  \n",
              "0  0.109  \n",
              "1  0.118  \n",
              "2  0.137  \n",
              "4  0.149  \n",
              "5  0.093  "
            ],
            "text/html": [
              "\n",
              "  <div id=\"df-178c8e26-7c62-4c4f-88b7-4a7a8c60dfbe\">\n",
              "    <div class=\"colab-df-container\">\n",
              "      <div>\n",
              "<style scoped>\n",
              "    .dataframe tbody tr th:only-of-type {\n",
              "        vertical-align: middle;\n",
              "    }\n",
              "\n",
              "    .dataframe tbody tr th {\n",
              "        vertical-align: top;\n",
              "    }\n",
              "\n",
              "    .dataframe thead th {\n",
              "        text-align: right;\n",
              "    }\n",
              "</style>\n",
              "<table border=\"1\" class=\"dataframe\">\n",
              "  <thead>\n",
              "    <tr style=\"text-align: right;\">\n",
              "      <th></th>\n",
              "      <th>Year</th>\n",
              "      <th>Month</th>\n",
              "      <th>MEI</th>\n",
              "      <th>CO2</th>\n",
              "      <th>CH4</th>\n",
              "      <th>N2O</th>\n",
              "      <th>CFC-11</th>\n",
              "      <th>CFC-12</th>\n",
              "      <th>TSI</th>\n",
              "      <th>Aerosols</th>\n",
              "      <th>Temp</th>\n",
              "    </tr>\n",
              "  </thead>\n",
              "  <tbody>\n",
              "    <tr>\n",
              "      <th>0</th>\n",
              "      <td>1983</td>\n",
              "      <td>5</td>\n",
              "      <td>2.556</td>\n",
              "      <td>345.96</td>\n",
              "      <td>1638.59</td>\n",
              "      <td>L</td>\n",
              "      <td>191.324</td>\n",
              "      <td>350.113</td>\n",
              "      <td>M</td>\n",
              "      <td>H</td>\n",
              "      <td>0.109</td>\n",
              "    </tr>\n",
              "    <tr>\n",
              "      <th>1</th>\n",
              "      <td>1983</td>\n",
              "      <td>6</td>\n",
              "      <td>2.167</td>\n",
              "      <td>345.52</td>\n",
              "      <td>1633.71</td>\n",
              "      <td>L</td>\n",
              "      <td>192.057</td>\n",
              "      <td>351.848</td>\n",
              "      <td>M</td>\n",
              "      <td>H</td>\n",
              "      <td>0.118</td>\n",
              "    </tr>\n",
              "    <tr>\n",
              "      <th>2</th>\n",
              "      <td>1983</td>\n",
              "      <td>7</td>\n",
              "      <td>1.741</td>\n",
              "      <td>344.15</td>\n",
              "      <td>1633.22</td>\n",
              "      <td>L</td>\n",
              "      <td>192.818</td>\n",
              "      <td>353.725</td>\n",
              "      <td>M</td>\n",
              "      <td>H</td>\n",
              "      <td>0.137</td>\n",
              "    </tr>\n",
              "    <tr>\n",
              "      <th>4</th>\n",
              "      <td>1983</td>\n",
              "      <td>9</td>\n",
              "      <td>0.428</td>\n",
              "      <td>340.17</td>\n",
              "      <td>1648.40</td>\n",
              "      <td>L</td>\n",
              "      <td>194.392</td>\n",
              "      <td>357.465</td>\n",
              "      <td>M</td>\n",
              "      <td>H</td>\n",
              "      <td>0.149</td>\n",
              "    </tr>\n",
              "    <tr>\n",
              "      <th>5</th>\n",
              "      <td>1983</td>\n",
              "      <td>10</td>\n",
              "      <td>0.002</td>\n",
              "      <td>340.30</td>\n",
              "      <td>1663.79</td>\n",
              "      <td>L</td>\n",
              "      <td>195.171</td>\n",
              "      <td>359.174</td>\n",
              "      <td>M</td>\n",
              "      <td>H</td>\n",
              "      <td>0.093</td>\n",
              "    </tr>\n",
              "  </tbody>\n",
              "</table>\n",
              "</div>\n",
              "      <button class=\"colab-df-convert\" onclick=\"convertToInteractive('df-178c8e26-7c62-4c4f-88b7-4a7a8c60dfbe')\"\n",
              "              title=\"Convert this dataframe to an interactive table.\"\n",
              "              style=\"display:none;\">\n",
              "        \n",
              "  <svg xmlns=\"http://www.w3.org/2000/svg\" height=\"24px\"viewBox=\"0 0 24 24\"\n",
              "       width=\"24px\">\n",
              "    <path d=\"M0 0h24v24H0V0z\" fill=\"none\"/>\n",
              "    <path d=\"M18.56 5.44l.94 2.06.94-2.06 2.06-.94-2.06-.94-.94-2.06-.94 2.06-2.06.94zm-11 1L8.5 8.5l.94-2.06 2.06-.94-2.06-.94L8.5 2.5l-.94 2.06-2.06.94zm10 10l.94 2.06.94-2.06 2.06-.94-2.06-.94-.94-2.06-.94 2.06-2.06.94z\"/><path d=\"M17.41 7.96l-1.37-1.37c-.4-.4-.92-.59-1.43-.59-.52 0-1.04.2-1.43.59L10.3 9.45l-7.72 7.72c-.78.78-.78 2.05 0 2.83L4 21.41c.39.39.9.59 1.41.59.51 0 1.02-.2 1.41-.59l7.78-7.78 2.81-2.81c.8-.78.8-2.07 0-2.86zM5.41 20L4 18.59l7.72-7.72 1.47 1.35L5.41 20z\"/>\n",
              "  </svg>\n",
              "      </button>\n",
              "      \n",
              "  <style>\n",
              "    .colab-df-container {\n",
              "      display:flex;\n",
              "      flex-wrap:wrap;\n",
              "      gap: 12px;\n",
              "    }\n",
              "\n",
              "    .colab-df-convert {\n",
              "      background-color: #E8F0FE;\n",
              "      border: none;\n",
              "      border-radius: 50%;\n",
              "      cursor: pointer;\n",
              "      display: none;\n",
              "      fill: #1967D2;\n",
              "      height: 32px;\n",
              "      padding: 0 0 0 0;\n",
              "      width: 32px;\n",
              "    }\n",
              "\n",
              "    .colab-df-convert:hover {\n",
              "      background-color: #E2EBFA;\n",
              "      box-shadow: 0px 1px 2px rgba(60, 64, 67, 0.3), 0px 1px 3px 1px rgba(60, 64, 67, 0.15);\n",
              "      fill: #174EA6;\n",
              "    }\n",
              "\n",
              "    [theme=dark] .colab-df-convert {\n",
              "      background-color: #3B4455;\n",
              "      fill: #D2E3FC;\n",
              "    }\n",
              "\n",
              "    [theme=dark] .colab-df-convert:hover {\n",
              "      background-color: #434B5C;\n",
              "      box-shadow: 0px 1px 3px 1px rgba(0, 0, 0, 0.15);\n",
              "      filter: drop-shadow(0px 1px 2px rgba(0, 0, 0, 0.3));\n",
              "      fill: #FFFFFF;\n",
              "    }\n",
              "  </style>\n",
              "\n",
              "      <script>\n",
              "        const buttonEl =\n",
              "          document.querySelector('#df-178c8e26-7c62-4c4f-88b7-4a7a8c60dfbe button.colab-df-convert');\n",
              "        buttonEl.style.display =\n",
              "          google.colab.kernel.accessAllowed ? 'block' : 'none';\n",
              "\n",
              "        async function convertToInteractive(key) {\n",
              "          const element = document.querySelector('#df-178c8e26-7c62-4c4f-88b7-4a7a8c60dfbe');\n",
              "          const dataTable =\n",
              "            await google.colab.kernel.invokeFunction('convertToInteractive',\n",
              "                                                     [key], {});\n",
              "          if (!dataTable) return;\n",
              "\n",
              "          const docLinkHtml = 'Like what you see? Visit the ' +\n",
              "            '<a target=\"_blank\" href=https://colab.research.google.com/notebooks/data_table.ipynb>data table notebook</a>'\n",
              "            + ' to learn more about interactive tables.';\n",
              "          element.innerHTML = '';\n",
              "          dataTable['output_type'] = 'display_data';\n",
              "          await google.colab.output.renderOutput(dataTable, element);\n",
              "          const docLink = document.createElement('div');\n",
              "          docLink.innerHTML = docLinkHtml;\n",
              "          element.appendChild(docLink);\n",
              "        }\n",
              "      </script>\n",
              "    </div>\n",
              "  </div>\n",
              "  "
            ]
          },
          "metadata": {},
          "execution_count": 10
        }
      ],
      "source": [
        "# create a new dataFrame to work with that uses the one with no NaN values\n",
        "df.dropna(inplace=True)\n",
        "# display first few rows of dataframe\n",
        "df.head()"
      ]
    },
    {
      "cell_type": "code",
      "execution_count": null,
      "metadata": {
        "scrolled": true,
        "id": "8oCy1PgJ-2J2",
        "outputId": "07ab617a-be2a-498d-aeee-737622fee791",
        "colab": {
          "base_uri": "https://localhost:8080/"
        }
      },
      "outputs": [
        {
          "output_type": "execute_result",
          "data": {
            "text/plain": [
              "Year        271\n",
              "Month       271\n",
              "MEI         271\n",
              "CO2         271\n",
              "CH4         271\n",
              "N2O         271\n",
              "CFC-11      271\n",
              "CFC-12      271\n",
              "TSI         271\n",
              "Aerosols    271\n",
              "Temp        271\n",
              "dtype: int64"
            ]
          },
          "metadata": {},
          "execution_count": 11
        }
      ],
      "source": [
        "# count no. of non-null values in each column in dataframe\n",
        "df.count()"
      ]
    },
    {
      "cell_type": "markdown",
      "metadata": {
        "id": "UyVfgZRh-2J2"
      },
      "source": [
        "The reason that the number does not match the lowest [non-na count](#non-na-count), is that na values may exists in different rows between the CO2 and TSI columns, thus the number of non-na rows is not the same."
      ]
    },
    {
      "cell_type": "markdown",
      "metadata": {
        "id": "Ejy__Gcz-2J2"
      },
      "source": [
        "**b.** For each variable, identify outliers (if any) and describe how you resolve the issue. Clearly state any assumption you made."
      ]
    },
    {
      "cell_type": "code",
      "execution_count": null,
      "metadata": {
        "scrolled": true,
        "id": "oS5U0Wiv-2J2",
        "outputId": "faa32315-3957-4f27-93e4-8402288ac34d",
        "colab": {
          "base_uri": "https://localhost:8080/",
          "height": 516
        }
      },
      "outputs": [
        {
          "output_type": "execute_result",
          "data": {
            "text/plain": [
              "Text(0.5, 1.0, 'Temp')"
            ]
          },
          "metadata": {},
          "execution_count": 12
        },
        {
          "output_type": "display_data",
          "data": {
            "text/plain": [
              "<Figure size 1440x576 with 6 Axes>"
            ],
            "image/png": "[encoded data removed]"
          },
          "metadata": {
            "needs_background": "light"
          }
        }
      ],
      "source": [
        "# Create a figure with multiple subplots\n",
        "fig, axs = plt.subplots(2, 3, figsize=(20, 8))\n",
        "\n",
        "# Add scatter plots to each subplot. Each scatter plot has a variable that is plotted against the Year column.\n",
        "axs[0, 0].scatter(df['Year'], df['MEI'])\n",
        "axs[0, 0].set_title('MEI')\n",
        "axs[0, 1].scatter(df['Year'], df['CO2'])\n",
        "axs[0, 1].set_title('CO2')\n",
        "axs[0, 2].scatter(df['Year'], df['CH4'])\n",
        "axs[0, 2].set_title('CH4')\n",
        "axs[1, 0].scatter(df['Year'], df['CFC-11'])\n",
        "axs[1, 0].set_title('CFC-11')\n",
        "axs[1, 1].scatter(df['Year'], df['CFC-12'])\n",
        "axs[1, 1].set_title('CFC-12')\n",
        "axs[1, 2].scatter(df['Year'], df['Temp'])\n",
        "axs[1, 2].set_title('Temp')"
      ]
    },
    {
      "cell_type": "code",
      "execution_count": null,
      "metadata": {
        "scrolled": false,
        "id": "RxBnIRNw-2J2",
        "outputId": "25c19bf3-d05b-4ce9-d6ca-bf4cd5057f02",
        "colab": {
          "base_uri": "https://localhost:8080/",
          "height": 286
        }
      },
      "outputs": [
        {
          "output_type": "display_data",
          "data": {
            "text/plain": [
              "<Figure size 576x360 with 0 Axes>"
            ]
          },
          "metadata": {}
        },
        {
          "output_type": "display_data",
          "data": {
            "text/plain": [
              "<Figure size 432x288 with 8 Axes>"
            ],
            "image/png": "[encoded data removed]"
          },
          "metadata": {
            "needs_background": "light"
          }
        }
      ],
      "source": [
        "plt.figure(figsize=(8,5))\n",
        "# plots box plots for each variable \n",
        "numerical = df[[\"MEI\", \"CO2\", \"CH4\", \"CFC-11\", \"CFC-12\", 'Temp']]\n",
        "numerical.plot(kind='box', subplots = True, layout=(2, 4))\n",
        "plt.show()"
      ]
    },
    {
      "cell_type": "markdown",
      "metadata": {
        "id": "hRiLLJug-2J3"
      },
      "source": [
        "### Assumptions\n",
        "Our team decided to determine outliers by crossreferencing the interquartile range method against visually observing outliers from scatter plots. Thus, we only consider removing data points if they are identified as outliers by both methods. We may not remove data points due to the nature of the data points, where it may be unpredictable.\n",
        "\n",
        "#### For MEI\n",
        "we do not consider outliers since there are no obvious outliers in the scatter plot\n",
        "\n",
        "#### For CH4\n",
        "we do not consider outliers as the interquartile range method does not identify any outliers\n",
        "\n",
        "#### For CFC-11\n",
        "we do not consider outliers as there are no obvious outliers in the scatter plot\n",
        "\n",
        "#### For CFC-12\n",
        "**we drop outliers since both methods identify the outliers clearly and the nature of the variable is not unpredictable**\n",
        "\n",
        "#### For CO2\n",
        "although there are 2 outliers shown in the scatter plot, we choose not to drop them since they are not identified by the interquartile range method\n",
        "\n",
        "#### For Temp\n",
        "since both methods do not identify any outliers, no values need to be dropped"
      ]
    },
    {
      "cell_type": "markdown",
      "metadata": {
        "id": "I95cYeVq-2J3"
      },
      "source": [
        "<i><b>CFC-12</b></i>"
      ]
    },
    {
      "cell_type": "code",
      "source": [
        "# function to calculate the IQR and returns the outliers\n",
        "def get_outliers(df, col):\n",
        "    Q1 = df[col].quantile(0.25)\n",
        "    Q3 = df[col].quantile(0.75)\n",
        "    IQR = Q3 - Q1\n",
        "    outliers = df[(df[col] < Q1 - 1.5 * IQR) | (df[col] > Q3 + 1.5 * IQR)]\n",
        "    return outliers"
      ],
      "metadata": {
        "id": "iMHxtGJdZ7O-"
      },
      "execution_count": null,
      "outputs": []
    },
    {
      "cell_type": "code",
      "execution_count": null,
      "metadata": {
        "scrolled": true,
        "id": "GRNYCPDb-2J3",
        "outputId": "ce0cc710-822e-4c3d-d26e-226048a806ce",
        "colab": {
          "base_uri": "https://localhost:8080/",
          "height": 331
        }
      },
      "outputs": [
        {
          "output_type": "execute_result",
          "data": {
            "text/plain": [
              "     Year  Month    MEI     CO2      CH4 N2O   CFC-11   CFC-12 TSI Aerosols  \\\n",
              "0    1983      5  2.556  345.96  1638.59   L  191.324  350.113   M        H   \n",
              "1    1983      6  2.167  345.52  1633.71   L  192.057  351.848   M        H   \n",
              "2    1983      7  1.741  344.15  1633.22   L  192.818  353.725   M        H   \n",
              "73   1989      6 -0.273  355.30  1713.80   L  253.793  263.793   M        M   \n",
              "114  1992     11  0.602  354.27  1755.29   L  270.886  280.886   M        H   \n",
              "132  1994      5  0.521  361.68  1755.04   L  270.691  280.691   M        H   \n",
              "133  1994      6  0.734  360.80  1746.61   L  270.516  280.516   M        M   \n",
              "227  2002      4  0.339  375.00  1782.47   L  259.574  269.574   H        L   \n",
              "287  2007      4 -0.049  386.40  1750.95   L  247.574  257.574   L        M   \n",
              "\n",
              "      Temp  \n",
              "0    0.109  \n",
              "1    0.118  \n",
              "2    0.137  \n",
              "73   0.094  \n",
              "114 -0.097  \n",
              "132  0.218  \n",
              "133  0.191  \n",
              "227  0.443  \n",
              "287  0.466  "
            ],
            "text/html": [
              "\n",
              "  <div id=\"df-84d045f1-21d0-4d12-a691-f1cf72d71236\">\n",
              "    <div class=\"colab-df-container\">\n",
              "      <div>\n",
              "<style scoped>\n",
              "    .dataframe tbody tr th:only-of-type {\n",
              "        vertical-align: middle;\n",
              "    }\n",
              "\n",
              "    .dataframe tbody tr th {\n",
              "        vertical-align: top;\n",
              "    }\n",
              "\n",
              "    .dataframe thead th {\n",
              "        text-align: right;\n",
              "    }\n",
              "</style>\n",
              "<table border=\"1\" class=\"dataframe\">\n",
              "  <thead>\n",
              "    <tr style=\"text-align: right;\">\n",
              "      <th></th>\n",
              "      <th>Year</th>\n",
              "      <th>Month</th>\n",
              "      <th>MEI</th>\n",
              "      <th>CO2</th>\n",
              "      <th>CH4</th>\n",
              "      <th>N2O</th>\n",
              "      <th>CFC-11</th>\n",
              "      <th>CFC-12</th>\n",
              "      <th>TSI</th>\n",
              "      <th>Aerosols</th>\n",
              "      <th>Temp</th>\n",
              "    </tr>\n",
              "  </thead>\n",
              "  <tbody>\n",
              "    <tr>\n",
              "      <th>0</th>\n",
              "      <td>1983</td>\n",
              "      <td>5</td>\n",
              "      <td>2.556</td>\n",
              "      <td>345.96</td>\n",
              "      <td>1638.59</td>\n",
              "      <td>L</td>\n",
              "      <td>191.324</td>\n",
              "      <td>350.113</td>\n",
              "      <td>M</td>\n",
              "      <td>H</td>\n",
              "      <td>0.109</td>\n",
              "    </tr>\n",
              "    <tr>\n",
              "      <th>1</th>\n",
              "      <td>1983</td>\n",
              "      <td>6</td>\n",
              "      <td>2.167</td>\n",
              "      <td>345.52</td>\n",
              "      <td>1633.71</td>\n",
              "      <td>L</td>\n",
              "      <td>192.057</td>\n",
              "      <td>351.848</td>\n",
              "      <td>M</td>\n",
              "      <td>H</td>\n",
              "      <td>0.118</td>\n",
              "    </tr>\n",
              "    <tr>\n",
              "      <th>2</th>\n",
              "      <td>1983</td>\n",
              "      <td>7</td>\n",
              "      <td>1.741</td>\n",
              "      <td>344.15</td>\n",
              "      <td>1633.22</td>\n",
              "      <td>L</td>\n",
              "      <td>192.818</td>\n",
              "      <td>353.725</td>\n",
              "      <td>M</td>\n",
              "      <td>H</td>\n",
              "      <td>0.137</td>\n",
              "    </tr>\n",
              "    <tr>\n",
              "      <th>73</th>\n",
              "      <td>1989</td>\n",
              "      <td>6</td>\n",
              "      <td>-0.273</td>\n",
              "      <td>355.30</td>\n",
              "      <td>1713.80</td>\n",
              "      <td>L</td>\n",
              "      <td>253.793</td>\n",
              "      <td>263.793</td>\n",
              "      <td>M</td>\n",
              "      <td>M</td>\n",
              "      <td>0.094</td>\n",
              "    </tr>\n",
              "    <tr>\n",
              "      <th>114</th>\n",
              "      <td>1992</td>\n",
              "      <td>11</td>\n",
              "      <td>0.602</td>\n",
              "      <td>354.27</td>\n",
              "      <td>1755.29</td>\n",
              "      <td>L</td>\n",
              "      <td>270.886</td>\n",
              "      <td>280.886</td>\n",
              "      <td>M</td>\n",
              "      <td>H</td>\n",
              "      <td>-0.097</td>\n",
              "    </tr>\n",
              "    <tr>\n",
              "      <th>132</th>\n",
              "      <td>1994</td>\n",
              "      <td>5</td>\n",
              "      <td>0.521</td>\n",
              "      <td>361.68</td>\n",
              "      <td>1755.04</td>\n",
              "      <td>L</td>\n",
              "      <td>270.691</td>\n",
              "      <td>280.691</td>\n",
              "      <td>M</td>\n",
              "      <td>H</td>\n",
              "      <td>0.218</td>\n",
              "    </tr>\n",
              "    <tr>\n",
              "      <th>133</th>\n",
              "      <td>1994</td>\n",
              "      <td>6</td>\n",
              "      <td>0.734</td>\n",
              "      <td>360.80</td>\n",
              "      <td>1746.61</td>\n",
              "      <td>L</td>\n",
              "      <td>270.516</td>\n",
              "      <td>280.516</td>\n",
              "      <td>M</td>\n",
              "      <td>M</td>\n",
              "      <td>0.191</td>\n",
              "    </tr>\n",
              "    <tr>\n",
              "      <th>227</th>\n",
              "      <td>2002</td>\n",
              "      <td>4</td>\n",
              "      <td>0.339</td>\n",
              "      <td>375.00</td>\n",
              "      <td>1782.47</td>\n",
              "      <td>L</td>\n",
              "      <td>259.574</td>\n",
              "      <td>269.574</td>\n",
              "      <td>H</td>\n",
              "      <td>L</td>\n",
              "      <td>0.443</td>\n",
              "    </tr>\n",
              "    <tr>\n",
              "      <th>287</th>\n",
              "      <td>2007</td>\n",
              "      <td>4</td>\n",
              "      <td>-0.049</td>\n",
              "      <td>386.40</td>\n",
              "      <td>1750.95</td>\n",
              "      <td>L</td>\n",
              "      <td>247.574</td>\n",
              "      <td>257.574</td>\n",
              "      <td>L</td>\n",
              "      <td>M</td>\n",
              "      <td>0.466</td>\n",
              "    </tr>\n",
              "  </tbody>\n",
              "</table>\n",
              "</div>\n",
              "      <button class=\"colab-df-convert\" onclick=\"convertToInteractive('df-84d045f1-21d0-4d12-a691-f1cf72d71236')\"\n",
              "              title=\"Convert this dataframe to an interactive table.\"\n",
              "              style=\"display:none;\">\n",
              "        \n",
              "  <svg xmlns=\"http://www.w3.org/2000/svg\" height=\"24px\"viewBox=\"0 0 24 24\"\n",
              "       width=\"24px\">\n",
              "    <path d=\"M0 0h24v24H0V0z\" fill=\"none\"/>\n",
              "    <path d=\"M18.56 5.44l.94 2.06.94-2.06 2.06-.94-2.06-.94-.94-2.06-.94 2.06-2.06.94zm-11 1L8.5 8.5l.94-2.06 2.06-.94-2.06-.94L8.5 2.5l-.94 2.06-2.06.94zm10 10l.94 2.06.94-2.06 2.06-.94-2.06-.94-.94-2.06-.94 2.06-2.06.94z\"/><path d=\"M17.41 7.96l-1.37-1.37c-.4-.4-.92-.59-1.43-.59-.52 0-1.04.2-1.43.59L10.3 9.45l-7.72 7.72c-.78.78-.78 2.05 0 2.83L4 21.41c.39.39.9.59 1.41.59.51 0 1.02-.2 1.41-.59l7.78-7.78 2.81-2.81c.8-.78.8-2.07 0-2.86zM5.41 20L4 18.59l7.72-7.72 1.47 1.35L5.41 20z\"/>\n",
              "  </svg>\n",
              "      </button>\n",
              "      \n",
              "  <style>\n",
              "    .colab-df-container {\n",
              "      display:flex;\n",
              "      flex-wrap:wrap;\n",
              "      gap: 12px;\n",
              "    }\n",
              "\n",
              "    .colab-df-convert {\n",
              "      background-color: #E8F0FE;\n",
              "      border: none;\n",
              "      border-radius: 50%;\n",
              "      cursor: pointer;\n",
              "      display: none;\n",
              "      fill: #1967D2;\n",
              "      height: 32px;\n",
              "      padding: 0 0 0 0;\n",
              "      width: 32px;\n",
              "    }\n",
              "\n",
              "    .colab-df-convert:hover {\n",
              "      background-color: #E2EBFA;\n",
              "      box-shadow: 0px 1px 2px rgba(60, 64, 67, 0.3), 0px 1px 3px 1px rgba(60, 64, 67, 0.15);\n",
              "      fill: #174EA6;\n",
              "    }\n",
              "\n",
              "    [theme=dark] .colab-df-convert {\n",
              "      background-color: #3B4455;\n",
              "      fill: #D2E3FC;\n",
              "    }\n",
              "\n",
              "    [theme=dark] .colab-df-convert:hover {\n",
              "      background-color: #434B5C;\n",
              "      box-shadow: 0px 1px 3px 1px rgba(0, 0, 0, 0.15);\n",
              "      filter: drop-shadow(0px 1px 2px rgba(0, 0, 0, 0.3));\n",
              "      fill: #FFFFFF;\n",
              "    }\n",
              "  </style>\n",
              "\n",
              "      <script>\n",
              "        const buttonEl =\n",
              "          document.querySelector('#df-84d045f1-21d0-4d12-a691-f1cf72d71236 button.colab-df-convert');\n",
              "        buttonEl.style.display =\n",
              "          google.colab.kernel.accessAllowed ? 'block' : 'none';\n",
              "\n",
              "        async function convertToInteractive(key) {\n",
              "          const element = document.querySelector('#df-84d045f1-21d0-4d12-a691-f1cf72d71236');\n",
              "          const dataTable =\n",
              "            await google.colab.kernel.invokeFunction('convertToInteractive',\n",
              "                                                     [key], {});\n",
              "          if (!dataTable) return;\n",
              "\n",
              "          const docLinkHtml = 'Like what you see? Visit the ' +\n",
              "            '<a target=\"_blank\" href=https://colab.research.google.com/notebooks/data_table.ipynb>data table notebook</a>'\n",
              "            + ' to learn more about interactive tables.';\n",
              "          element.innerHTML = '';\n",
              "          dataTable['output_type'] = 'display_data';\n",
              "          await google.colab.output.renderOutput(dataTable, element);\n",
              "          const docLink = document.createElement('div');\n",
              "          docLink.innerHTML = docLinkHtml;\n",
              "          element.appendChild(docLink);\n",
              "        }\n",
              "      </script>\n",
              "    </div>\n",
              "  </div>\n",
              "  "
            ]
          },
          "metadata": {},
          "execution_count": 53
        }
      ],
      "source": [
        "# get CFC-12 outliers \n",
        "get_outliers(df, 'CFC-12')"
      ]
    },
    {
      "cell_type": "code",
      "execution_count": null,
      "metadata": {
        "id": "gSG-_WQU-2J3"
      },
      "outputs": [],
      "source": [
        "# function to calculate the IQR and removes the outliers from the dataframe\n",
        "def remove_outliers(df, col):\n",
        "    Q1 = df[col].quantile(0.25)\n",
        "    Q3 = df[col].quantile(0.75)\n",
        "    IQR = Q3 - Q1\n",
        "    outliers = df[(df[col] < Q1 - 1.5 * IQR) | (df[col] > Q3 + 1.5 * IQR)]\n",
        "    return df.drop(outliers.index.values.tolist())"
      ]
    },
    {
      "cell_type": "code",
      "execution_count": null,
      "metadata": {
        "id": "egxbtijF-2J3"
      },
      "outputs": [],
      "source": [
        "# remove CFC-12 outliers from dataframe\n",
        "no_outliers_df = remove_outliers(df, 'CFC-12')"
      ]
    },
    {
      "cell_type": "code",
      "execution_count": null,
      "metadata": {
        "id": "pJ0KUVGh-2J3",
        "colab": {
          "base_uri": "https://localhost:8080/",
          "height": 516
        },
        "outputId": "749e0d50-4d29-4770-812a-253bd90a5547"
      },
      "outputs": [
        {
          "output_type": "execute_result",
          "data": {
            "text/plain": [
              "Text(0.5, 1.0, 'After CFC-12')"
            ]
          },
          "metadata": {},
          "execution_count": 18
        },
        {
          "output_type": "display_data",
          "data": {
            "text/plain": [
              "<Figure size 1440x576 with 2 Axes>"
            ],
            "image/png": "[encoded data removed]"
          },
          "metadata": {
            "needs_background": "light"
          }
        }
      ],
      "source": [
        "fig, axs = plt.subplots(1, 2, figsize=(20, 8))\n",
        "\n",
        "# Add scatter plots to each subplot. Each scatter plot has a variable that is plotted against the Year column.\n",
        "axs[0].scatter(df['Year'], df['CFC-12'])\n",
        "axs[0].set_title('Before CFC-12')\n",
        "axs[1].scatter(no_outliers_df['Year'], no_outliers_df['CFC-12'])\n",
        "axs[1].set_title('After CFC-12')"
      ]
    },
    {
      "cell_type": "markdown",
      "metadata": {
        "id": "z5BtSUPR-2J3"
      },
      "source": [
        "**c.** For categorical variables, perform the necessary encoding."
      ]
    },
    {
      "cell_type": "code",
      "execution_count": null,
      "metadata": {
        "id": "JMoYPUxu-2J3"
      },
      "outputs": [],
      "source": [
        "# since N2O data can take two values H or L, we encode them and 1 or 0 respectively\n",
        "N2O_mapper = {\"H\": 1, \"L\": 0}\n",
        "# since TSI data can take three values H, M or L, we encode them and 2, 1 or 0 respectively\n",
        "TSI_mapper = {\"H\": 2, \"M\": 1, \"L\": 0}\n",
        "# since Aerosols data can take three values H, M or L, we encode them and 2, 1 or 0 respectively\n",
        "Aerosols_mapper = {\"H\": 2, \"M\": 1, \"L\": 0}\n",
        "\n",
        "# replaces letter value in column with corresponding numerical values defined in mapping for encoding\n",
        "no_outliers_df['N2O_Encoded'] = no_outliers_df['N2O'].replace(N2O_mapper)\n",
        "no_outliers_df['TSI_Encoded'] = no_outliers_df['TSI'].replace(TSI_mapper)\n",
        "no_outliers_df['Aerosols_Encoded'] = no_outliers_df['Aerosols'].replace(Aerosols_mapper)"
      ]
    },
    {
      "cell_type": "markdown",
      "metadata": {
        "id": "c7mwRa3E-2J4"
      },
      "source": [
        "<i><b> Reasons for using Ordinal Encoding </b></i>\n",
        "\n",
        "The categories for N2O, TSI and Aerosols are hierarchical, hence we used Ordinal Encoding to take note of the categories"
      ]
    },
    {
      "cell_type": "markdown",
      "metadata": {
        "id": "NfVXywP0-2J4"
      },
      "source": [
        "### 3.\tExploratory analysis and visualization [50% of Part I]"
      ]
    },
    {
      "cell_type": "markdown",
      "metadata": {
        "id": "_8xklW0S-2J4"
      },
      "source": [
        "**a.** For each variable, provide relevant summary statistics"
      ]
    },
    {
      "cell_type": "markdown",
      "source": [
        "<i><b>Year</b></i>"
      ],
      "metadata": {
        "id": "qx_1BVC08Mzy"
      }
    },
    {
      "cell_type": "code",
      "source": [
        "# summary statistics for the column year\n",
        "df_year = no_outliers_df['Year'].unique()\n",
        "first_year = df_year[0]\n",
        "last_year = df_year[len(df_year) - 1]\n",
        "total_years = len(df_year)\n",
        "\n",
        "print(f'There are {total_years} years of data starting from {first_year} to {last_year}')"
      ],
      "metadata": {
        "id": "OtnfhPkp8Mmh",
        "colab": {
          "base_uri": "https://localhost:8080/"
        },
        "outputId": "b6598124-e22a-4b7e-9019-e308f6366fa7"
      },
      "execution_count": null,
      "outputs": [
        {
          "output_type": "stream",
          "name": "stdout",
          "text": [
            "There are 26 years of data starting from 1983 to 2008\n"
          ]
        }
      ]
    },
    {
      "cell_type": "markdown",
      "metadata": {
        "id": "CvEQszy2-2J4"
      },
      "source": [
        "<i><b>MEI, CO2, CH4, CFC-11, CFC-12, Temp</b></i>"
      ]
    },
    {
      "cell_type": "code",
      "execution_count": null,
      "metadata": {
        "scrolled": true,
        "id": "Y8BdY2rn-2J4",
        "colab": {
          "base_uri": "https://localhost:8080/",
          "height": 300
        },
        "outputId": "a7b6815a-d197-47eb-9f74-d18f5a02e531"
      },
      "outputs": [
        {
          "output_type": "execute_result",
          "data": {
            "text/plain": [
              "              MEI         CO2          CH4      CFC-11      CFC-12        Temp\n",
              "count  262.000000  262.000000   262.000000  262.000000  262.000000  262.000000\n",
              "mean     0.286924  363.522824  1750.169084  252.908721  499.639863    0.256756\n",
              "std      0.948393   12.634196    45.853097   18.989004   55.063573    0.176480\n",
              "min     -1.635000  340.170000  1629.890000  194.392000  357.465000   -0.282000\n",
              "25%     -0.417500  353.397500  1721.675000  246.473750  477.216250    0.126250\n",
              "50%      0.241000  361.905000  1762.170000  258.499500  528.519000    0.248000\n",
              "75%      0.878000  373.982500  1786.447500  267.309250  539.895250    0.405750\n",
              "max      3.001000  388.500000  1877.610000  271.494000  543.647000    0.739000"
            ],
            "text/html": [
              "\n",
              "  <div id=\"df-072366a5-3bfb-4936-b338-1cc7a2f4b874\">\n",
              "    <div class=\"colab-df-container\">\n",
              "      <div>\n",
              "<style scoped>\n",
              "    .dataframe tbody tr th:only-of-type {\n",
              "        vertical-align: middle;\n",
              "    }\n",
              "\n",
              "    .dataframe tbody tr th {\n",
              "        vertical-align: top;\n",
              "    }\n",
              "\n",
              "    .dataframe thead th {\n",
              "        text-align: right;\n",
              "    }\n",
              "</style>\n",
              "<table border=\"1\" class=\"dataframe\">\n",
              "  <thead>\n",
              "    <tr style=\"text-align: right;\">\n",
              "      <th></th>\n",
              "      <th>MEI</th>\n",
              "      <th>CO2</th>\n",
              "      <th>CH4</th>\n",
              "      <th>CFC-11</th>\n",
              "      <th>CFC-12</th>\n",
              "      <th>Temp</th>\n",
              "    </tr>\n",
              "  </thead>\n",
              "  <tbody>\n",
              "    <tr>\n",
              "      <th>count</th>\n",
              "      <td>262.000000</td>\n",
              "      <td>262.000000</td>\n",
              "      <td>262.000000</td>\n",
              "      <td>262.000000</td>\n",
              "      <td>262.000000</td>\n",
              "      <td>262.000000</td>\n",
              "    </tr>\n",
              "    <tr>\n",
              "      <th>mean</th>\n",
              "      <td>0.286924</td>\n",
              "      <td>363.522824</td>\n",
              "      <td>1750.169084</td>\n",
              "      <td>252.908721</td>\n",
              "      <td>499.639863</td>\n",
              "      <td>0.256756</td>\n",
              "    </tr>\n",
              "    <tr>\n",
              "      <th>std</th>\n",
              "      <td>0.948393</td>\n",
              "      <td>12.634196</td>\n",
              "      <td>45.853097</td>\n",
              "      <td>18.989004</td>\n",
              "      <td>55.063573</td>\n",
              "      <td>0.176480</td>\n",
              "    </tr>\n",
              "    <tr>\n",
              "      <th>min</th>\n",
              "      <td>-1.635000</td>\n",
              "      <td>340.170000</td>\n",
              "      <td>1629.890000</td>\n",
              "      <td>194.392000</td>\n",
              "      <td>357.465000</td>\n",
              "      <td>-0.282000</td>\n",
              "    </tr>\n",
              "    <tr>\n",
              "      <th>25%</th>\n",
              "      <td>-0.417500</td>\n",
              "      <td>353.397500</td>\n",
              "      <td>1721.675000</td>\n",
              "      <td>246.473750</td>\n",
              "      <td>477.216250</td>\n",
              "      <td>0.126250</td>\n",
              "    </tr>\n",
              "    <tr>\n",
              "      <th>50%</th>\n",
              "      <td>0.241000</td>\n",
              "      <td>361.905000</td>\n",
              "      <td>1762.170000</td>\n",
              "      <td>258.499500</td>\n",
              "      <td>528.519000</td>\n",
              "      <td>0.248000</td>\n",
              "    </tr>\n",
              "    <tr>\n",
              "      <th>75%</th>\n",
              "      <td>0.878000</td>\n",
              "      <td>373.982500</td>\n",
              "      <td>1786.447500</td>\n",
              "      <td>267.309250</td>\n",
              "      <td>539.895250</td>\n",
              "      <td>0.405750</td>\n",
              "    </tr>\n",
              "    <tr>\n",
              "      <th>max</th>\n",
              "      <td>3.001000</td>\n",
              "      <td>388.500000</td>\n",
              "      <td>1877.610000</td>\n",
              "      <td>271.494000</td>\n",
              "      <td>543.647000</td>\n",
              "      <td>0.739000</td>\n",
              "    </tr>\n",
              "  </tbody>\n",
              "</table>\n",
              "</div>\n",
              "      <button class=\"colab-df-convert\" onclick=\"convertToInteractive('df-072366a5-3bfb-4936-b338-1cc7a2f4b874')\"\n",
              "              title=\"Convert this dataframe to an interactive table.\"\n",
              "              style=\"display:none;\">\n",
              "        \n",
              "  <svg xmlns=\"http://www.w3.org/2000/svg\" height=\"24px\"viewBox=\"0 0 24 24\"\n",
              "       width=\"24px\">\n",
              "    <path d=\"M0 0h24v24H0V0z\" fill=\"none\"/>\n",
              "    <path d=\"M18.56 5.44l.94 2.06.94-2.06 2.06-.94-2.06-.94-.94-2.06-.94 2.06-2.06.94zm-11 1L8.5 8.5l.94-2.06 2.06-.94-2.06-.94L8.5 2.5l-.94 2.06-2.06.94zm10 10l.94 2.06.94-2.06 2.06-.94-2.06-.94-.94-2.06-.94 2.06-2.06.94z\"/><path d=\"M17.41 7.96l-1.37-1.37c-.4-.4-.92-.59-1.43-.59-.52 0-1.04.2-1.43.59L10.3 9.45l-7.72 7.72c-.78.78-.78 2.05 0 2.83L4 21.41c.39.39.9.59 1.41.59.51 0 1.02-.2 1.41-.59l7.78-7.78 2.81-2.81c.8-.78.8-2.07 0-2.86zM5.41 20L4 18.59l7.72-7.72 1.47 1.35L5.41 20z\"/>\n",
              "  </svg>\n",
              "      </button>\n",
              "      \n",
              "  <style>\n",
              "    .colab-df-container {\n",
              "      display:flex;\n",
              "      flex-wrap:wrap;\n",
              "      gap: 12px;\n",
              "    }\n",
              "\n",
              "    .colab-df-convert {\n",
              "      background-color: #E8F0FE;\n",
              "      border: none;\n",
              "      border-radius: 50%;\n",
              "      cursor: pointer;\n",
              "      display: none;\n",
              "      fill: #1967D2;\n",
              "      height: 32px;\n",
              "      padding: 0 0 0 0;\n",
              "      width: 32px;\n",
              "    }\n",
              "\n",
              "    .colab-df-convert:hover {\n",
              "      background-color: #E2EBFA;\n",
              "      box-shadow: 0px 1px 2px rgba(60, 64, 67, 0.3), 0px 1px 3px 1px rgba(60, 64, 67, 0.15);\n",
              "      fill: #174EA6;\n",
              "    }\n",
              "\n",
              "    [theme=dark] .colab-df-convert {\n",
              "      background-color: #3B4455;\n",
              "      fill: #D2E3FC;\n",
              "    }\n",
              "\n",
              "    [theme=dark] .colab-df-convert:hover {\n",
              "      background-color: #434B5C;\n",
              "      box-shadow: 0px 1px 3px 1px rgba(0, 0, 0, 0.15);\n",
              "      filter: drop-shadow(0px 1px 2px rgba(0, 0, 0, 0.3));\n",
              "      fill: #FFFFFF;\n",
              "    }\n",
              "  </style>\n",
              "\n",
              "      <script>\n",
              "        const buttonEl =\n",
              "          document.querySelector('#df-072366a5-3bfb-4936-b338-1cc7a2f4b874 button.colab-df-convert');\n",
              "        buttonEl.style.display =\n",
              "          google.colab.kernel.accessAllowed ? 'block' : 'none';\n",
              "\n",
              "        async function convertToInteractive(key) {\n",
              "          const element = document.querySelector('#df-072366a5-3bfb-4936-b338-1cc7a2f4b874');\n",
              "          const dataTable =\n",
              "            await google.colab.kernel.invokeFunction('convertToInteractive',\n",
              "                                                     [key], {});\n",
              "          if (!dataTable) return;\n",
              "\n",
              "          const docLinkHtml = 'Like what you see? Visit the ' +\n",
              "            '<a target=\"_blank\" href=https://colab.research.google.com/notebooks/data_table.ipynb>data table notebook</a>'\n",
              "            + ' to learn more about interactive tables.';\n",
              "          element.innerHTML = '';\n",
              "          dataTable['output_type'] = 'display_data';\n",
              "          await google.colab.output.renderOutput(dataTable, element);\n",
              "          const docLink = document.createElement('div');\n",
              "          docLink.innerHTML = docLinkHtml;\n",
              "          element.appendChild(docLink);\n",
              "        }\n",
              "      </script>\n",
              "    </div>\n",
              "  </div>\n",
              "  "
            ]
          },
          "metadata": {},
          "execution_count": 21
        }
      ],
      "source": [
        "# summary statistics for numerical data\n",
        "df_numerics = no_outliers_df[[\"MEI\",\"CO2\",\"CH4\",\"CFC-11\",\"CFC-12\",\"Temp\"]]\n",
        "df_numerics.describe()"
      ]
    },
    {
      "cell_type": "markdown",
      "metadata": {
        "id": "fTF-D8qN-2J4"
      },
      "source": [
        "<i><b>N2O, TSI, Aerosols</b></i>"
      ]
    },
    {
      "cell_type": "code",
      "execution_count": null,
      "metadata": {
        "id": "TkymlKJC-2J4",
        "colab": {
          "base_uri": "https://localhost:8080/",
          "height": 174
        },
        "outputId": "5bebbce1-5c75-4153-8759-5013b5197533"
      },
      "outputs": [
        {
          "output_type": "execute_result",
          "data": {
            "text/plain": [
              "        N2O  TSI Aerosols\n",
              "count   262  262      262\n",
              "unique    2    3        3\n",
              "top       L    M        M\n",
              "freq    254  134      127"
            ],
            "text/html": [
              "\n",
              "  <div id=\"df-089fd967-7f04-4c67-b800-c3893c8ea26d\">\n",
              "    <div class=\"colab-df-container\">\n",
              "      <div>\n",
              "<style scoped>\n",
              "    .dataframe tbody tr th:only-of-type {\n",
              "        vertical-align: middle;\n",
              "    }\n",
              "\n",
              "    .dataframe tbody tr th {\n",
              "        vertical-align: top;\n",
              "    }\n",
              "\n",
              "    .dataframe thead th {\n",
              "        text-align: right;\n",
              "    }\n",
              "</style>\n",
              "<table border=\"1\" class=\"dataframe\">\n",
              "  <thead>\n",
              "    <tr style=\"text-align: right;\">\n",
              "      <th></th>\n",
              "      <th>N2O</th>\n",
              "      <th>TSI</th>\n",
              "      <th>Aerosols</th>\n",
              "    </tr>\n",
              "  </thead>\n",
              "  <tbody>\n",
              "    <tr>\n",
              "      <th>count</th>\n",
              "      <td>262</td>\n",
              "      <td>262</td>\n",
              "      <td>262</td>\n",
              "    </tr>\n",
              "    <tr>\n",
              "      <th>unique</th>\n",
              "      <td>2</td>\n",
              "      <td>3</td>\n",
              "      <td>3</td>\n",
              "    </tr>\n",
              "    <tr>\n",
              "      <th>top</th>\n",
              "      <td>L</td>\n",
              "      <td>M</td>\n",
              "      <td>M</td>\n",
              "    </tr>\n",
              "    <tr>\n",
              "      <th>freq</th>\n",
              "      <td>254</td>\n",
              "      <td>134</td>\n",
              "      <td>127</td>\n",
              "    </tr>\n",
              "  </tbody>\n",
              "</table>\n",
              "</div>\n",
              "      <button class=\"colab-df-convert\" onclick=\"convertToInteractive('df-089fd967-7f04-4c67-b800-c3893c8ea26d')\"\n",
              "              title=\"Convert this dataframe to an interactive table.\"\n",
              "              style=\"display:none;\">\n",
              "        \n",
              "  <svg xmlns=\"http://www.w3.org/2000/svg\" height=\"24px\"viewBox=\"0 0 24 24\"\n",
              "       width=\"24px\">\n",
              "    <path d=\"M0 0h24v24H0V0z\" fill=\"none\"/>\n",
              "    <path d=\"M18.56 5.44l.94 2.06.94-2.06 2.06-.94-2.06-.94-.94-2.06-.94 2.06-2.06.94zm-11 1L8.5 8.5l.94-2.06 2.06-.94-2.06-.94L8.5 2.5l-.94 2.06-2.06.94zm10 10l.94 2.06.94-2.06 2.06-.94-2.06-.94-.94-2.06-.94 2.06-2.06.94z\"/><path d=\"M17.41 7.96l-1.37-1.37c-.4-.4-.92-.59-1.43-.59-.52 0-1.04.2-1.43.59L10.3 9.45l-7.72 7.72c-.78.78-.78 2.05 0 2.83L4 21.41c.39.39.9.59 1.41.59.51 0 1.02-.2 1.41-.59l7.78-7.78 2.81-2.81c.8-.78.8-2.07 0-2.86zM5.41 20L4 18.59l7.72-7.72 1.47 1.35L5.41 20z\"/>\n",
              "  </svg>\n",
              "      </button>\n",
              "      \n",
              "  <style>\n",
              "    .colab-df-container {\n",
              "      display:flex;\n",
              "      flex-wrap:wrap;\n",
              "      gap: 12px;\n",
              "    }\n",
              "\n",
              "    .colab-df-convert {\n",
              "      background-color: #E8F0FE;\n",
              "      border: none;\n",
              "      border-radius: 50%;\n",
              "      cursor: pointer;\n",
              "      display: none;\n",
              "      fill: #1967D2;\n",
              "      height: 32px;\n",
              "      padding: 0 0 0 0;\n",
              "      width: 32px;\n",
              "    }\n",
              "\n",
              "    .colab-df-convert:hover {\n",
              "      background-color: #E2EBFA;\n",
              "      box-shadow: 0px 1px 2px rgba(60, 64, 67, 0.3), 0px 1px 3px 1px rgba(60, 64, 67, 0.15);\n",
              "      fill: #174EA6;\n",
              "    }\n",
              "\n",
              "    [theme=dark] .colab-df-convert {\n",
              "      background-color: #3B4455;\n",
              "      fill: #D2E3FC;\n",
              "    }\n",
              "\n",
              "    [theme=dark] .colab-df-convert:hover {\n",
              "      background-color: #434B5C;\n",
              "      box-shadow: 0px 1px 3px 1px rgba(0, 0, 0, 0.15);\n",
              "      filter: drop-shadow(0px 1px 2px rgba(0, 0, 0, 0.3));\n",
              "      fill: #FFFFFF;\n",
              "    }\n",
              "  </style>\n",
              "\n",
              "      <script>\n",
              "        const buttonEl =\n",
              "          document.querySelector('#df-089fd967-7f04-4c67-b800-c3893c8ea26d button.colab-df-convert');\n",
              "        buttonEl.style.display =\n",
              "          google.colab.kernel.accessAllowed ? 'block' : 'none';\n",
              "\n",
              "        async function convertToInteractive(key) {\n",
              "          const element = document.querySelector('#df-089fd967-7f04-4c67-b800-c3893c8ea26d');\n",
              "          const dataTable =\n",
              "            await google.colab.kernel.invokeFunction('convertToInteractive',\n",
              "                                                     [key], {});\n",
              "          if (!dataTable) return;\n",
              "\n",
              "          const docLinkHtml = 'Like what you see? Visit the ' +\n",
              "            '<a target=\"_blank\" href=https://colab.research.google.com/notebooks/data_table.ipynb>data table notebook</a>'\n",
              "            + ' to learn more about interactive tables.';\n",
              "          element.innerHTML = '';\n",
              "          dataTable['output_type'] = 'display_data';\n",
              "          await google.colab.output.renderOutput(dataTable, element);\n",
              "          const docLink = document.createElement('div');\n",
              "          docLink.innerHTML = docLinkHtml;\n",
              "          element.appendChild(docLink);\n",
              "        }\n",
              "      </script>\n",
              "    </div>\n",
              "  </div>\n",
              "  "
            ]
          },
          "metadata": {},
          "execution_count": 22
        }
      ],
      "source": [
        "# summary statistics for categorical data\n",
        "no_outliers_df.describe(include=\"object\")"
      ]
    },
    {
      "cell_type": "markdown",
      "metadata": {
        "id": "ItXQ21Nz-2J5"
      },
      "source": [
        "**b.** For each variable, provide an appropriate visualisation depicting the distribution of its values, and summarize any key observation(s) you made."
      ]
    },
    {
      "cell_type": "markdown",
      "metadata": {
        "id": "U3JmRqmO-2J5"
      },
      "source": [
        "**Response.** "
      ]
    },
    {
      "cell_type": "markdown",
      "metadata": {
        "id": "m80QJWNq-2J5"
      },
      "source": [
        "##### MEI Multivariate El Nino Southern Oscillation Index (MEI) and Year"
      ]
    },
    {
      "cell_type": "code",
      "execution_count": null,
      "metadata": {
        "id": "uzpPYJ9p-2J5",
        "colab": {
          "base_uri": "https://localhost:8080/",
          "height": 355
        },
        "outputId": "45ac864f-e6fc-44ff-dbdf-293133574290"
      },
      "outputs": [
        {
          "output_type": "display_data",
          "data": {
            "text/plain": [
              "<Figure size 576x360 with 1 Axes>"
            ],
            "image/png": "[encoded data removed]"
          },
          "metadata": {
            "needs_background": "light"
          }
        }
      ],
      "source": [
        "# plot the histogram for MEI value distribution\n",
        "plt.figure(figsize=(8,5))\n",
        "plt.title(\"Distribution by MEI Value\", fontsize=15)\n",
        "plt.xlabel(\"Value\", fontsize=12)\n",
        "plt.ylabel(\"Num. of months\", fontsize=12)\n",
        "no_outliers_df[\"MEI\"].hist(bins=10)\n",
        "plt.show()"
      ]
    },
    {
      "cell_type": "markdown",
      "metadata": {
        "id": "KQ2uhPzN-2J5"
      },
      "source": [
        "The MEI value has a larger distribution towards the 0 value instead of having a uniform distribution. This means that even though the MEI values follow a trend of 3 to 7 years as according to our research, most of the time the effects of El Nino and La Nina are not too significant on the temperature of the ocean body.\n"
      ]
    },
    {
      "cell_type": "code",
      "source": [
        "#plot a box plot for MEI\n",
        "plt.figure(figsize=(8,5))\n",
        "numerical = no_outliers_df[\"MEI\"]\n",
        "numerical.plot(kind='box', layout=(2, 4))\n",
        "plt.show()"
      ],
      "metadata": {
        "id": "5dOmEqdU2KBH",
        "colab": {
          "base_uri": "https://localhost:8080/",
          "height": 320
        },
        "outputId": "5d0ef0b9-db78-440c-d9f2-8ba2cd4c2440"
      },
      "execution_count": null,
      "outputs": [
        {
          "output_type": "display_data",
          "data": {
            "text/plain": [
              "<Figure size 576x360 with 1 Axes>"
            ],
            "image/png": "[encoded data removed]"
          },
          "metadata": {
            "needs_background": "light"
          }
        }
      ]
    },
    {
      "cell_type": "markdown",
      "source": [
        "The MEI value box plot shows that the data points are concentrated between -1 and 1 values, suggesting that effects of El Nino and La Nina are generally not strong. However, the data point outside the whiskers of the box plot suggests that the effects of El Nino or La Nina can still have significance on the temperature of the water body even though it is not a common occurence."
      ],
      "metadata": {
        "id": "yMVexQVq4n_w"
      }
    },
    {
      "cell_type": "code",
      "execution_count": null,
      "metadata": {
        "id": "pCm3z2kY-2J5",
        "colab": {
          "base_uri": "https://localhost:8080/",
          "height": 372
        },
        "outputId": "0bdac585-ea41-4dff-a71f-ec0f0b3360d5"
      },
      "outputs": [
        {
          "output_type": "execute_result",
          "data": {
            "text/plain": [
              "<function matplotlib.pyplot.show(close=None, block=None)>"
            ]
          },
          "metadata": {},
          "execution_count": 25
        },
        {
          "output_type": "display_data",
          "data": {
            "text/plain": [
              "<Figure size 576x360 with 1 Axes>"
            ],
            "image/png": "[encoded data removed]"
          },
          "metadata": {
            "needs_background": "light"
          }
        }
      ],
      "source": [
        "#separate the data into positive and negative categories\n",
        "categories_MEI = ['Negative', 'Positive']\n",
        "bins_MEI = [-10, 0, 10]\n",
        "no_outliers_df['MEI_category'] = pd.cut(no_outliers_df['MEI'], bins = bins_MEI, labels = categories_MEI)\n",
        "\n",
        "#to determine x axis and y axis\n",
        "data_MEI = no_outliers_df[\"MEI_category\"].value_counts()\n",
        "xs_MEI = data_MEI.index\n",
        "ys_MEI = data_MEI\n",
        "\n",
        "#bar chart to show the distribution between positive and negative MEI values\n",
        "plt.figure(figsize = (8,5))\n",
        "plt.bar(xs_MEI,ys_MEI)\n",
        "plt.title(\"MEI distribution\", fontsize=15)\n",
        "plt.ylabel(\"occurences in Category\", fontsize = 12)\n",
        "plt.xlabel(\"Category\", fontsize = 12)\n",
        "plt.show"
      ]
    },
    {
      "cell_type": "markdown",
      "source": [
        "The MEI values have a distinction between the positive and negative values to represent the warming effects of El Nino and the cooling effects of La Nina respectively. The higher number of occurences of positive MEI values suggests that the effects of El Nino are generally more present and frequent as compared to the effects of La Nina. "
      ],
      "metadata": {
        "id": "_ydUc4cxEf1o"
      }
    },
    {
      "cell_type": "markdown",
      "metadata": {
        "id": "Ry8DZsaH-2J5"
      },
      "source": [
        "##### CO2 "
      ]
    },
    {
      "cell_type": "code",
      "execution_count": null,
      "metadata": {
        "id": "n23hdMWK-2J5",
        "colab": {
          "base_uri": "https://localhost:8080/",
          "height": 355
        },
        "outputId": "3a40a16d-03f8-442d-a8e2-a0e77f6a1ef5"
      },
      "outputs": [
        {
          "output_type": "display_data",
          "data": {
            "text/plain": [
              "<Figure size 576x360 with 1 Axes>"
            ],
            "image/png": "[encoded data removed]"
          },
          "metadata": {
            "needs_background": "light"
          }
        }
      ],
      "source": [
        "# plot the histogram distribution\n",
        "plt.figure(figsize=(8,5))\n",
        "plt.title(\"Distribution by CO2 Value (parts per million by volume)\", fontsize=15)\n",
        "plt.xlabel(\"Parts per million by volume\", fontsize=12)\n",
        "plt.ylabel(\"Num. of months\", fontsize=12)\n",
        "no_outliers_df[\"CO2\"].hist(bins=10)\n",
        "plt.show()"
      ]
    },
    {
      "cell_type": "markdown",
      "source": [
        "The histogram shows that the values for CO2 is right skewed. It has a single peak at around 355 parts per million by volume atmospheric concentration. The right skew suggests that there are more values of CO2 having an atmospheric concentration above 355 parts per million by volume than below 355 parts per million by volume."
      ],
      "metadata": {
        "id": "dtSU0KAl5x-f"
      }
    },
    {
      "cell_type": "code",
      "source": [
        "# plot a box plot for CO2\n",
        "plt.figure(figsize=(8,5))\n",
        "numerical = no_outliers_df[\"CO2\"]\n",
        "numerical.plot(kind='box', layout=(2, 4))\n",
        "plt.show()"
      ],
      "metadata": {
        "id": "bMo4Dtie2j1N",
        "colab": {
          "base_uri": "https://localhost:8080/",
          "height": 320
        },
        "outputId": "ef18b957-a8b9-44cb-fb51-0dbf587f708a"
      },
      "execution_count": null,
      "outputs": [
        {
          "output_type": "display_data",
          "data": {
            "text/plain": [
              "<Figure size 576x360 with 1 Axes>"
            ],
            "image/png": "[encoded data removed]"
          },
          "metadata": {
            "needs_background": "light"
          }
        }
      ]
    },
    {
      "cell_type": "markdown",
      "source": [
        "The box plot for CO2 shows that CO2 has no outliers as there are no points beyond the whiskers."
      ],
      "metadata": {
        "id": "rbE4YJy2QSos"
      }
    },
    {
      "cell_type": "markdown",
      "metadata": {
        "id": "O0lX_6Sg-2J5"
      },
      "source": [
        "##### CH4"
      ]
    },
    {
      "cell_type": "code",
      "execution_count": null,
      "metadata": {
        "id": "RuJXp6LX-2J5",
        "colab": {
          "base_uri": "https://localhost:8080/",
          "height": 355
        },
        "outputId": "b39c5761-5f2f-4528-9bdf-723811999b34"
      },
      "outputs": [
        {
          "output_type": "display_data",
          "data": {
            "text/plain": [
              "<Figure size 576x360 with 1 Axes>"
            ],
            "image/png": "[encoded data removed]"
          },
          "metadata": {
            "needs_background": "light"
          }
        }
      ],
      "source": [
        "# plot the histogram for CH4 value distribution\n",
        "plt.figure(figsize=(8,5))\n",
        "plt.title(\"Distribution by CH4 Value (parts per million by volume)\", fontsize=15)\n",
        "plt.xlabel(\"Parts per million by volume\", fontsize=12)\n",
        "plt.ylabel(\"Num. of months\", fontsize=12)\n",
        "no_outliers_df[\"CH4\"].hist(bins=10)\n",
        "plt.show()"
      ]
    },
    {
      "cell_type": "markdown",
      "source": [
        "The shape of the CH4 histogram is skewed to the left, with a single peak at around 1780-1790 parts per million by volume. The skew to the left indicates that there are more values lower than 1780-1790 parts per million by volume than values higher than 1780-1790 parts per million by volume."
      ],
      "metadata": {
        "id": "tm8x2J8_28hV"
      }
    },
    {
      "cell_type": "code",
      "source": [
        "# plot a box plot for CO2 values\n",
        "plt.figure(figsize=(8,5))\n",
        "numerical = no_outliers_df[\"CH4\"]\n",
        "numerical.plot(kind='box', layout=(2, 4))\n",
        "plt.show()"
      ],
      "metadata": {
        "id": "hLjY_Ydr2q9m",
        "colab": {
          "base_uri": "https://localhost:8080/",
          "height": 320
        },
        "outputId": "6ff2a635-e461-4b3e-9ef7-d770c08a36a6"
      },
      "execution_count": null,
      "outputs": [
        {
          "output_type": "display_data",
          "data": {
            "text/plain": [
              "<Figure size 576x360 with 1 Axes>"
            ],
            "image/png": "[encoded data removed]"
          },
          "metadata": {
            "needs_background": "light"
          }
        }
      ]
    },
    {
      "cell_type": "markdown",
      "source": [
        "In the CH4 box plot, there are no outliers, which are data points beyond the whiskers. The box is relatively narrow, indicating that the interquartile range of the data is small, and that the majority of CH4 values are within a relatively tight range."
      ],
      "metadata": {
        "id": "FSdFpe-Q4e8V"
      }
    },
    {
      "cell_type": "markdown",
      "metadata": {
        "id": "BUZiXZDb-2J5"
      },
      "source": [
        "##### N2O"
      ]
    },
    {
      "cell_type": "code",
      "execution_count": null,
      "metadata": {
        "id": "lPr-Ia9W-2J5",
        "colab": {
          "base_uri": "https://localhost:8080/",
          "height": 372
        },
        "outputId": "8e96f2e6-cc71-40a5-85e4-8fedb8f0a546"
      },
      "outputs": [
        {
          "output_type": "execute_result",
          "data": {
            "text/plain": [
              "<function matplotlib.pyplot.show(close=None, block=None)>"
            ]
          },
          "metadata": {},
          "execution_count": 30
        },
        {
          "output_type": "display_data",
          "data": {
            "text/plain": [
              "<Figure size 576x360 with 1 Axes>"
            ],
            "image/png": "[encoded data removed]"
          },
          "metadata": {
            "needs_background": "light"
          }
        }
      ],
      "source": [
        "# plot a bar chart to see the general distribution of N2O categories\n",
        "\n",
        "data = no_outliers_df[\"N2O\"].value_counts()\n",
        "\n",
        "xs_N2O = data.index\n",
        "ys_N2O = data\n",
        "\n",
        "plt.figure(figsize = (8,5))\n",
        "plt.barh(xs_N2O,ys_N2O)\n",
        "plt.title(\"N2O distribution\", fontsize=15)\n",
        "plt.xlabel(\"Occurences in category\", fontsize = 12)\n",
        "plt.ylabel(\"Category\", fontsize = 12)\n",
        "plt.show"
      ]
    },
    {
      "cell_type": "markdown",
      "source": [
        "The graph shows a distribution of N2O to generally be in the low category. As information regarding how the categories low and high are determined is not described in the data dictionary, we are unable to determine if the data given is accurate in determining the low and high that led to such a difference in the number of high against the majority lows, or if it was due to the temperatures recorded really being this unbalanced."
      ],
      "metadata": {
        "id": "UbShOysLK_Xn"
      }
    },
    {
      "cell_type": "markdown",
      "metadata": {
        "id": "S4mw8KES-2J6"
      },
      "source": [
        "##### CFC-11"
      ]
    },
    {
      "cell_type": "code",
      "execution_count": null,
      "metadata": {
        "id": "10gjzG48-2J6",
        "colab": {
          "base_uri": "https://localhost:8080/",
          "height": 355
        },
        "outputId": "039bdbc5-039f-4361-bf33-819120ac7809"
      },
      "outputs": [
        {
          "output_type": "display_data",
          "data": {
            "text/plain": [
              "<Figure size 576x360 with 1 Axes>"
            ],
            "image/png": "[encoded data removed]"
          },
          "metadata": {
            "needs_background": "light"
          }
        }
      ],
      "source": [
        "# plot the histogram for CFC-11 distribution\n",
        "plt.figure(figsize=(8,5))\n",
        "plt.title(\"Distribution by CFC-11 (parts per million by volume)\", fontsize=15)\n",
        "plt.xlabel(\"Parts per million by volume\", fontsize=12)\n",
        "plt.ylabel(\"Num. of months\", fontsize=12)\n",
        "no_outliers_df[\"CFC-11\"].hist(bins=10)\n",
        "plt.show()"
      ]
    },
    {
      "cell_type": "markdown",
      "source": [
        "The distribution of CFC-11 values is left-skewed, with the mode at an atmospheric concentration of around 270 parts per million by volume with 100 occurrences. The left skew suggests that the majority of values lie above 240 parts per million by volume. Since there are significant occurences of the values outside the peak, it suggests that there could have been a sharp change in values over the year."
      ],
      "metadata": {
        "id": "ahvoTp5qDGlq"
      }
    },
    {
      "cell_type": "code",
      "source": [
        "# plot a box plot for CFC-11\n",
        "plt.figure(figsize=(8,5))\n",
        "numerical = no_outliers_df[\"CFC-11\"]\n",
        "numerical.plot(kind='box', layout=(2, 4))\n",
        "plt.show()"
      ],
      "metadata": {
        "id": "b5CwEev53UDv",
        "colab": {
          "base_uri": "https://localhost:8080/",
          "height": 320
        },
        "outputId": "f6801d9b-8f9d-40aa-a3f2-4d162bbbbece"
      },
      "execution_count": null,
      "outputs": [
        {
          "output_type": "display_data",
          "data": {
            "text/plain": [
              "<Figure size 576x360 with 1 Axes>"
            ],
            "image/png": "[encoded data removed]"
          },
          "metadata": {
            "needs_background": "light"
          }
        }
      ]
    },
    {
      "cell_type": "markdown",
      "source": [
        "There are many values that lie outside the whiskers of the box plot, which could suggest a large number of outliers. However, the histogram suggests that the CFC-11 data points below 210 parts per million by volume contribute to a significant amount of the data, which explains the points outside the whiskers as merely a sudden change in values."
      ],
      "metadata": {
        "id": "j7U8jHnF5GEm"
      }
    },
    {
      "cell_type": "markdown",
      "metadata": {
        "id": "y3gfTFlF-2J6"
      },
      "source": [
        "##### CFC-12"
      ]
    },
    {
      "cell_type": "code",
      "execution_count": null,
      "metadata": {
        "scrolled": false,
        "id": "seND5bXy-2J6",
        "colab": {
          "base_uri": "https://localhost:8080/",
          "height": 355
        },
        "outputId": "955b60f8-a37b-4bc8-90c6-48d9480bb8ab"
      },
      "outputs": [
        {
          "output_type": "display_data",
          "data": {
            "text/plain": [
              "<Figure size 576x360 with 1 Axes>"
            ],
            "image/png": "[encoded data removed]"
          },
          "metadata": {
            "needs_background": "light"
          }
        }
      ],
      "source": [
        "# plot the histogram for the CFC-12 distribution\n",
        "plt.figure(figsize=(8,5))\n",
        "plt.title(\"Distribution by CFC-12 (parts per million by volume)\", fontsize=15)\n",
        "plt.xlabel(\"Parts per million by volume\", fontsize=12)\n",
        "plt.ylabel(\"Num. of months\", fontsize=12)\n",
        "no_outliers_df[\"CFC-12\"].hist(bins=10)\n",
        "plt.show()"
      ]
    },
    {
      "cell_type": "markdown",
      "source": [
        "The distribution of the occurences of CFC-12 is concentrated near 530 parts per million per volume but almost a 7 times smaller distribution of the other values that are below 530 parts per million by volume. This suggests that there is likely a steep change of the values over the years to cause the huge difference in distribution."
      ],
      "metadata": {
        "id": "kR33xc3h5t9e"
      }
    },
    {
      "cell_type": "code",
      "source": [
        "# plot a box plot for CFC-12\n",
        "plt.figure(figsize=(8,5))\n",
        "numerical = no_outliers_df[\"CFC-12\"]\n",
        "numerical.plot(kind='box', layout=(2, 4))\n",
        "plt.show()"
      ],
      "metadata": {
        "id": "KDSd4Fl_3Z_c",
        "colab": {
          "base_uri": "https://localhost:8080/",
          "height": 320
        },
        "outputId": "aa728f01-d40c-45c6-fe5c-dcb54ec5e756"
      },
      "execution_count": null,
      "outputs": [
        {
          "output_type": "display_data",
          "data": {
            "text/plain": [
              "<Figure size 576x360 with 1 Axes>"
            ],
            "image/png": "[encoded data removed]"
          },
          "metadata": {
            "needs_background": "light"
          }
        }
      ]
    },
    {
      "cell_type": "markdown",
      "source": [
        "The box plot suggests that there is a large number of values outside the whiskers of the box plot, which is below 400 parts per million by volume. However, due to the distribution of the CFC-12 values as determined in the histogram chart, it implies that there could have been a sudden change in values which resulted in the observation made."
      ],
      "metadata": {
        "id": "19nUwQkeHfOY"
      }
    },
    {
      "cell_type": "markdown",
      "metadata": {
        "id": "BmMSKw3j-2J6"
      },
      "source": [
        "##### TSI"
      ]
    },
    {
      "cell_type": "code",
      "execution_count": null,
      "metadata": {
        "id": "qOJbUWbb-2J6",
        "colab": {
          "base_uri": "https://localhost:8080/",
          "height": 372
        },
        "outputId": "8dfd3f1c-ef4e-44a9-dd26-fbfd23b19074"
      },
      "outputs": [
        {
          "output_type": "execute_result",
          "data": {
            "text/plain": [
              "<function matplotlib.pyplot.show(close=None, block=None)>"
            ]
          },
          "metadata": {},
          "execution_count": 35
        },
        {
          "output_type": "display_data",
          "data": {
            "text/plain": [
              "<Figure size 576x360 with 1 Axes>"
            ],
            "image/png": "[encoded data removed]"
          },
          "metadata": {
            "needs_background": "light"
          }
        }
      ],
      "source": [
        "# plot a bar chart to see the general distribution of TSI categories\n",
        "data_TSI = no_outliers_df[\"TSI\"].value_counts()\n",
        "\n",
        "xs_TSI = data_TSI.index\n",
        "ys_TSI = data_TSI\n",
        "\n",
        "plt.figure(figsize = (8,5))\n",
        "plt.barh(xs_TSI,ys_TSI)\n",
        "plt.title(\"TSI distribution\", fontsize=15)\n",
        "plt.xlabel(\"Occurences in category\", fontsize = 12)\n",
        "plt.ylabel(\"Category\", fontsize = 12)\n",
        "plt.show"
      ]
    },
    {
      "cell_type": "markdown",
      "source": [
        "The graph shows a larger number of medium category TSI values compared to the low and high values which constitute a lower number of the months. This suggests that the average and hence most common sun energy emission level from the sun is generally at the medium range. Besides the most common category, the distribution of highs and lows are also relatively significant compared to the number of mediums which suggests that the solar radiation is generally fluctuating."
      ],
      "metadata": {
        "id": "Ghk6fl3RHzsM"
      }
    },
    {
      "cell_type": "markdown",
      "metadata": {
        "id": "C746qvrn-2J6"
      },
      "source": [
        "##### Aerosol"
      ]
    },
    {
      "cell_type": "code",
      "execution_count": null,
      "metadata": {
        "scrolled": false,
        "id": "gsZOlj0q-2J6",
        "colab": {
          "base_uri": "https://localhost:8080/",
          "height": 372
        },
        "outputId": "9219c3ee-550d-45b7-9558-df80cda7fd94"
      },
      "outputs": [
        {
          "output_type": "execute_result",
          "data": {
            "text/plain": [
              "<function matplotlib.pyplot.show(close=None, block=None)>"
            ]
          },
          "metadata": {},
          "execution_count": 36
        },
        {
          "output_type": "display_data",
          "data": {
            "text/plain": [
              "<Figure size 576x360 with 1 Axes>"
            ],
            "image/png": "[encoded data removed]"
          },
          "metadata": {
            "needs_background": "light"
          }
        }
      ],
      "source": [
        "# plot a bar chart to see the general distribution of Aerosols categories\n",
        "data_Aerosols = no_outliers_df[\"Aerosols\"].value_counts()\n",
        "\n",
        "xs_Aerosols = data_Aerosols.index\n",
        "ys_Aerosols = data_Aerosols\n",
        "\n",
        "plt.figure(figsize = (8,5))\n",
        "plt.barh(xs_Aerosols,ys_Aerosols)\n",
        "plt.title(\"Aerosols distribution\", fontsize=15)\n",
        "plt.xlabel(\"Occurences in Category\", fontsize = 12)\n",
        "plt.ylabel(\"Category\", fontsize = 12)\n",
        "plt.show"
      ]
    },
    {
      "cell_type": "markdown",
      "source": [
        "The number of data points in the medium category is the highest and hence it can be concluded that the Aerosol distribution is likely to be medium category. However, the number of low category being comparable to the number of medium category also suggests that the number of Aerosols in the atmosphere is generally considered to be around low or medium. This could be explained by the number of significant volanic activities occuring which affects the amount of aerosols in the air, as well as other factors such as winds to determine how fast those particles are dispersed. "
      ],
      "metadata": {
        "id": "xOiqRfu8IyPh"
      }
    },
    {
      "cell_type": "markdown",
      "metadata": {
        "id": "ghSg52au-2J6"
      },
      "source": [
        "**c.** Perform bi-variate analysis on the variables. You do not need to present the analysis of every pair of variables; only focus on the pairs you believe are worth investigating and explain. For each pair, describe the relationship between the two variables. Use appropriate statistical methods and/or visualizations."
      ]
    },
    {
      "cell_type": "markdown",
      "metadata": {
        "id": "-_c2AOVQ-2J6"
      },
      "source": [
        "**Response.** "
      ]
    },
    {
      "cell_type": "code",
      "source": [
        "# list the variables that can be used to \n",
        "# perform bi-variate analysis on\n",
        "no_outliers_df.columns"
      ],
      "metadata": {
        "id": "gYqOEjgXT_vP",
        "colab": {
          "base_uri": "https://localhost:8080/"
        },
        "outputId": "3e92d1b7-6e83-44dc-fd2e-fdd0c54b9da8"
      },
      "execution_count": null,
      "outputs": [
        {
          "output_type": "execute_result",
          "data": {
            "text/plain": [
              "Index(['Year', 'Month', 'MEI', 'CO2', 'CH4', 'N2O', 'CFC-11', 'CFC-12', 'TSI',\n",
              "       'Aerosols', 'Temp', 'N2O_Encoded', 'TSI_Encoded', 'Aerosols_Encoded',\n",
              "       'MEI_category'],\n",
              "      dtype='object')"
            ]
          },
          "metadata": {},
          "execution_count": 37
        }
      ]
    },
    {
      "cell_type": "code",
      "source": [
        "corr_df = no_outliers_df[['MEI', 'CO2', 'CH4', 'N2O_Encoded', 'CFC-11', 'CFC-12', 'TSI_Encoded', 'Aerosols_Encoded', 'Temp']]\n",
        "\n",
        "# computes the Pearson correlation coefficients between all pairs of variables\n",
        "pear_corr = corr_df.corr(method='pearson')\n",
        "# display result as heatmap plot\n",
        "fig = px.imshow(pear_corr, text_auto=True, height=700)\n",
        "fig.show()"
      ],
      "metadata": {
        "id": "kd4DeMyGnWvu",
        "colab": {
          "base_uri": "https://localhost:8080/",
          "height": 717
        },
        "outputId": "313e9343-adba-45ac-ab41-f90ba50390c4"
      },
      "execution_count": null,
      "outputs": [
        {
          "output_type": "display_data",
          "data": {
            "text/html": [
              "<html>\n",
              "<head><meta charset=\"utf-8\" /></head>\n",
              "<body>\n",
              "    <div>            <script src=\"https://cdnjs.cloudflare.com/ajax/libs/mathjax/2.7.5/MathJax.js?config=TeX-AMS-MML_SVG\"></script><script type=\"text/javascript\">if (window.MathJax && window.MathJax.Hub && window.MathJax.Hub.Config) {window.MathJax.Hub.Config({SVG: {font: \"STIX-Web\"}});}</script>                <script type=\"text/javascript\">window.PlotlyConfig = {MathJaxConfig: 'local'};</script>\n",
              "        <script src=\"https://cdn.plot.ly/plotly-2.18.2.min.js\"></script>                <div id=\"74ed3f04-56bf-4b39-9543-3193167b5ca2\" class=\"plotly-graph-div\" style=\"height:700px; width:100%;\"></div>            <script type=\"text/javascript\">                                    window.PLOTLYENV=window.PLOTLYENV || {};                                    if (document.getElementById(\"74ed3f04-56bf-4b39-9543-3193167b5ca2\")) {                    Plotly.newPlot(                        \"74ed3f04-56bf-4b39-9543-3193167b5ca2\",                        [{\"coloraxis\":\"coloraxis\",\"name\":\"0\",\"texttemplate\":\"%{z}\",\"x\":[\"MEI\",\"CO2\",\"CH4\",\"N2O_Encoded\",\"CFC-11\",\"CFC-12\",\"TSI_Encoded\",\"Aerosols_Encoded\",\"Temp\"],\"y\":[\"MEI\",\"CO2\",\"CH4\",\"N2O_Encoded\",\"CFC-11\",\"CFC-12\",\"TSI_Encoded\",\"Aerosols_Encoded\",\"Temp\"],\"z\":[[1.0,-0.10640582215339486,-0.043557254882490376,0.04088638435216882,0.16646058404498562,0.020515184839530184,0.03914599885409865,0.2765815999374148,0.16071235829892855],[-0.10640582215339486,1.0,0.8435439362062794,-0.03538254202368151,0.33473268009449364,0.8053292987573071,0.010476919518261178,-0.6514044046429415,0.7420431139263279],[-0.043557254882490376,0.8435439362062794,1.0,-0.03882331774766728,0.5996316549799734,0.89481586479526,0.077837634900941,-0.5575511439065161,0.6807730524874518],[0.04088638435216882,-0.03538254202368151,-0.03882331774766728,1.0,-0.020897595663820868,-0.046617412396313944,0.03764552343102426,0.015882856541173437,-0.06537008608232728],[0.16646058404498562,0.33473268009449364,0.5996316549799734,-0.020897595663820868,1.0,0.8031775491358351,0.289791323746741,-0.15867084053814745,0.3673697663450412],[0.020515184839530184,0.8053292987573071,0.89481586479526,-0.046617412396313944,0.8031775491358351,1.0,0.17430674767964993,-0.520333644143516,0.6975005858833706],[0.03914599885409865,0.010476919518261178,0.077837634900941,0.03764552343102426,0.289791323746741,0.17430674767964993,1.0,-0.15390033537788247,0.20012012467754897],[0.2765815999374148,-0.6514044046429415,-0.5575511439065161,0.015882856541173437,-0.15867084053814745,-0.520333644143516,-0.15390033537788247,1.0,-0.6353388168859767],[0.16071235829892855,0.7420431139263279,0.6807730524874518,-0.06537008608232728,0.3673697663450412,0.6975005858833706,0.20012012467754897,-0.6353388168859767,1.0]],\"type\":\"heatmap\",\"xaxis\":\"x\",\"yaxis\":\"y\",\"hovertemplate\":\"x: %{x}<br>y: %{y}<br>color: %{z}<extra></extra>\"}],                        {\"template\":{\"data\":{\"histogram2dcontour\":[{\"type\":\"histogram2dcontour\",\"colorbar\":{\"outlinewidth\":0,\"ticks\":\"\"},\"colorscale\":[[0.0,\"#0d0887\"],[0.1111111111111111,\"#46039f\"],[0.2222222222222222,\"#7201a8\"],[0.3333333333333333,\"#9c179e\"],[0.4444444444444444,\"#bd3786\"],[0.5555555555555556,\"#d8576b\"],[0.6666666666666666,\"#ed7953\"],[0.7777777777777778,\"#fb9f3a\"],[0.8888888888888888,\"#fdca26\"],[1.0,\"#f0f921\"]]}],\"choropleth\":[{\"type\":\"choropleth\",\"colorbar\":{\"outlinewidth\":0,\"ticks\":\"\"}}],\"histogram2d\":[{\"type\":\"histogram2d\",\"colorbar\":{\"outlinewidth\":0,\"ticks\":\"\"},\"colorscale\":[[0.0,\"#0d0887\"],[0.1111111111111111,\"#46039f\"],[0.2222222222222222,\"#7201a8\"],[0.3333333333333333,\"#9c179e\"],[0.4444444444444444,\"#bd3786\"],[0.5555555555555556,\"#d8576b\"],[0.6666666666666666,\"#ed7953\"],[0.7777777777777778,\"#fb9f3a\"],[0.8888888888888888,\"#fdca26\"],[1.0,\"#f0f921\"]]}],\"heatmap\":[{\"type\":\"heatmap\",\"colorbar\":{\"outlinewidth\":0,\"ticks\":\"\"},\"colorscale\":[[0.0,\"#0d0887\"],[0.1111111111111111,\"#46039f\"],[0.2222222222222222,\"#7201a8\"],[0.3333333333333333,\"#9c179e\"],[0.4444444444444444,\"#bd3786\"],[0.5555555555555556,\"#d8576b\"],[0.6666666666666666,\"#ed7953\"],[0.7777777777777778,\"#fb9f3a\"],[0.8888888888888888,\"#fdca26\"],[1.0,\"#f0f921\"]]}],\"heatmapgl\":[{\"type\":\"heatmapgl\",\"colorbar\":{\"outlinewidth\":0,\"ticks\":\"\"},\"colorscale\":[[0.0,\"#0d0887\"],[0.1111111111111111,\"#46039f\"],[0.2222222222222222,\"#7201a8\"],[0.3333333333333333,\"#9c179e\"],[0.4444444444444444,\"#bd3786\"],[0.5555555555555556,\"#d8576b\"],[0.6666666666666666,\"#ed7953\"],[0.7777777777777778,\"#fb9f3a\"],[0.8888888888888888,\"#fdca26\"],[1.0,\"#f0f921\"]]}],\"contourcarpet\":[{\"type\":\"contourcarpet\",\"colorbar\":{\"outlinewidth\":0,\"ticks\":\"\"}}],\"contour\":[{\"type\":\"contour\",\"colorbar\":{\"outlinewidth\":0,\"ticks\":\"\"},\"colorscale\":[[0.0,\"#0d0887\"],[0.1111111111111111,\"#46039f\"],[0.2222222222222222,\"#7201a8\"],[0.3333333333333333,\"#9c179e\"],[0.4444444444444444,\"#bd3786\"],[0.5555555555555556,\"#d8576b\"],[0.6666666666666666,\"#ed7953\"],[0.7777777777777778,\"#fb9f3a\"],[0.8888888888888888,\"#fdca26\"],[1.0,\"#f0f921\"]]}],\"surface\":[{\"type\":\"surface\",\"colorbar\":{\"outlinewidth\":0,\"ticks\":\"\"},\"colorscale\":[[0.0,\"#0d0887\"],[0.1111111111111111,\"#46039f\"],[0.2222222222222222,\"#7201a8\"],[0.3333333333333333,\"#9c179e\"],[0.4444444444444444,\"#bd3786\"],[0.5555555555555556,\"#d8576b\"],[0.6666666666666666,\"#ed7953\"],[0.7777777777777778,\"#fb9f3a\"],[0.8888888888888888,\"#fdca26\"],[1.0,\"#f0f921\"]]}],\"mesh3d\":[{\"type\":\"mesh3d\",\"colorbar\":{\"outlinewidth\":0,\"ticks\":\"\"}}],\"scatter\":[{\"fillpattern\":{\"fillmode\":\"overlay\",\"size\":10,\"solidity\":0.2},\"type\":\"scatter\"}],\"parcoords\":[{\"type\":\"parcoords\",\"line\":{\"colorbar\":{\"outlinewidth\":0,\"ticks\":\"\"}}}],\"scatterpolargl\":[{\"type\":\"scatterpolargl\",\"marker\":{\"colorbar\":{\"outlinewidth\":0,\"ticks\":\"\"}}}],\"bar\":[{\"error_x\":{\"color\":\"#2a3f5f\"},\"error_y\":{\"color\":\"#2a3f5f\"},\"marker\":{\"line\":{\"color\":\"#E5ECF6\",\"width\":0.5},\"pattern\":{\"fillmode\":\"overlay\",\"size\":10,\"solidity\":0.2}},\"type\":\"bar\"}],\"scattergeo\":[{\"type\":\"scattergeo\",\"marker\":{\"colorbar\":{\"outlinewidth\":0,\"ticks\":\"\"}}}],\"scatterpolar\":[{\"type\":\"scatterpolar\",\"marker\":{\"colorbar\":{\"outlinewidth\":0,\"ticks\":\"\"}}}],\"histogram\":[{\"marker\":{\"pattern\":{\"fillmode\":\"overlay\",\"size\":10,\"solidity\":0.2}},\"type\":\"histogram\"}],\"scattergl\":[{\"type\":\"scattergl\",\"marker\":{\"colorbar\":{\"outlinewidth\":0,\"ticks\":\"\"}}}],\"scatter3d\":[{\"type\":\"scatter3d\",\"line\":{\"colorbar\":{\"outlinewidth\":0,\"ticks\":\"\"}},\"marker\":{\"colorbar\":{\"outlinewidth\":0,\"ticks\":\"\"}}}],\"scattermapbox\":[{\"type\":\"scattermapbox\",\"marker\":{\"colorbar\":{\"outlinewidth\":0,\"ticks\":\"\"}}}],\"scatterternary\":[{\"type\":\"scatterternary\",\"marker\":{\"colorbar\":{\"outlinewidth\":0,\"ticks\":\"\"}}}],\"scattercarpet\":[{\"type\":\"scattercarpet\",\"marker\":{\"colorbar\":{\"outlinewidth\":0,\"ticks\":\"\"}}}],\"carpet\":[{\"aaxis\":{\"endlinecolor\":\"#2a3f5f\",\"gridcolor\":\"white\",\"linecolor\":\"white\",\"minorgridcolor\":\"white\",\"startlinecolor\":\"#2a3f5f\"},\"baxis\":{\"endlinecolor\":\"#2a3f5f\",\"gridcolor\":\"white\",\"linecolor\":\"white\",\"minorgridcolor\":\"white\",\"startlinecolor\":\"#2a3f5f\"},\"type\":\"carpet\"}],\"table\":[{\"cells\":{\"fill\":{\"color\":\"#EBF0F8\"},\"line\":{\"color\":\"white\"}},\"header\":{\"fill\":{\"color\":\"#C8D4E3\"},\"line\":{\"color\":\"white\"}},\"type\":\"table\"}],\"barpolar\":[{\"marker\":{\"line\":{\"color\":\"#E5ECF6\",\"width\":0.5},\"pattern\":{\"fillmode\":\"overlay\",\"size\":10,\"solidity\":0.2}},\"type\":\"barpolar\"}],\"pie\":[{\"automargin\":true,\"type\":\"pie\"}]},\"layout\":{\"autotypenumbers\":\"strict\",\"colorway\":[\"#636efa\",\"#EF553B\",\"#00cc96\",\"#ab63fa\",\"#FFA15A\",\"#19d3f3\",\"#FF6692\",\"#B6E880\",\"#FF97FF\",\"#FECB52\"],\"font\":{\"color\":\"#2a3f5f\"},\"hovermode\":\"closest\",\"hoverlabel\":{\"align\":\"left\"},\"paper_bgcolor\":\"white\",\"plot_bgcolor\":\"#E5ECF6\",\"polar\":{\"bgcolor\":\"#E5ECF6\",\"angularaxis\":{\"gridcolor\":\"white\",\"linecolor\":\"white\",\"ticks\":\"\"},\"radialaxis\":{\"gridcolor\":\"white\",\"linecolor\":\"white\",\"ticks\":\"\"}},\"ternary\":{\"bgcolor\":\"#E5ECF6\",\"aaxis\":{\"gridcolor\":\"white\",\"linecolor\":\"white\",\"ticks\":\"\"},\"baxis\":{\"gridcolor\":\"white\",\"linecolor\":\"white\",\"ticks\":\"\"},\"caxis\":{\"gridcolor\":\"white\",\"linecolor\":\"white\",\"ticks\":\"\"}},\"coloraxis\":{\"colorbar\":{\"outlinewidth\":0,\"ticks\":\"\"}},\"colorscale\":{\"sequential\":[[0.0,\"#0d0887\"],[0.1111111111111111,\"#46039f\"],[0.2222222222222222,\"#7201a8\"],[0.3333333333333333,\"#9c179e\"],[0.4444444444444444,\"#bd3786\"],[0.5555555555555556,\"#d8576b\"],[0.6666666666666666,\"#ed7953\"],[0.7777777777777778,\"#fb9f3a\"],[0.8888888888888888,\"#fdca26\"],[1.0,\"#f0f921\"]],\"sequentialminus\":[[0.0,\"#0d0887\"],[0.1111111111111111,\"#46039f\"],[0.2222222222222222,\"#7201a8\"],[0.3333333333333333,\"#9c179e\"],[0.4444444444444444,\"#bd3786\"],[0.5555555555555556,\"#d8576b\"],[0.6666666666666666,\"#ed7953\"],[0.7777777777777778,\"#fb9f3a\"],[0.8888888888888888,\"#fdca26\"],[1.0,\"#f0f921\"]],\"diverging\":[[0,\"#8e0152\"],[0.1,\"#c51b7d\"],[0.2,\"#de77ae\"],[0.3,\"#f1b6da\"],[0.4,\"#fde0ef\"],[0.5,\"#f7f7f7\"],[0.6,\"#e6f5d0\"],[0.7,\"#b8e186\"],[0.8,\"#7fbc41\"],[0.9,\"#4d9221\"],[1,\"#276419\"]]},\"xaxis\":{\"gridcolor\":\"white\",\"linecolor\":\"white\",\"ticks\":\"\",\"title\":{\"standoff\":15},\"zerolinecolor\":\"white\",\"automargin\":true,\"zerolinewidth\":2},\"yaxis\":{\"gridcolor\":\"white\",\"linecolor\":\"white\",\"ticks\":\"\",\"title\":{\"standoff\":15},\"zerolinecolor\":\"white\",\"automargin\":true,\"zerolinewidth\":2},\"scene\":{\"xaxis\":{\"backgroundcolor\":\"#E5ECF6\",\"gridcolor\":\"white\",\"linecolor\":\"white\",\"showbackground\":true,\"ticks\":\"\",\"zerolinecolor\":\"white\",\"gridwidth\":2},\"yaxis\":{\"backgroundcolor\":\"#E5ECF6\",\"gridcolor\":\"white\",\"linecolor\":\"white\",\"showbackground\":true,\"ticks\":\"\",\"zerolinecolor\":\"white\",\"gridwidth\":2},\"zaxis\":{\"backgroundcolor\":\"#E5ECF6\",\"gridcolor\":\"white\",\"linecolor\":\"white\",\"showbackground\":true,\"ticks\":\"\",\"zerolinecolor\":\"white\",\"gridwidth\":2}},\"shapedefaults\":{\"line\":{\"color\":\"#2a3f5f\"}},\"annotationdefaults\":{\"arrowcolor\":\"#2a3f5f\",\"arrowhead\":0,\"arrowwidth\":1},\"geo\":{\"bgcolor\":\"white\",\"landcolor\":\"#E5ECF6\",\"subunitcolor\":\"white\",\"showland\":true,\"showlakes\":true,\"lakecolor\":\"white\"},\"title\":{\"x\":0.05},\"mapbox\":{\"style\":\"light\"}}},\"xaxis\":{\"anchor\":\"y\",\"domain\":[0.0,1.0],\"scaleanchor\":\"y\",\"constrain\":\"domain\"},\"yaxis\":{\"anchor\":\"x\",\"domain\":[0.0,1.0],\"autorange\":\"reversed\",\"constrain\":\"domain\"},\"coloraxis\":{\"colorscale\":[[0.0,\"#0d0887\"],[0.1111111111111111,\"#46039f\"],[0.2222222222222222,\"#7201a8\"],[0.3333333333333333,\"#9c179e\"],[0.4444444444444444,\"#bd3786\"],[0.5555555555555556,\"#d8576b\"],[0.6666666666666666,\"#ed7953\"],[0.7777777777777778,\"#fb9f3a\"],[0.8888888888888888,\"#fdca26\"],[1.0,\"#f0f921\"]]},\"margin\":{\"t\":60},\"height\":700},                        {\"responsive\": true}                    ).then(function(){\n",
              "                            \n",
              "var gd = document.getElementById('74ed3f04-56bf-4b39-9543-3193167b5ca2');\n",
              "var x = new MutationObserver(function (mutations, observer) {{\n",
              "        var display = window.getComputedStyle(gd).display;\n",
              "        if (!display || display === 'none') {{\n",
              "            console.log([gd, 'removed!']);\n",
              "            Plotly.purge(gd);\n",
              "            observer.disconnect();\n",
              "        }}\n",
              "}});\n",
              "\n",
              "// Listen for the removal of the full notebook cells\n",
              "var notebookContainer = gd.closest('#notebook-container');\n",
              "if (notebookContainer) {{\n",
              "    x.observe(notebookContainer, {childList: true});\n",
              "}}\n",
              "\n",
              "// Listen for the clearing of the current output cell\n",
              "var outputEl = gd.closest('.output');\n",
              "if (outputEl) {{\n",
              "    x.observe(outputEl, {childList: true});\n",
              "}}\n",
              "\n",
              "                        })                };                            </script>        </div>\n",
              "</body>\n",
              "</html>"
            ]
          },
          "metadata": {}
        }
      ]
    },
    {
      "cell_type": "markdown",
      "metadata": {
        "id": "GccG46xW-2J6"
      },
      "source": [
        "##### MEI and Temp"
      ]
    },
    {
      "cell_type": "code",
      "execution_count": null,
      "metadata": {
        "id": "MBVSsoYz-2J6",
        "colab": {
          "base_uri": "https://localhost:8080/",
          "height": 542
        },
        "outputId": "cfd74d47-93c9-47e7-c3b8-520bb7da0e08"
      },
      "outputs": [
        {
          "output_type": "display_data",
          "data": {
            "text/html": [
              "<html>\n",
              "<head><meta charset=\"utf-8\" /></head>\n",
              "<body>\n",
              "    <div>            <script src=\"https://cdnjs.cloudflare.com/ajax/libs/mathjax/2.7.5/MathJax.js?config=TeX-AMS-MML_SVG\"></script><script type=\"text/javascript\">if (window.MathJax && window.MathJax.Hub && window.MathJax.Hub.Config) {window.MathJax.Hub.Config({SVG: {font: \"STIX-Web\"}});}</script>                <script type=\"text/javascript\">window.PlotlyConfig = {MathJaxConfig: 'local'};</script>\n",
              "        <script src=\"https://cdn.plot.ly/plotly-2.18.2.min.js\"></script>                <div id=\"82e3b520-b727-43b0-8f5e-b76e131d3809\" class=\"plotly-graph-div\" style=\"height:525px; width:100%;\"></div>            <script type=\"text/javascript\">                                    window.PLOTLYENV=window.PLOTLYENV || {};                                    if (document.getElementById(\"82e3b520-b727-43b0-8f5e-b76e131d3809\")) {                    Plotly.newPlot(                        \"82e3b520-b727-43b0-8f5e-b76e131d3809\",                        [{\"hovertemplate\":\"MEI=%{x}<br>Temp=%{marker.color}<extra></extra>\",\"legendgroup\":\"\",\"marker\":{\"color\":[0.149,0.093,0.232,0.078,0.089,0.013,0.049,-0.019,0.065,-0.024,0.025,-0.123,-0.282,-0.155,-0.032,-0.042,0.001,-0.049,-0.042,-0.035,-0.008,-0.093,-0.002,0.121,0.065,0.049,0.045,0.023,0.055,-0.001,0.043,-0.033,0.022,0.116,0.266,0.021,0.084,0.145,0.121,0.238,0.219,0.25,0.174,0.186,0.189,0.248,0.224,0.175,0.2,0.168,0.149,0.12,0.027,0.106,0.019,0.094,0.088,0.083,0.073,0.168,0.135,0.145,0.067,0.181,0.187,0.242,0.442,0.285,0.231,0.233,0.196,0.179,0.271,0.278,0.199,0.224,0.272,0.161,0.299,0.249,0.269,0.271,0.225,0.176,0.133,0.079,0.084,0.266,0.25,0.199,0.132,0.125,0.118,-0.008,-0.007,-0.062,-0.072,0.007,0.204,0.161,0.202,0.121,0.158,0.122,0.088,0.06,0.013,0.061,0.111,0.16,0.176,0.173,0.141,0.175,0.156,0.23,0.248,0.227,0.349,0.449,0.286,0.229,0.176,0.276,0.305,0.21,0.241,0.163,0.069,0.246,0.13,0.097,0.177,0.159,0.177,0.178,0.093,0.089,0.077,0.156,0.247,0.262,0.201,0.254,0.367,0.372,0.406,0.457,0.449,0.526,0.486,0.739,0.608,0.57,0.579,0.651,0.616,0.4,0.409,0.424,0.366,0.29,0.322,0.248,0.266,0.282,0.253,0.274,0.241,0.223,0.338,0.212,0.363,0.271,0.261,0.338,0.309,0.159,0.179,0.329,0.289,0.475,0.426,0.452,0.498,0.405,0.491,0.323,0.568,0.586,0.432,0.455,0.462,0.417,0.413,0.362,0.397,0.326,0.514,0.427,0.418,0.439,0.437,0.457,0.514,0.55,0.419,0.519,0.496,0.56,0.501,0.484,0.323,0.35,0.38,0.418,0.442,0.521,0.381,0.364,0.493,0.53,0.476,0.532,0.502,0.495,0.478,0.366,0.32,0.435,0.38,0.378,0.352,0.442,0.456,0.482,0.425,0.472,0.44,0.518,0.601,0.498,0.435,0.372,0.382,0.358,0.402,0.362,0.266,0.226,0.074,0.198,0.447,0.278,0.283,0.315,0.406,0.407,0.378,0.44,0.394,0.33],\"coloraxis\":\"coloraxis\",\"symbol\":\"circle\"},\"mode\":\"markers\",\"name\":\"\",\"orientation\":\"v\",\"showlegend\":false,\"x\":[0.428,0.002,-0.176,-0.176,-0.339,-0.565,0.131,0.331,0.121,-0.138,-0.082,-0.351,-0.611,-0.602,-0.737,-0.484,-0.731,-0.088,-0.156,-0.541,-0.14,-0.05,-0.293,-0.307,-0.191,0.033,-0.169,0.305,0.311,0.804,0.996,0.872,1.183,1.237,1.185,1.724,1.938,2.122,1.904,1.847,1.951,1.835,1.61,1.253,0.665,0.456,0.307,0.085,-0.71,-1.174,-1.586,-0.984,-1.468,-1.343,-1.166,-1.312,-1.056,-0.842,-0.488,-0.501,-0.28,-0.318,-0.066,0.142,0.234,0.532,0.916,0.393,0.602,0.389,0.084,0.376,0.241,0.372,0.335,0.309,0.31,0.393,0.444,0.719,1.163,1.011,1.012,0.737,1.017,1.202,1.32,1.75,1.871,1.992,2.371,2.13,1.714,0.946,0.536,0.512,0.669,0.644,0.699,0.999,0.979,1.388,1.987,1.459,1.09,1.003,0.982,1.078,0.562,0.338,0.159,0.423,0.823,0.743,0.88,1.433,1.278,1.184,1.2,0.961,0.862,0.419,0.494,0.182,-0.197,-0.468,-0.487,-0.572,-0.644,-0.595,-0.264,-0.505,-0.178,-0.001,-0.208,-0.396,-0.476,-0.387,-0.161,-0.487,-0.607,-0.254,0.493,1.119,2.307,2.756,3.001,3.0,2.518,2.32,2.483,2.777,2.673,2.169,1.129,0.285,-0.41,-0.667,-0.849,-1.012,-1.149,-1.068,-1.026,-0.681,-0.42,-0.465,-0.787,-1.004,-1.011,-1.079,-1.207,-1.197,-1.246,0.157,-0.201,-0.14,-0.247,-0.755,-0.575,-0.539,-0.717,-0.607,-0.146,0.253,-1.002,-0.126,-0.18,0.003,-0.05,-0.201,0.744,0.853,0.596,0.922,0.808,0.952,1.059,1.11,1.184,0.927,0.819,0.048,0.026,0.089,0.241,0.509,0.519,0.315,0.308,0.33,-0.125,0.216,0.47,0.17,0.472,0.669,0.524,0.786,0.643,0.799,0.203,0.559,0.756,0.492,0.321,-0.166,-0.407,-0.585,-0.471,-0.475,-0.591,-0.688,-0.036,0.563,0.628,0.759,0.793,0.892,1.292,0.951,0.974,0.51,0.072,0.183,-0.358,-0.44,-1.162,-1.142,-1.177,-1.168,-1.011,-1.402,-1.635,-0.942,-0.355,0.128,0.003,-0.266,-0.643,-0.78,1.345,2.467],\"xaxis\":\"x\",\"y\":[0.149,0.093,0.232,0.078,0.089,0.013,0.049,-0.019,0.065,-0.024,0.025,-0.123,-0.282,-0.155,-0.032,-0.042,0.001,-0.049,-0.042,-0.035,-0.008,-0.093,-0.002,0.121,0.065,0.049,0.045,0.023,0.055,-0.001,0.043,-0.033,0.022,0.116,0.266,0.021,0.084,0.145,0.121,0.238,0.219,0.25,0.174,0.186,0.189,0.248,0.224,0.175,0.2,0.168,0.149,0.12,0.027,0.106,0.019,0.094,0.088,0.083,0.073,0.168,0.135,0.145,0.067,0.181,0.187,0.242,0.442,0.285,0.231,0.233,0.196,0.179,0.271,0.278,0.199,0.224,0.272,0.161,0.299,0.249,0.269,0.271,0.225,0.176,0.133,0.079,0.084,0.266,0.25,0.199,0.132,0.125,0.118,-0.008,-0.007,-0.062,-0.072,0.007,0.204,0.161,0.202,0.121,0.158,0.122,0.088,0.06,0.013,0.061,0.111,0.16,0.176,0.173,0.141,0.175,0.156,0.23,0.248,0.227,0.349,0.449,0.286,0.229,0.176,0.276,0.305,0.21,0.241,0.163,0.069,0.246,0.13,0.097,0.177,0.159,0.177,0.178,0.093,0.089,0.077,0.156,0.247,0.262,0.201,0.254,0.367,0.372,0.406,0.457,0.449,0.526,0.486,0.739,0.608,0.57,0.579,0.651,0.616,0.4,0.409,0.424,0.366,0.29,0.322,0.248,0.266,0.282,0.253,0.274,0.241,0.223,0.338,0.212,0.363,0.271,0.261,0.338,0.309,0.159,0.179,0.329,0.289,0.475,0.426,0.452,0.498,0.405,0.491,0.323,0.568,0.586,0.432,0.455,0.462,0.417,0.413,0.362,0.397,0.326,0.514,0.427,0.418,0.439,0.437,0.457,0.514,0.55,0.419,0.519,0.496,0.56,0.501,0.484,0.323,0.35,0.38,0.418,0.442,0.521,0.381,0.364,0.493,0.53,0.476,0.532,0.502,0.495,0.478,0.366,0.32,0.435,0.38,0.378,0.352,0.442,0.456,0.482,0.425,0.472,0.44,0.518,0.601,0.498,0.435,0.372,0.382,0.358,0.402,0.362,0.266,0.226,0.074,0.198,0.447,0.278,0.283,0.315,0.406,0.407,0.378,0.44,0.394,0.33],\"yaxis\":\"y\",\"type\":\"scatter\"}],                        {\"template\":{\"data\":{\"histogram2dcontour\":[{\"type\":\"histogram2dcontour\",\"colorbar\":{\"outlinewidth\":0,\"ticks\":\"\"},\"colorscale\":[[0.0,\"#0d0887\"],[0.1111111111111111,\"#46039f\"],[0.2222222222222222,\"#7201a8\"],[0.3333333333333333,\"#9c179e\"],[0.4444444444444444,\"#bd3786\"],[0.5555555555555556,\"#d8576b\"],[0.6666666666666666,\"#ed7953\"],[0.7777777777777778,\"#fb9f3a\"],[0.8888888888888888,\"#fdca26\"],[1.0,\"#f0f921\"]]}],\"choropleth\":[{\"type\":\"choropleth\",\"colorbar\":{\"outlinewidth\":0,\"ticks\":\"\"}}],\"histogram2d\":[{\"type\":\"histogram2d\",\"colorbar\":{\"outlinewidth\":0,\"ticks\":\"\"},\"colorscale\":[[0.0,\"#0d0887\"],[0.1111111111111111,\"#46039f\"],[0.2222222222222222,\"#7201a8\"],[0.3333333333333333,\"#9c179e\"],[0.4444444444444444,\"#bd3786\"],[0.5555555555555556,\"#d8576b\"],[0.6666666666666666,\"#ed7953\"],[0.7777777777777778,\"#fb9f3a\"],[0.8888888888888888,\"#fdca26\"],[1.0,\"#f0f921\"]]}],\"heatmap\":[{\"type\":\"heatmap\",\"colorbar\":{\"outlinewidth\":0,\"ticks\":\"\"},\"colorscale\":[[0.0,\"#0d0887\"],[0.1111111111111111,\"#46039f\"],[0.2222222222222222,\"#7201a8\"],[0.3333333333333333,\"#9c179e\"],[0.4444444444444444,\"#bd3786\"],[0.5555555555555556,\"#d8576b\"],[0.6666666666666666,\"#ed7953\"],[0.7777777777777778,\"#fb9f3a\"],[0.8888888888888888,\"#fdca26\"],[1.0,\"#f0f921\"]]}],\"heatmapgl\":[{\"type\":\"heatmapgl\",\"colorbar\":{\"outlinewidth\":0,\"ticks\":\"\"},\"colorscale\":[[0.0,\"#0d0887\"],[0.1111111111111111,\"#46039f\"],[0.2222222222222222,\"#7201a8\"],[0.3333333333333333,\"#9c179e\"],[0.4444444444444444,\"#bd3786\"],[0.5555555555555556,\"#d8576b\"],[0.6666666666666666,\"#ed7953\"],[0.7777777777777778,\"#fb9f3a\"],[0.8888888888888888,\"#fdca26\"],[1.0,\"#f0f921\"]]}],\"contourcarpet\":[{\"type\":\"contourcarpet\",\"colorbar\":{\"outlinewidth\":0,\"ticks\":\"\"}}],\"contour\":[{\"type\":\"contour\",\"colorbar\":{\"outlinewidth\":0,\"ticks\":\"\"},\"colorscale\":[[0.0,\"#0d0887\"],[0.1111111111111111,\"#46039f\"],[0.2222222222222222,\"#7201a8\"],[0.3333333333333333,\"#9c179e\"],[0.4444444444444444,\"#bd3786\"],[0.5555555555555556,\"#d8576b\"],[0.6666666666666666,\"#ed7953\"],[0.7777777777777778,\"#fb9f3a\"],[0.8888888888888888,\"#fdca26\"],[1.0,\"#f0f921\"]]}],\"surface\":[{\"type\":\"surface\",\"colorbar\":{\"outlinewidth\":0,\"ticks\":\"\"},\"colorscale\":[[0.0,\"#0d0887\"],[0.1111111111111111,\"#46039f\"],[0.2222222222222222,\"#7201a8\"],[0.3333333333333333,\"#9c179e\"],[0.4444444444444444,\"#bd3786\"],[0.5555555555555556,\"#d8576b\"],[0.6666666666666666,\"#ed7953\"],[0.7777777777777778,\"#fb9f3a\"],[0.8888888888888888,\"#fdca26\"],[1.0,\"#f0f921\"]]}],\"mesh3d\":[{\"type\":\"mesh3d\",\"colorbar\":{\"outlinewidth\":0,\"ticks\":\"\"}}],\"scatter\":[{\"fillpattern\":{\"fillmode\":\"overlay\",\"size\":10,\"solidity\":0.2},\"type\":\"scatter\"}],\"parcoords\":[{\"type\":\"parcoords\",\"line\":{\"colorbar\":{\"outlinewidth\":0,\"ticks\":\"\"}}}],\"scatterpolargl\":[{\"type\":\"scatterpolargl\",\"marker\":{\"colorbar\":{\"outlinewidth\":0,\"ticks\":\"\"}}}],\"bar\":[{\"error_x\":{\"color\":\"#2a3f5f\"},\"error_y\":{\"color\":\"#2a3f5f\"},\"marker\":{\"line\":{\"color\":\"#E5ECF6\",\"width\":0.5},\"pattern\":{\"fillmode\":\"overlay\",\"size\":10,\"solidity\":0.2}},\"type\":\"bar\"}],\"scattergeo\":[{\"type\":\"scattergeo\",\"marker\":{\"colorbar\":{\"outlinewidth\":0,\"ticks\":\"\"}}}],\"scatterpolar\":[{\"type\":\"scatterpolar\",\"marker\":{\"colorbar\":{\"outlinewidth\":0,\"ticks\":\"\"}}}],\"histogram\":[{\"marker\":{\"pattern\":{\"fillmode\":\"overlay\",\"size\":10,\"solidity\":0.2}},\"type\":\"histogram\"}],\"scattergl\":[{\"type\":\"scattergl\",\"marker\":{\"colorbar\":{\"outlinewidth\":0,\"ticks\":\"\"}}}],\"scatter3d\":[{\"type\":\"scatter3d\",\"line\":{\"colorbar\":{\"outlinewidth\":0,\"ticks\":\"\"}},\"marker\":{\"colorbar\":{\"outlinewidth\":0,\"ticks\":\"\"}}}],\"scattermapbox\":[{\"type\":\"scattermapbox\",\"marker\":{\"colorbar\":{\"outlinewidth\":0,\"ticks\":\"\"}}}],\"scatterternary\":[{\"type\":\"scatterternary\",\"marker\":{\"colorbar\":{\"outlinewidth\":0,\"ticks\":\"\"}}}],\"scattercarpet\":[{\"type\":\"scattercarpet\",\"marker\":{\"colorbar\":{\"outlinewidth\":0,\"ticks\":\"\"}}}],\"carpet\":[{\"aaxis\":{\"endlinecolor\":\"#2a3f5f\",\"gridcolor\":\"white\",\"linecolor\":\"white\",\"minorgridcolor\":\"white\",\"startlinecolor\":\"#2a3f5f\"},\"baxis\":{\"endlinecolor\":\"#2a3f5f\",\"gridcolor\":\"white\",\"linecolor\":\"white\",\"minorgridcolor\":\"white\",\"startlinecolor\":\"#2a3f5f\"},\"type\":\"carpet\"}],\"table\":[{\"cells\":{\"fill\":{\"color\":\"#EBF0F8\"},\"line\":{\"color\":\"white\"}},\"header\":{\"fill\":{\"color\":\"#C8D4E3\"},\"line\":{\"color\":\"white\"}},\"type\":\"table\"}],\"barpolar\":[{\"marker\":{\"line\":{\"color\":\"#E5ECF6\",\"width\":0.5},\"pattern\":{\"fillmode\":\"overlay\",\"size\":10,\"solidity\":0.2}},\"type\":\"barpolar\"}],\"pie\":[{\"automargin\":true,\"type\":\"pie\"}]},\"layout\":{\"autotypenumbers\":\"strict\",\"colorway\":[\"#636efa\",\"#EF553B\",\"#00cc96\",\"#ab63fa\",\"#FFA15A\",\"#19d3f3\",\"#FF6692\",\"#B6E880\",\"#FF97FF\",\"#FECB52\"],\"font\":{\"color\":\"#2a3f5f\"},\"hovermode\":\"closest\",\"hoverlabel\":{\"align\":\"left\"},\"paper_bgcolor\":\"white\",\"plot_bgcolor\":\"#E5ECF6\",\"polar\":{\"bgcolor\":\"#E5ECF6\",\"angularaxis\":{\"gridcolor\":\"white\",\"linecolor\":\"white\",\"ticks\":\"\"},\"radialaxis\":{\"gridcolor\":\"white\",\"linecolor\":\"white\",\"ticks\":\"\"}},\"ternary\":{\"bgcolor\":\"#E5ECF6\",\"aaxis\":{\"gridcolor\":\"white\",\"linecolor\":\"white\",\"ticks\":\"\"},\"baxis\":{\"gridcolor\":\"white\",\"linecolor\":\"white\",\"ticks\":\"\"},\"caxis\":{\"gridcolor\":\"white\",\"linecolor\":\"white\",\"ticks\":\"\"}},\"coloraxis\":{\"colorbar\":{\"outlinewidth\":0,\"ticks\":\"\"}},\"colorscale\":{\"sequential\":[[0.0,\"#0d0887\"],[0.1111111111111111,\"#46039f\"],[0.2222222222222222,\"#7201a8\"],[0.3333333333333333,\"#9c179e\"],[0.4444444444444444,\"#bd3786\"],[0.5555555555555556,\"#d8576b\"],[0.6666666666666666,\"#ed7953\"],[0.7777777777777778,\"#fb9f3a\"],[0.8888888888888888,\"#fdca26\"],[1.0,\"#f0f921\"]],\"sequentialminus\":[[0.0,\"#0d0887\"],[0.1111111111111111,\"#46039f\"],[0.2222222222222222,\"#7201a8\"],[0.3333333333333333,\"#9c179e\"],[0.4444444444444444,\"#bd3786\"],[0.5555555555555556,\"#d8576b\"],[0.6666666666666666,\"#ed7953\"],[0.7777777777777778,\"#fb9f3a\"],[0.8888888888888888,\"#fdca26\"],[1.0,\"#f0f921\"]],\"diverging\":[[0,\"#8e0152\"],[0.1,\"#c51b7d\"],[0.2,\"#de77ae\"],[0.3,\"#f1b6da\"],[0.4,\"#fde0ef\"],[0.5,\"#f7f7f7\"],[0.6,\"#e6f5d0\"],[0.7,\"#b8e186\"],[0.8,\"#7fbc41\"],[0.9,\"#4d9221\"],[1,\"#276419\"]]},\"xaxis\":{\"gridcolor\":\"white\",\"linecolor\":\"white\",\"ticks\":\"\",\"title\":{\"standoff\":15},\"zerolinecolor\":\"white\",\"automargin\":true,\"zerolinewidth\":2},\"yaxis\":{\"gridcolor\":\"white\",\"linecolor\":\"white\",\"ticks\":\"\",\"title\":{\"standoff\":15},\"zerolinecolor\":\"white\",\"automargin\":true,\"zerolinewidth\":2},\"scene\":{\"xaxis\":{\"backgroundcolor\":\"#E5ECF6\",\"gridcolor\":\"white\",\"linecolor\":\"white\",\"showbackground\":true,\"ticks\":\"\",\"zerolinecolor\":\"white\",\"gridwidth\":2},\"yaxis\":{\"backgroundcolor\":\"#E5ECF6\",\"gridcolor\":\"white\",\"linecolor\":\"white\",\"showbackground\":true,\"ticks\":\"\",\"zerolinecolor\":\"white\",\"gridwidth\":2},\"zaxis\":{\"backgroundcolor\":\"#E5ECF6\",\"gridcolor\":\"white\",\"linecolor\":\"white\",\"showbackground\":true,\"ticks\":\"\",\"zerolinecolor\":\"white\",\"gridwidth\":2}},\"shapedefaults\":{\"line\":{\"color\":\"#2a3f5f\"}},\"annotationdefaults\":{\"arrowcolor\":\"#2a3f5f\",\"arrowhead\":0,\"arrowwidth\":1},\"geo\":{\"bgcolor\":\"white\",\"landcolor\":\"#E5ECF6\",\"subunitcolor\":\"white\",\"showland\":true,\"showlakes\":true,\"lakecolor\":\"white\"},\"title\":{\"x\":0.05},\"mapbox\":{\"style\":\"light\"}}},\"xaxis\":{\"anchor\":\"y\",\"domain\":[0.0,1.0],\"title\":{\"text\":\"MEI\"}},\"yaxis\":{\"anchor\":\"x\",\"domain\":[0.0,1.0],\"title\":{\"text\":\"Temp\"}},\"coloraxis\":{\"colorbar\":{\"title\":{\"text\":\"Temp\"}},\"colorscale\":[[0.0,\"#0d0887\"],[0.1111111111111111,\"#46039f\"],[0.2222222222222222,\"#7201a8\"],[0.3333333333333333,\"#9c179e\"],[0.4444444444444444,\"#bd3786\"],[0.5555555555555556,\"#d8576b\"],[0.6666666666666666,\"#ed7953\"],[0.7777777777777778,\"#fb9f3a\"],[0.8888888888888888,\"#fdca26\"],[1.0,\"#f0f921\"]]},\"legend\":{\"tracegroupgap\":0},\"margin\":{\"t\":60}},                        {\"responsive\": true}                    ).then(function(){\n",
              "                            \n",
              "var gd = document.getElementById('82e3b520-b727-43b0-8f5e-b76e131d3809');\n",
              "var x = new MutationObserver(function (mutations, observer) {{\n",
              "        var display = window.getComputedStyle(gd).display;\n",
              "        if (!display || display === 'none') {{\n",
              "            console.log([gd, 'removed!']);\n",
              "            Plotly.purge(gd);\n",
              "            observer.disconnect();\n",
              "        }}\n",
              "}});\n",
              "\n",
              "// Listen for the removal of the full notebook cells\n",
              "var notebookContainer = gd.closest('#notebook-container');\n",
              "if (notebookContainer) {{\n",
              "    x.observe(notebookContainer, {childList: true});\n",
              "}}\n",
              "\n",
              "// Listen for the clearing of the current output cell\n",
              "var outputEl = gd.closest('.output');\n",
              "if (outputEl) {{\n",
              "    x.observe(outputEl, {childList: true});\n",
              "}}\n",
              "\n",
              "                        })                };                            </script>        </div>\n",
              "</body>\n",
              "</html>"
            ]
          },
          "metadata": {}
        }
      ],
      "source": [
        "# create scatter plot\n",
        "fig = px.scatter(no_outliers_df, x=\"MEI\", y=\"Temp\", color='Temp')\n",
        "fig.show()"
      ]
    },
    {
      "cell_type": "markdown",
      "metadata": {
        "id": "BinF6IE6-2J6"
      },
      "source": [
        "<i><b>Reason for choosing MEI and Temp</b></i>\n",
        "\n",
        "The MEI Index, which measures the strength of the El Nino/La Nina-Southern Oscillation, is known to have a significant impact on global climate patterns and has been linked to changes in temperature."
      ]
    },
    {
      "cell_type": "code",
      "execution_count": null,
      "metadata": {
        "id": "_GVvc4Iw-2J7",
        "colab": {
          "base_uri": "https://localhost:8080/"
        },
        "outputId": "5bad4d69-6730-40ab-a185-1e83dd8cebd8"
      },
      "outputs": [
        {
          "output_type": "execute_result",
          "data": {
            "text/plain": [
              "0.16071235829892844"
            ]
          },
          "metadata": {},
          "execution_count": 40
        }
      ],
      "source": [
        "# computes the Pearson correlation coefficients between MEI and Temp\n",
        "corr = np.corrcoef(no_outliers_df.MEI, no_outliers_df.Temp)\n",
        "corr[0,1]"
      ]
    },
    {
      "cell_type": "markdown",
      "metadata": {
        "id": "tfZvu7lW-2J7"
      },
      "source": [
        "<i><b>Relationship between the variables</b></i>\n",
        "\n"
      ]
    },
    {
      "cell_type": "markdown",
      "metadata": {
        "id": "XQRI-Ydz-2J7"
      },
      "source": [
        "The 2 variables have a correlation coefficient of 0.135, which is close to 0. Therefore, the MEI does not have any significant effect on temperature."
      ]
    },
    {
      "cell_type": "markdown",
      "metadata": {
        "id": "BA-EmuET-2J7"
      },
      "source": [
        "##### CO2 and Temp"
      ]
    },
    {
      "cell_type": "code",
      "execution_count": null,
      "metadata": {
        "id": "WNJ0wrmi-2J7",
        "colab": {
          "base_uri": "https://localhost:8080/",
          "height": 542
        },
        "outputId": "c4069223-6644-4579-aca8-2791628885d3"
      },
      "outputs": [
        {
          "output_type": "display_data",
          "data": {
            "text/html": [
              "<html>\n",
              "<head><meta charset=\"utf-8\" /></head>\n",
              "<body>\n",
              "    <div>            <script src=\"https://cdnjs.cloudflare.com/ajax/libs/mathjax/2.7.5/MathJax.js?config=TeX-AMS-MML_SVG\"></script><script type=\"text/javascript\">if (window.MathJax && window.MathJax.Hub && window.MathJax.Hub.Config) {window.MathJax.Hub.Config({SVG: {font: \"STIX-Web\"}});}</script>                <script type=\"text/javascript\">window.PlotlyConfig = {MathJaxConfig: 'local'};</script>\n",
              "        <script src=\"https://cdn.plot.ly/plotly-2.18.2.min.js\"></script>                <div id=\"f953abe6-8846-4cf6-ba64-e507b184790e\" class=\"plotly-graph-div\" style=\"height:525px; width:100%;\"></div>            <script type=\"text/javascript\">                                    window.PLOTLYENV=window.PLOTLYENV || {};                                    if (document.getElementById(\"f953abe6-8846-4cf6-ba64-e507b184790e\")) {                    Plotly.newPlot(                        \"f953abe6-8846-4cf6-ba64-e507b184790e\",                        [{\"hovertemplate\":\"CO2=%{x}<br>Temp=%{y}<extra></extra>\",\"legendgroup\":\"\",\"marker\":{\"color\":\"#636efa\",\"symbol\":\"circle\"},\"mode\":\"markers\",\"name\":\"\",\"orientation\":\"v\",\"showlegend\":false,\"x\":[340.17,340.3,341.53,343.07,344.05,344.77,345.46,346.77,347.55,345.55,341.35,343.06,346.78,346.06,347.66,348.2,348.92,348.4,346.66,343.2,343.08,344.4,345.82,346.54,347.13,348.05,349.77,350.53,349.9,346.09,344.47,345.86,347.15,348.38,348.7,349.72,351.32,352.14,351.61,349.91,347.84,346.52,346.65,347.96,351.68,352.24,353.66,359.56,353.68,352.58,349.03,349.08,350.15,351.44,352.89,353.24,353.8,355.59,355.89,351.53,350.02,350.29,351.44,352.84,353.79,354.88,355.65,356.28,357.29,356.32,354.89,351.28,351.59,353.05,354.27,354.87,355.68,357.06,358.51,359.09,358.1,356.12,353.89,352.3,352.32,353.79,355.07,356.17,356.93,357.82,359.0,359.55,359.32,356.85,354.91,352.93,353.31,355.53,356.86,357.27,358.36,359.27,360.19,359.52,357.42,355.46,354.1,354.12,356.84,358.22,359.91,361.32,359.39,357.42,355.63,356.09,357.56,358.87,359.87,360.79,361.77,363.23,363.77,361.7,359.11,358.11,357.97,360.61,362.04,363.17,364.17,364.51,365.16,364.93,363.53,361.38,359.6,342.92,360.84,363.04,364.09,364.47,366.25,366.69,365.59,364.34,362.2,360.31,362.44,364.33,365.18,365.98,368.61,369.49,368.95,367.74,365.79,364.01,364.35,367.08,368.12,369.6,370.96,370.77,370.33,369.28,366.86,364.94,365.35,366.68,368.04,369.25,369.5,371.51,369.85,368.2,366.91,368.33,369.67,370.52,371.49,372.53,373.37,371.57,369.63,368.16,369.69,371.18,372.45,373.93,375.65,375.5,374.0,371.83,370.66,370.51,372.2,373.71,374.87,375.62,376.48,378.5,378.18,376.72,374.32,373.1,374.64,375.93,377.0,377.87,378.73,380.41,380.63,379.56,377.61,376.15,374.11,375.93,377.45,379.76,381.14,382.2,382.47,380.78,378.73,376.98,378.29,379.92,381.35,382.16,382.66,384.73,384.98,384.09,382.38,380.45,378.92,379.16,380.18,381.79,382.93,383.81,384.56,386.58,386.05,382.0,380.9,381.14,382.42,383.89,385.44,385.73,385.97,387.16,388.5,387.88,386.42,384.15,383.09,382.99,384.13,385.56],\"xaxis\":\"x\",\"y\":[0.149,0.093,0.232,0.078,0.089,0.013,0.049,-0.019,0.065,-0.024,0.025,-0.123,-0.282,-0.155,-0.032,-0.042,0.001,-0.049,-0.042,-0.035,-0.008,-0.093,-0.002,0.121,0.065,0.049,0.045,0.023,0.055,-0.001,0.043,-0.033,0.022,0.116,0.266,0.021,0.084,0.145,0.121,0.238,0.219,0.25,0.174,0.186,0.189,0.248,0.224,0.175,0.2,0.168,0.149,0.12,0.027,0.106,0.019,0.094,0.088,0.083,0.073,0.168,0.135,0.145,0.067,0.181,0.187,0.242,0.442,0.285,0.231,0.233,0.196,0.179,0.271,0.278,0.199,0.224,0.272,0.161,0.299,0.249,0.269,0.271,0.225,0.176,0.133,0.079,0.084,0.266,0.25,0.199,0.132,0.125,0.118,-0.008,-0.007,-0.062,-0.072,0.007,0.204,0.161,0.202,0.121,0.158,0.122,0.088,0.06,0.013,0.061,0.111,0.16,0.176,0.173,0.141,0.175,0.156,0.23,0.248,0.227,0.349,0.449,0.286,0.229,0.176,0.276,0.305,0.21,0.241,0.163,0.069,0.246,0.13,0.097,0.177,0.159,0.177,0.178,0.093,0.089,0.077,0.156,0.247,0.262,0.201,0.254,0.367,0.372,0.406,0.457,0.449,0.526,0.486,0.739,0.608,0.57,0.579,0.651,0.616,0.4,0.409,0.424,0.366,0.29,0.322,0.248,0.266,0.282,0.253,0.274,0.241,0.223,0.338,0.212,0.363,0.271,0.261,0.338,0.309,0.159,0.179,0.329,0.289,0.475,0.426,0.452,0.498,0.405,0.491,0.323,0.568,0.586,0.432,0.455,0.462,0.417,0.413,0.362,0.397,0.326,0.514,0.427,0.418,0.439,0.437,0.457,0.514,0.55,0.419,0.519,0.496,0.56,0.501,0.484,0.323,0.35,0.38,0.418,0.442,0.521,0.381,0.364,0.493,0.53,0.476,0.532,0.502,0.495,0.478,0.366,0.32,0.435,0.38,0.378,0.352,0.442,0.456,0.482,0.425,0.472,0.44,0.518,0.601,0.498,0.435,0.372,0.382,0.358,0.402,0.362,0.266,0.226,0.074,0.198,0.447,0.278,0.283,0.315,0.406,0.407,0.378,0.44,0.394,0.33],\"yaxis\":\"y\",\"type\":\"scatter\"},{\"hovertemplate\":\"<b>OLS trendline</b><br>Temp = 0.0103652 * CO2 + -3.51122<br>R<sup>2</sup>=0.550628<br><br>CO2=%{x}<br>Temp=%{y} <b>(trend)</b><extra></extra>\",\"legendgroup\":\"\",\"marker\":{\"color\":\"#636efa\",\"symbol\":\"circle\"},\"mode\":\"lines\",\"name\":\"\",\"showlegend\":false,\"x\":[340.17,340.3,341.35,341.53,342.92,343.06,343.07,343.08,343.2,344.05,344.4,344.47,344.77,345.46,345.55,345.82,345.86,346.06,346.09,346.52,346.54,346.65,346.66,346.77,346.78,347.13,347.15,347.55,347.66,347.84,347.96,348.05,348.2,348.38,348.4,348.7,348.92,349.03,349.08,349.72,349.77,349.9,349.91,350.02,350.15,350.29,350.53,351.28,351.32,351.44,351.44,351.53,351.59,351.61,351.68,352.14,352.24,352.3,352.32,352.58,352.84,352.89,352.93,353.05,353.24,353.31,353.66,353.68,353.79,353.79,353.8,353.89,354.1,354.12,354.27,354.87,354.88,354.89,354.91,355.07,355.46,355.53,355.59,355.63,355.65,355.68,355.89,356.09,356.12,356.17,356.28,356.32,356.84,356.85,356.86,356.93,357.06,357.27,357.29,357.42,357.42,357.56,357.82,357.97,358.1,358.11,358.22,358.36,358.51,358.87,359.0,359.09,359.11,359.27,359.32,359.39,359.52,359.55,359.56,359.6,359.87,359.91,360.19,360.31,360.61,360.79,360.84,361.32,361.38,361.7,361.77,362.04,362.2,362.44,363.04,363.17,363.23,363.53,363.77,364.01,364.09,364.17,364.33,364.34,364.35,364.47,364.51,364.93,364.94,365.16,365.18,365.35,365.59,365.79,365.98,366.25,366.68,366.69,366.86,366.91,367.08,367.74,368.04,368.12,368.16,368.2,368.33,368.61,368.95,369.25,369.28,369.49,369.5,369.6,369.63,369.67,369.69,369.85,370.33,370.51,370.52,370.66,370.77,370.96,371.18,371.49,371.51,371.57,371.83,372.2,372.45,372.53,373.1,373.37,373.71,373.93,374.0,374.11,374.32,374.64,374.87,375.5,375.62,375.65,375.93,375.93,376.15,376.48,376.72,376.98,377.0,377.45,377.61,377.87,378.18,378.29,378.5,378.73,378.73,378.92,379.16,379.56,379.76,379.92,380.18,380.41,380.45,380.63,380.78,380.9,381.14,381.14,381.35,381.79,382.0,382.16,382.2,382.38,382.42,382.47,382.66,382.93,382.99,383.09,383.81,383.89,384.09,384.13,384.15,384.56,384.73,384.98,385.44,385.56,385.73,385.97,386.05,386.42,386.58,387.16,387.88,388.5],\"xaxis\":\"x\",\"y\":[0.014699591201933426,0.01604706407470191,0.02693049881629417,0.028796230486280994,0.04320382504896081,0.044654949681172784,0.04475860144061672,0.04486225320006021,0.046106074313385204,0.054916473866102766,0.05854428544663337,0.059269847762740024,0.0623794005460514,0.06953137194766912,0.0704642377826632,0.07326283528764366,0.07367744232541895,0.07575047751429365,0.07606143279262456,0.08051845844870531,0.08072576196759318,0.0818659313214738,0.08196958308091817,0.08310975243479879,0.08321340419424228,0.08684121577477333,0.08704851929366031,0.09119458967141014,0.09233475902529165,0.09420049069527803,0.09544431180860302,0.0963771776435971,0.09793195403525301,0.09979768570524028,0.10000498922412726,0.10311454200743952,0.10539488071520209,0.1065350500690827,0.10705330886630149,0.11368702147070087,0.11420528026791921,0.11555275314068769,0.11565640490013207,0.11679657425401269,0.11814404712678117,0.11959517175899403,0.12208281398564313,0.12985669594392313,0.13027130298169842,0.13151512409502342,0.13151512409502342,0.1324479899300166,0.13306990048667888,0.13327720400556675,0.13400276632167296,0.13877074725608463,0.1398072648505222,0.14042917540718447,0.1406364789260719,0.14333142467160886,0.14602637041714583,0.14654462921436462,0.1469592362521399,0.1482030573654649,0.15017244079489567,0.15089800311100188,0.15452581469153293,0.1547331182104199,0.1558732875643014,0.1558732875643014,0.1559769393237449,0.15690980515873854,0.15908649210705716,0.1592937956259446,0.16084857201760006,0.16706767758422458,0.16717132934366807,0.167274981103112,0.16748228462199988,0.16914071277309928,0.17318313139140473,0.17390869370751094,0.17453060426417322,0.1749452113019485,0.17515251482083594,0.1754634700991673,0.17764015704748548,0.17971319223636018,0.18002414751469153,0.18054240631191032,0.18168257566579094,0.18209718270356623,0.18748707419464017,0.18759072595408455,0.18769437771352804,0.18841994002963425,0.18976741290240273,0.19194409985072092,0.1921514033696088,0.19349887624237727,0.19349887624237727,0.19495000087458925,0.19764494662012666,0.19919972301178301,0.2005471958845515,0.200650847643995,0.2017910169978765,0.20324214163008847,0.20479691802174438,0.20852838136171892,0.2098758542344874,0.2108087200694806,0.21101602358836846,0.21267445173946786,0.21319271053668665,0.21391827285279286,0.21526574572556134,0.21557670100389315,0.21568035276333664,0.21609495980111193,0.2188935573060924,0.21930816434386768,0.22221041360829208,0.22345423472161663,0.2265637875049289,0.22842951917491616,0.2289477779721345,0.23392306242543404,0.2345449729820963,0.237861829284296,0.23858739160040177,0.24138598910538311,0.24304441725648251,0.2455320594831325,0.2517511650497566,0.25309863792252507,0.2537205484791878,0.25683010126249917,0.25931774348914916,0.2618053857157987,0.2626345997913484,0.263463813866899,0.2651222420179984,0.2652258937774419,0.26532954553688626,0.2665733666502108,0.26698797368798566,0.27134134758462247,0.2714449993440664,0.2737253380518285,0.27393264157071595,0.27569472148125973,0.27818236370790883,0.28025539889678397,0.2822247823262152,0.28502337983119563,0.2894804054872764,0.2895840572467199,0.29134613715726365,0.29186439595448244,0.2936264758650253,0.30046749198831213,0.3035770447716244,0.3044062588471741,0.3048208658849494,0.3052354729227238,0.3065829457954923,0.30948519505991756,0.31300935488100423,0.3161189076643165,0.3164298629426474,0.31860654989096604,0.31871020165040953,0.3197467192448471,0.320057674523178,0.3204722815609533,0.32067958507984073,0.3223380132309406,0.32731329768423967,0.32917902935422694,0.32928268111367043,0.3307338057458833,0.3318739750997639,0.33384335852919467,0.33612369723695723,0.339336901779713,0.3395442052986004,0.3401661158552627,0.3428610616008001,0.34669617670021813,0.3492874706863116,0.3501166847618613,0.3560248350501549,0.3588234325551354,0.36234759237622205,0.3646279310839846,0.3653534934000908,0.3664936627539719,0.36867034970229007,0.37198720600448976,0.3743711964716958,0.3809012573166508,0.3821450784299758,0.3824560337083067,0.38535828297273156,0.38535828297273156,0.3876386216804937,0.3910591297421373,0.39354677196878685,0.39624171771432426,0.39644902123321124,0.4011133504081794,0.40277177855927926,0.40546672430481623,0.408679928847572,0.4098200982014535,0.41199678514977167,0.4143807756169777,0.4143807756169777,0.41635015904640893,0.4188378012730585,0.42298387165080786,0.4250569068396821,0.4267153349907824,0.42941028073631937,0.4317942712035254,0.43220887824129983,0.4340746099112871,0.435629386302943,0.436873207416268,0.43936084964291755,0.43936084964291755,0.4415375365912366,0.44609821400676086,0.44827490095507905,0.44993332910617934,0.45034793614395374,0.452213667813941,0.4526282748517163,0.4531465336489351,0.45511591707836585,0.45791451458334675,0.45853642514000903,0.45957294273444615,0.46703586941439523,0.46786508348994493,0.4699381186788196,0.4703527257165949,0.4705600292354819,0.4748097513726752,0.476571831283219,0.4791631252693125,0.48393110620372415,0.48517492731704914,0.4869370072275925,0.489424649454242,0.4902538635297917,0.4940889786292102,0.4957474067803096,0.5017592088280471,0.5092221355079953,0.5156485445935068],\"yaxis\":\"y\",\"type\":\"scatter\"}],                        {\"template\":{\"data\":{\"histogram2dcontour\":[{\"type\":\"histogram2dcontour\",\"colorbar\":{\"outlinewidth\":0,\"ticks\":\"\"},\"colorscale\":[[0.0,\"#0d0887\"],[0.1111111111111111,\"#46039f\"],[0.2222222222222222,\"#7201a8\"],[0.3333333333333333,\"#9c179e\"],[0.4444444444444444,\"#bd3786\"],[0.5555555555555556,\"#d8576b\"],[0.6666666666666666,\"#ed7953\"],[0.7777777777777778,\"#fb9f3a\"],[0.8888888888888888,\"#fdca26\"],[1.0,\"#f0f921\"]]}],\"choropleth\":[{\"type\":\"choropleth\",\"colorbar\":{\"outlinewidth\":0,\"ticks\":\"\"}}],\"histogram2d\":[{\"type\":\"histogram2d\",\"colorbar\":{\"outlinewidth\":0,\"ticks\":\"\"},\"colorscale\":[[0.0,\"#0d0887\"],[0.1111111111111111,\"#46039f\"],[0.2222222222222222,\"#7201a8\"],[0.3333333333333333,\"#9c179e\"],[0.4444444444444444,\"#bd3786\"],[0.5555555555555556,\"#d8576b\"],[0.6666666666666666,\"#ed7953\"],[0.7777777777777778,\"#fb9f3a\"],[0.8888888888888888,\"#fdca26\"],[1.0,\"#f0f921\"]]}],\"heatmap\":[{\"type\":\"heatmap\",\"colorbar\":{\"outlinewidth\":0,\"ticks\":\"\"},\"colorscale\":[[0.0,\"#0d0887\"],[0.1111111111111111,\"#46039f\"],[0.2222222222222222,\"#7201a8\"],[0.3333333333333333,\"#9c179e\"],[0.4444444444444444,\"#bd3786\"],[0.5555555555555556,\"#d8576b\"],[0.6666666666666666,\"#ed7953\"],[0.7777777777777778,\"#fb9f3a\"],[0.8888888888888888,\"#fdca26\"],[1.0,\"#f0f921\"]]}],\"heatmapgl\":[{\"type\":\"heatmapgl\",\"colorbar\":{\"outlinewidth\":0,\"ticks\":\"\"},\"colorscale\":[[0.0,\"#0d0887\"],[0.1111111111111111,\"#46039f\"],[0.2222222222222222,\"#7201a8\"],[0.3333333333333333,\"#9c179e\"],[0.4444444444444444,\"#bd3786\"],[0.5555555555555556,\"#d8576b\"],[0.6666666666666666,\"#ed7953\"],[0.7777777777777778,\"#fb9f3a\"],[0.8888888888888888,\"#fdca26\"],[1.0,\"#f0f921\"]]}],\"contourcarpet\":[{\"type\":\"contourcarpet\",\"colorbar\":{\"outlinewidth\":0,\"ticks\":\"\"}}],\"contour\":[{\"type\":\"contour\",\"colorbar\":{\"outlinewidth\":0,\"ticks\":\"\"},\"colorscale\":[[0.0,\"#0d0887\"],[0.1111111111111111,\"#46039f\"],[0.2222222222222222,\"#7201a8\"],[0.3333333333333333,\"#9c179e\"],[0.4444444444444444,\"#bd3786\"],[0.5555555555555556,\"#d8576b\"],[0.6666666666666666,\"#ed7953\"],[0.7777777777777778,\"#fb9f3a\"],[0.8888888888888888,\"#fdca26\"],[1.0,\"#f0f921\"]]}],\"surface\":[{\"type\":\"surface\",\"colorbar\":{\"outlinewidth\":0,\"ticks\":\"\"},\"colorscale\":[[0.0,\"#0d0887\"],[0.1111111111111111,\"#46039f\"],[0.2222222222222222,\"#7201a8\"],[0.3333333333333333,\"#9c179e\"],[0.4444444444444444,\"#bd3786\"],[0.5555555555555556,\"#d8576b\"],[0.6666666666666666,\"#ed7953\"],[0.7777777777777778,\"#fb9f3a\"],[0.8888888888888888,\"#fdca26\"],[1.0,\"#f0f921\"]]}],\"mesh3d\":[{\"type\":\"mesh3d\",\"colorbar\":{\"outlinewidth\":0,\"ticks\":\"\"}}],\"scatter\":[{\"fillpattern\":{\"fillmode\":\"overlay\",\"size\":10,\"solidity\":0.2},\"type\":\"scatter\"}],\"parcoords\":[{\"type\":\"parcoords\",\"line\":{\"colorbar\":{\"outlinewidth\":0,\"ticks\":\"\"}}}],\"scatterpolargl\":[{\"type\":\"scatterpolargl\",\"marker\":{\"colorbar\":{\"outlinewidth\":0,\"ticks\":\"\"}}}],\"bar\":[{\"error_x\":{\"color\":\"#2a3f5f\"},\"error_y\":{\"color\":\"#2a3f5f\"},\"marker\":{\"line\":{\"color\":\"#E5ECF6\",\"width\":0.5},\"pattern\":{\"fillmode\":\"overlay\",\"size\":10,\"solidity\":0.2}},\"type\":\"bar\"}],\"scattergeo\":[{\"type\":\"scattergeo\",\"marker\":{\"colorbar\":{\"outlinewidth\":0,\"ticks\":\"\"}}}],\"scatterpolar\":[{\"type\":\"scatterpolar\",\"marker\":{\"colorbar\":{\"outlinewidth\":0,\"ticks\":\"\"}}}],\"histogram\":[{\"marker\":{\"pattern\":{\"fillmode\":\"overlay\",\"size\":10,\"solidity\":0.2}},\"type\":\"histogram\"}],\"scattergl\":[{\"type\":\"scattergl\",\"marker\":{\"colorbar\":{\"outlinewidth\":0,\"ticks\":\"\"}}}],\"scatter3d\":[{\"type\":\"scatter3d\",\"line\":{\"colorbar\":{\"outlinewidth\":0,\"ticks\":\"\"}},\"marker\":{\"colorbar\":{\"outlinewidth\":0,\"ticks\":\"\"}}}],\"scattermapbox\":[{\"type\":\"scattermapbox\",\"marker\":{\"colorbar\":{\"outlinewidth\":0,\"ticks\":\"\"}}}],\"scatterternary\":[{\"type\":\"scatterternary\",\"marker\":{\"colorbar\":{\"outlinewidth\":0,\"ticks\":\"\"}}}],\"scattercarpet\":[{\"type\":\"scattercarpet\",\"marker\":{\"colorbar\":{\"outlinewidth\":0,\"ticks\":\"\"}}}],\"carpet\":[{\"aaxis\":{\"endlinecolor\":\"#2a3f5f\",\"gridcolor\":\"white\",\"linecolor\":\"white\",\"minorgridcolor\":\"white\",\"startlinecolor\":\"#2a3f5f\"},\"baxis\":{\"endlinecolor\":\"#2a3f5f\",\"gridcolor\":\"white\",\"linecolor\":\"white\",\"minorgridcolor\":\"white\",\"startlinecolor\":\"#2a3f5f\"},\"type\":\"carpet\"}],\"table\":[{\"cells\":{\"fill\":{\"color\":\"#EBF0F8\"},\"line\":{\"color\":\"white\"}},\"header\":{\"fill\":{\"color\":\"#C8D4E3\"},\"line\":{\"color\":\"white\"}},\"type\":\"table\"}],\"barpolar\":[{\"marker\":{\"line\":{\"color\":\"#E5ECF6\",\"width\":0.5},\"pattern\":{\"fillmode\":\"overlay\",\"size\":10,\"solidity\":0.2}},\"type\":\"barpolar\"}],\"pie\":[{\"automargin\":true,\"type\":\"pie\"}]},\"layout\":{\"autotypenumbers\":\"strict\",\"colorway\":[\"#636efa\",\"#EF553B\",\"#00cc96\",\"#ab63fa\",\"#FFA15A\",\"#19d3f3\",\"#FF6692\",\"#B6E880\",\"#FF97FF\",\"#FECB52\"],\"font\":{\"color\":\"#2a3f5f\"},\"hovermode\":\"closest\",\"hoverlabel\":{\"align\":\"left\"},\"paper_bgcolor\":\"white\",\"plot_bgcolor\":\"#E5ECF6\",\"polar\":{\"bgcolor\":\"#E5ECF6\",\"angularaxis\":{\"gridcolor\":\"white\",\"linecolor\":\"white\",\"ticks\":\"\"},\"radialaxis\":{\"gridcolor\":\"white\",\"linecolor\":\"white\",\"ticks\":\"\"}},\"ternary\":{\"bgcolor\":\"#E5ECF6\",\"aaxis\":{\"gridcolor\":\"white\",\"linecolor\":\"white\",\"ticks\":\"\"},\"baxis\":{\"gridcolor\":\"white\",\"linecolor\":\"white\",\"ticks\":\"\"},\"caxis\":{\"gridcolor\":\"white\",\"linecolor\":\"white\",\"ticks\":\"\"}},\"coloraxis\":{\"colorbar\":{\"outlinewidth\":0,\"ticks\":\"\"}},\"colorscale\":{\"sequential\":[[0.0,\"#0d0887\"],[0.1111111111111111,\"#46039f\"],[0.2222222222222222,\"#7201a8\"],[0.3333333333333333,\"#9c179e\"],[0.4444444444444444,\"#bd3786\"],[0.5555555555555556,\"#d8576b\"],[0.6666666666666666,\"#ed7953\"],[0.7777777777777778,\"#fb9f3a\"],[0.8888888888888888,\"#fdca26\"],[1.0,\"#f0f921\"]],\"sequentialminus\":[[0.0,\"#0d0887\"],[0.1111111111111111,\"#46039f\"],[0.2222222222222222,\"#7201a8\"],[0.3333333333333333,\"#9c179e\"],[0.4444444444444444,\"#bd3786\"],[0.5555555555555556,\"#d8576b\"],[0.6666666666666666,\"#ed7953\"],[0.7777777777777778,\"#fb9f3a\"],[0.8888888888888888,\"#fdca26\"],[1.0,\"#f0f921\"]],\"diverging\":[[0,\"#8e0152\"],[0.1,\"#c51b7d\"],[0.2,\"#de77ae\"],[0.3,\"#f1b6da\"],[0.4,\"#fde0ef\"],[0.5,\"#f7f7f7\"],[0.6,\"#e6f5d0\"],[0.7,\"#b8e186\"],[0.8,\"#7fbc41\"],[0.9,\"#4d9221\"],[1,\"#276419\"]]},\"xaxis\":{\"gridcolor\":\"white\",\"linecolor\":\"white\",\"ticks\":\"\",\"title\":{\"standoff\":15},\"zerolinecolor\":\"white\",\"automargin\":true,\"zerolinewidth\":2},\"yaxis\":{\"gridcolor\":\"white\",\"linecolor\":\"white\",\"ticks\":\"\",\"title\":{\"standoff\":15},\"zerolinecolor\":\"white\",\"automargin\":true,\"zerolinewidth\":2},\"scene\":{\"xaxis\":{\"backgroundcolor\":\"#E5ECF6\",\"gridcolor\":\"white\",\"linecolor\":\"white\",\"showbackground\":true,\"ticks\":\"\",\"zerolinecolor\":\"white\",\"gridwidth\":2},\"yaxis\":{\"backgroundcolor\":\"#E5ECF6\",\"gridcolor\":\"white\",\"linecolor\":\"white\",\"showbackground\":true,\"ticks\":\"\",\"zerolinecolor\":\"white\",\"gridwidth\":2},\"zaxis\":{\"backgroundcolor\":\"#E5ECF6\",\"gridcolor\":\"white\",\"linecolor\":\"white\",\"showbackground\":true,\"ticks\":\"\",\"zerolinecolor\":\"white\",\"gridwidth\":2}},\"shapedefaults\":{\"line\":{\"color\":\"#2a3f5f\"}},\"annotationdefaults\":{\"arrowcolor\":\"#2a3f5f\",\"arrowhead\":0,\"arrowwidth\":1},\"geo\":{\"bgcolor\":\"white\",\"landcolor\":\"#E5ECF6\",\"subunitcolor\":\"white\",\"showland\":true,\"showlakes\":true,\"lakecolor\":\"white\"},\"title\":{\"x\":0.05},\"mapbox\":{\"style\":\"light\"}}},\"xaxis\":{\"anchor\":\"y\",\"domain\":[0.0,1.0],\"title\":{\"text\":\"CO2\"}},\"yaxis\":{\"anchor\":\"x\",\"domain\":[0.0,1.0],\"title\":{\"text\":\"Temp\"}},\"legend\":{\"tracegroupgap\":0},\"margin\":{\"t\":60}},                        {\"responsive\": true}                    ).then(function(){\n",
              "                            \n",
              "var gd = document.getElementById('f953abe6-8846-4cf6-ba64-e507b184790e');\n",
              "var x = new MutationObserver(function (mutations, observer) {{\n",
              "        var display = window.getComputedStyle(gd).display;\n",
              "        if (!display || display === 'none') {{\n",
              "            console.log([gd, 'removed!']);\n",
              "            Plotly.purge(gd);\n",
              "            observer.disconnect();\n",
              "        }}\n",
              "}});\n",
              "\n",
              "// Listen for the removal of the full notebook cells\n",
              "var notebookContainer = gd.closest('#notebook-container');\n",
              "if (notebookContainer) {{\n",
              "    x.observe(notebookContainer, {childList: true});\n",
              "}}\n",
              "\n",
              "// Listen for the clearing of the current output cell\n",
              "var outputEl = gd.closest('.output');\n",
              "if (outputEl) {{\n",
              "    x.observe(outputEl, {childList: true});\n",
              "}}\n",
              "\n",
              "                        })                };                            </script>        </div>\n",
              "</body>\n",
              "</html>"
            ]
          },
          "metadata": {}
        }
      ],
      "source": [
        "# create scatter plot\n",
        "fig = px.scatter(no_outliers_df, x=\"CO2\", y=\"Temp\", trendline=\"ols\")\n",
        "fig.show()"
      ]
    },
    {
      "cell_type": "markdown",
      "metadata": {
        "id": "IyGYrD1t-2J7"
      },
      "source": [
        "<i><b>Reason for choosing CO2 and Temp</b></i>\n",
        "\n"
      ]
    },
    {
      "cell_type": "markdown",
      "metadata": {
        "id": "NpxaIY9d-2J7"
      },
      "source": [
        "CO2 is a greenhouse gas that traps heat in the Earth's atmosphere which contributes to the warming of the planet."
      ]
    },
    {
      "cell_type": "code",
      "execution_count": null,
      "metadata": {
        "id": "JTkSbymT-2J7",
        "colab": {
          "base_uri": "https://localhost:8080/"
        },
        "outputId": "dfbab0ba-1c16-418f-e6c8-f8e8afee8672"
      },
      "outputs": [
        {
          "output_type": "execute_result",
          "data": {
            "text/plain": [
              "0.742043113926328"
            ]
          },
          "metadata": {},
          "execution_count": 42
        }
      ],
      "source": [
        "# computes the Pearson correlation coefficients between CO2 and Temp\n",
        "corr = np.corrcoef(no_outliers_df.CO2, no_outliers_df.Temp)\n",
        "corr[0,1]"
      ]
    },
    {
      "cell_type": "markdown",
      "metadata": {
        "id": "7AvTIveX-2J7"
      },
      "source": [
        "<i><b>Relationship between the variables</b></i>"
      ]
    },
    {
      "cell_type": "markdown",
      "metadata": {
        "id": "mbYaS2PB-2J7"
      },
      "source": [
        "The high correlation coefficient of 0.745 indicates a strong and positive relationship between CO2 and temperature. As the concentration of CO2 increases, the temperature also increases."
      ]
    },
    {
      "cell_type": "markdown",
      "metadata": {
        "id": "9MkVqC_a-2J7"
      },
      "source": [
        "##### CH4 and Temp"
      ]
    },
    {
      "cell_type": "code",
      "execution_count": null,
      "metadata": {
        "id": "6FJUwJjI-2J7",
        "colab": {
          "base_uri": "https://localhost:8080/",
          "height": 542
        },
        "outputId": "32b892db-e976-43de-8332-2b83118fde4d"
      },
      "outputs": [
        {
          "output_type": "display_data",
          "data": {
            "text/html": [
              "<html>\n",
              "<head><meta charset=\"utf-8\" /></head>\n",
              "<body>\n",
              "    <div>            <script src=\"https://cdnjs.cloudflare.com/ajax/libs/mathjax/2.7.5/MathJax.js?config=TeX-AMS-MML_SVG\"></script><script type=\"text/javascript\">if (window.MathJax && window.MathJax.Hub && window.MathJax.Hub.Config) {window.MathJax.Hub.Config({SVG: {font: \"STIX-Web\"}});}</script>                <script type=\"text/javascript\">window.PlotlyConfig = {MathJaxConfig: 'local'};</script>\n",
              "        <script src=\"https://cdn.plot.ly/plotly-2.18.2.min.js\"></script>                <div id=\"dad44d8f-31cc-4339-820c-1149432f2813\" class=\"plotly-graph-div\" style=\"height:525px; width:100%;\"></div>            <script type=\"text/javascript\">                                    window.PLOTLYENV=window.PLOTLYENV || {};                                    if (document.getElementById(\"dad44d8f-31cc-4339-820c-1149432f2813\")) {                    Plotly.newPlot(                        \"dad44d8f-31cc-4339-820c-1149432f2813\",                        [{\"hovertemplate\":\"CH4=%{x}<br>Temp=%{marker.color}<extra></extra>\",\"legendgroup\":\"\",\"marker\":{\"color\":[0.149,0.093,0.232,0.078,0.089,0.013,0.049,-0.019,0.065,-0.024,0.025,-0.123,-0.282,-0.155,-0.032,-0.042,0.001,-0.049,-0.042,-0.035,-0.008,-0.093,-0.002,0.121,0.065,0.049,0.045,0.023,0.055,-0.001,0.043,-0.033,0.022,0.116,0.266,0.021,0.084,0.145,0.121,0.238,0.219,0.25,0.174,0.186,0.189,0.248,0.224,0.175,0.2,0.168,0.149,0.12,0.027,0.106,0.019,0.094,0.088,0.083,0.073,0.168,0.135,0.145,0.067,0.181,0.187,0.242,0.442,0.285,0.231,0.233,0.196,0.179,0.271,0.278,0.199,0.224,0.272,0.161,0.299,0.249,0.269,0.271,0.225,0.176,0.133,0.079,0.084,0.266,0.25,0.199,0.132,0.125,0.118,-0.008,-0.007,-0.062,-0.072,0.007,0.204,0.161,0.202,0.121,0.158,0.122,0.088,0.06,0.013,0.061,0.111,0.16,0.176,0.173,0.141,0.175,0.156,0.23,0.248,0.227,0.349,0.449,0.286,0.229,0.176,0.276,0.305,0.21,0.241,0.163,0.069,0.246,0.13,0.097,0.177,0.159,0.177,0.178,0.093,0.089,0.077,0.156,0.247,0.262,0.201,0.254,0.367,0.372,0.406,0.457,0.449,0.526,0.486,0.739,0.608,0.57,0.579,0.651,0.616,0.4,0.409,0.424,0.366,0.29,0.322,0.248,0.266,0.282,0.253,0.274,0.241,0.223,0.338,0.212,0.363,0.271,0.261,0.338,0.309,0.159,0.179,0.329,0.289,0.475,0.426,0.452,0.498,0.405,0.491,0.323,0.568,0.586,0.432,0.455,0.462,0.417,0.413,0.362,0.397,0.326,0.514,0.427,0.418,0.439,0.437,0.457,0.514,0.55,0.419,0.519,0.496,0.56,0.501,0.484,0.323,0.35,0.38,0.418,0.442,0.521,0.381,0.364,0.493,0.53,0.476,0.532,0.502,0.495,0.478,0.366,0.32,0.435,0.38,0.378,0.352,0.442,0.456,0.482,0.425,0.472,0.44,0.518,0.601,0.498,0.435,0.372,0.382,0.358,0.402,0.362,0.266,0.226,0.074,0.198,0.447,0.278,0.283,0.315,0.406,0.407,0.378,0.44,0.394,0.33],\"coloraxis\":\"coloraxis\",\"symbol\":\"circle\"},\"mode\":\"markers\",\"name\":\"\",\"orientation\":\"v\",\"showlegend\":false,\"x\":[1648.4,1663.79,1658.23,1654.31,1658.98,1656.48,1655.77,1657.68,1649.33,1629.89,1663.6,1677.1,1672.15,1666.21,1678.34,1675.24,1666.83,1659.4,1654.25,1668.31,1681.56,1680.68,1677.99,1675.82,1666.83,1672.87,1688.51,1686.02,1685.06,1670.57,1697.71,1692.49,1698.08,1692.74,1690.41,1695.08,1696.18,1694.75,1687.78,1681.24,1678.77,1681.62,1701.48,1716.57,1701.18,1706.09,1708.18,1705.69,1699.06,1687.9,1701.35,1708.91,1719.88,1726.35,1721.48,1713.25,1715.68,1724.08,1724.93,1707.22,1721.44,1722.42,1726.21,1730.61,1727.9,1728.43,1733.82,1737.49,1734.47,1722.26,1712.71,1733.81,1736.9,1741.42,1674.25,1734.82,1730.98,1746.52,1749.54,1747.24,1739.98,1730.94,1644.32,1734.55,1708.76,1750.27,1752.37,1755.57,1750.02,1752.39,1753.24,1744.48,1735.3,1736.28,1725.65,1729.78,1740.76,1758.32,1747.82,1745.64,1747.95,1746.7,1749.5,1745.54,1731.92,1647.37,1744.46,1760.21,1763.5,1759.84,1754.63,1763.75,1737.42,1733.9,1757.14,1778.6,1781.02,1779.12,1764.33,1756.89,1764.65,1762.72,1761.94,1749.21,1750.94,1761.26,1768.73,1772.75,1771.15,1770.25,1769.7,1758.89,1754.78,1753.6,1828.99,1745.36,1766.96,1774.5,1714.04,1769.9,1768.98,1776.07,1780.96,1776.67,1768.27,1751.61,1750.23,1775.56,1783.94,1783.14,1772.15,1766.01,1780.3,1781.02,1779.0,1762.46,1757.06,1771.02,1787.32,1718.73,1796.25,1788.08,1788.27,1773.11,1771.39,1767.43,1768.99,1786.22,1794.88,1796.88,1802.26,1802.45,1794.21,1774.19,1769.87,1762.4,1774.22,1799.06,1791.13,1701.47,1793.7,1801.51,1797.89,1769.8,1765.16,1780.4,1793.55,1796.58,1787.94,1786.67,1778.81,1775.11,1766.96,1766.58,1780.92,1796.0,1801.67,1793.14,1786.46,1792.28,1797.44,1745.08,1791.12,1785.91,1773.56,1806.62,1808.15,1795.07,1790.34,1798.45,1807.48,1806.05,1788.24,1780.35,1749.09,1770.29,1778.7,1801.03,1797.24,1796.63,1803.37,1791.84,1781.36,1771.92,1766.98,1806.71,1803.68,1753.72,1795.03,1786.41,1786.77,1850.55,1798.85,1780.21,1765.95,1762.66,1776.04,1789.02,1791.91,1795.04,1799.66,1803.08,1803.1,1877.61,1781.81,1779.38,1794.21,1802.38,1803.79,1805.58,1809.92,1803.45,1792.84,1792.57,1796.43,1791.8,1782.93,1779.88,1795.08,1814.18,1812.37,1812.88],\"xaxis\":\"x\",\"y\":[0.149,0.093,0.232,0.078,0.089,0.013,0.049,-0.019,0.065,-0.024,0.025,-0.123,-0.282,-0.155,-0.032,-0.042,0.001,-0.049,-0.042,-0.035,-0.008,-0.093,-0.002,0.121,0.065,0.049,0.045,0.023,0.055,-0.001,0.043,-0.033,0.022,0.116,0.266,0.021,0.084,0.145,0.121,0.238,0.219,0.25,0.174,0.186,0.189,0.248,0.224,0.175,0.2,0.168,0.149,0.12,0.027,0.106,0.019,0.094,0.088,0.083,0.073,0.168,0.135,0.145,0.067,0.181,0.187,0.242,0.442,0.285,0.231,0.233,0.196,0.179,0.271,0.278,0.199,0.224,0.272,0.161,0.299,0.249,0.269,0.271,0.225,0.176,0.133,0.079,0.084,0.266,0.25,0.199,0.132,0.125,0.118,-0.008,-0.007,-0.062,-0.072,0.007,0.204,0.161,0.202,0.121,0.158,0.122,0.088,0.06,0.013,0.061,0.111,0.16,0.176,0.173,0.141,0.175,0.156,0.23,0.248,0.227,0.349,0.449,0.286,0.229,0.176,0.276,0.305,0.21,0.241,0.163,0.069,0.246,0.13,0.097,0.177,0.159,0.177,0.178,0.093,0.089,0.077,0.156,0.247,0.262,0.201,0.254,0.367,0.372,0.406,0.457,0.449,0.526,0.486,0.739,0.608,0.57,0.579,0.651,0.616,0.4,0.409,0.424,0.366,0.29,0.322,0.248,0.266,0.282,0.253,0.274,0.241,0.223,0.338,0.212,0.363,0.271,0.261,0.338,0.309,0.159,0.179,0.329,0.289,0.475,0.426,0.452,0.498,0.405,0.491,0.323,0.568,0.586,0.432,0.455,0.462,0.417,0.413,0.362,0.397,0.326,0.514,0.427,0.418,0.439,0.437,0.457,0.514,0.55,0.419,0.519,0.496,0.56,0.501,0.484,0.323,0.35,0.38,0.418,0.442,0.521,0.381,0.364,0.493,0.53,0.476,0.532,0.502,0.495,0.478,0.366,0.32,0.435,0.38,0.378,0.352,0.442,0.456,0.482,0.425,0.472,0.44,0.518,0.601,0.498,0.435,0.372,0.382,0.358,0.402,0.362,0.266,0.226,0.074,0.198,0.447,0.278,0.283,0.315,0.406,0.407,0.378,0.44,0.394,0.33],\"yaxis\":\"y\",\"type\":\"scatter\"},{\"hovertemplate\":\"<b>OLS trendline</b><br>Temp = 0.00262017 * CH4 + -4.32898<br>R<sup>2</sup>=0.463452<br><br>CH4=%{x}<br>Temp=%{y} <b>(trend)</b><extra></extra>\",\"legendgroup\":\"\",\"marker\":{\"symbol\":\"circle\"},\"mode\":\"lines\",\"name\":\"\",\"showlegend\":false,\"x\":[1629.89,1644.32,1647.37,1648.4,1649.33,1654.25,1654.31,1655.77,1656.48,1657.68,1658.23,1658.98,1659.4,1663.6,1663.79,1666.21,1666.83,1666.83,1668.31,1670.57,1672.15,1672.87,1674.25,1675.24,1675.82,1677.1,1677.99,1678.34,1678.77,1680.68,1681.24,1681.56,1681.62,1685.06,1686.02,1687.78,1687.9,1688.51,1690.41,1692.49,1692.74,1694.75,1695.08,1696.18,1697.71,1698.08,1699.06,1701.18,1701.35,1701.47,1701.48,1705.69,1706.09,1707.22,1708.18,1708.76,1708.91,1712.71,1713.25,1714.04,1715.68,1716.57,1718.73,1719.88,1721.44,1721.48,1722.26,1722.42,1724.08,1724.93,1725.65,1726.21,1726.35,1727.9,1728.43,1729.78,1730.61,1730.94,1730.98,1731.92,1733.81,1733.82,1733.9,1734.47,1734.55,1734.82,1735.3,1736.28,1736.9,1737.42,1737.49,1739.98,1740.76,1741.42,1744.46,1744.48,1745.08,1745.36,1745.54,1745.64,1746.52,1746.7,1747.24,1747.82,1747.95,1749.09,1749.21,1749.5,1749.54,1750.02,1750.23,1750.27,1750.94,1751.61,1752.37,1752.39,1753.24,1753.6,1753.72,1754.63,1754.78,1755.57,1756.89,1757.06,1757.14,1758.32,1758.89,1759.84,1760.21,1761.26,1761.94,1762.4,1762.46,1762.66,1762.72,1763.5,1763.75,1764.33,1764.65,1765.16,1765.95,1766.01,1766.58,1766.96,1766.96,1766.98,1767.43,1768.27,1768.73,1768.98,1768.99,1769.7,1769.8,1769.87,1769.9,1770.25,1770.29,1771.02,1771.15,1771.39,1771.92,1772.15,1772.75,1773.11,1773.56,1774.19,1774.22,1774.5,1775.11,1775.56,1776.04,1776.07,1776.67,1778.6,1778.7,1778.81,1779.0,1779.12,1779.38,1779.88,1780.21,1780.3,1780.35,1780.4,1780.92,1780.96,1781.02,1781.02,1781.36,1781.81,1782.93,1783.14,1783.94,1785.91,1786.22,1786.41,1786.46,1786.67,1786.77,1787.32,1787.94,1788.08,1788.24,1788.27,1789.02,1790.34,1791.12,1791.13,1791.8,1791.84,1791.91,1792.28,1792.57,1792.84,1793.14,1793.55,1793.7,1794.21,1794.21,1794.88,1795.03,1795.04,1795.07,1795.08,1796.0,1796.25,1796.43,1796.58,1796.63,1796.88,1797.24,1797.44,1797.89,1798.45,1798.85,1799.06,1799.66,1801.03,1801.51,1801.67,1802.26,1802.38,1802.45,1803.08,1803.1,1803.37,1803.45,1803.68,1803.79,1805.58,1806.05,1806.62,1806.71,1807.48,1808.15,1809.92,1812.37,1812.88,1814.18,1828.99,1850.55,1877.61],\"xaxis\":\"x\",\"y\":[-0.05839547044328697,-0.02058647154739557,-0.012594964504257788,-0.009896193273296383,-0.007459438666701068,0.005431779252065283,0.005588989226684049,0.009414431942415646,0.011274749975408227,0.014418949467789766,0.015860040901798378,0.017825165584536506,0.018925635406870533,0.029930333630206363,0.030428165216500602,0.036768967526137786,0.03839347059720133,0.03839347059720133,0.042271316637805256,0.04819289234845847,0.05233275501342849,0.054219274708856346,0.05783510412509596,0.06042906870631093,0.061948765127628924,0.06530257791950245,0.0676345258763531,0.06855158406163042,0.0696782555464015,0.07468277307177562,0.0761500661682204,0.07698851936618922,0.07714572934080799,0.08615910121896952,0.08867446081287511,0.09328595340170143,0.09360037335093985,0.09519867475956723,0.10017699062250518,0.10562693640930032,0.10628197797021333,0.11154851211995354,0.11241316698035764,0.11529534984837486,0.11930420420116139,0.12027366571131282,0.12284142863009162,0.1283961810666332,0.12884160932805333,0.12915602927729175,0.12918223093972792,0.1402131308255017,0.1412611973229616,0.14422198517828821,0.1467373447721938,0.1482570411935118,0.1486500661300596,0.1586066978559355,0.16002158762750707,0.16209151895999163,0.16638859159958042,0.16872053955643018,0.1743800986427173,0.17739328982291713,0.18148074916301304,0.18158555581275948,0.18362928548280788,0.18404851208179185,0.18839798804625296,0.19062512935335718,0.19251164904878681,0.1939789421452316,0.19434576541934234,0.19840702309700298,0.19979571120613748,0.20333293563506682,0.20550767361729783,0.20637232847770282,0.20647713512744925,0.20894009139648162,0.21389220559698252,0.21391840725941957,0.21412802055891156,0.2156215153177934,0.21583112861728537,0.2165385735030707,0.2177962533000235,0.2203640162188023,0.22198851928986674,0.22335100573656508,0.2235344173736209,0.230058631320313,0.2321023609903614,0.2338316707111714,0.24179697609187212,0.24184937941674534,0.24342147916293566,0.24415512571115805,0.24462675563501612,0.24488877225938133,0.24719451855379404,0.24766614847765211,0.24908103824922367,0.25060073467054167,0.25094135628221625,0.253928345799979,0.25424276574921745,0.255002613959876,0.25510742060962244,0.25636510040657523,0.2569153353177418,0.25702014196748735,0.2587756533507344,0.2605311647339805,0.2625224910791557,0.2625748944040289,0.26480203571113314,0.2657452955588475,0.26605971550808594,0.2684440667898089,0.26883709172635584,0.2709070230588413,0.27436564250046125,0.2748110707618814,0.27502068406137425,0.2781124802288826,0.2796059749877644,0.28209513291923294,0.28306459442938436,0.2858157689852181,0.2875974820309013,0.28880275850298176,0.2889599684776005,0.28948400172633093,0.2896412117009497,0.2916849413709981,0.2923399829319111,0.2938596793532282,0.29469813255119703,0.2960344173354601,0.29810434866794466,0.29826155864256343,0.29975505340144437,0.30075071657403285,0.30075071657403285,0.3008031198989052,0.3019821947085486,0.30418313435321576,0.30538841082529533,0.30604345238620834,0.3060696540486454,0.30792997208163797,0.3081919887060023,0.3083754003430581,0.3084540053303684,0.3093710635156457,0.30947587016539213,0.31138859152325793,0.3117292131349325,0.31235805303340936,0.31374674114254386,0.31434937937858454,0.31592147912477486,0.31686473897248923,0.31804381378213264,0.31969451851563324,0.3197731235029426,0.320506770051165,0.3221050714597924,0.3232841462694358,0.3245418260663886,0.324620431053698,0.3261925307998892,0.33124945165013653,0.33151146827450173,0.3317996865613031,0.33229751814759734,0.33261193809683487,0.33329318132018493,0.33460326444201094,0.33546791930241593,0.3357037342643441,0.3358347425765267,0.3359657508887093,0.3373282373354085,0.33743304398515406,0.3375902539597728,0.3375902539597728,0.33848111048261487,0.3396601852922583,0.34259477148514783,0.3431450063963144,0.345241139391236,0.3504028668912298,0.35121511842676156,0.3517129500130558,0.3518439583252375,0.352394193236405,0.3526562098607693,0.3540973012947779,0.35572180436584233,0.3560886276399531,0.35650785423893794,0.3565864592262473,0.35855158390898545,0.3620102033506054,0.3640539330206538,0.36408013468309086,0.365835646066337,0.36594045271608255,0.36612386435313926,0.3670933258632898,0.36785317407394835,0.3685606189597346,0.3693466688328302,0.37042093699272716,0.37081396192927496,0.37215024671353714,0.37215024671353714,0.37390575809678417,0.37429878303333197,0.37432498469576814,0.3744035896830775,0.3744297913455137,0.3768403442896737,0.37749538585058673,0.3779670157744439,0.3783600407109917,0.3784910490231743,0.3791460905840873,0.3800893504318017,0.3806133836805321,0.3817924584901755,0.3832597515866203,0.3843078180840802,0.38485805299524767,0.3864301527414389,0.39001978049524055,0.39127746029219335,0.3916966868911782,0.39324258497493236,0.3935570049241708,0.3937404165612266,0.3953911212947263,0.39544352461959953,0.39615096950538575,0.39636058280487774,0.3969632210409175,0.3972514393277189,0.4019415369038555,0.4031730150383721,0.40466650979725305,0.4049023247591821,0.40691985276679343,0.40867536415004047,0.41331305840130383,0.4197324656982495,0.4210687504825126,0.4244749665992593,0.4632796286677383,0.5197704128808658,0.5906721114340776],\"yaxis\":\"y\",\"type\":\"scatter\"}],                        {\"template\":{\"data\":{\"histogram2dcontour\":[{\"type\":\"histogram2dcontour\",\"colorbar\":{\"outlinewidth\":0,\"ticks\":\"\"},\"colorscale\":[[0.0,\"#0d0887\"],[0.1111111111111111,\"#46039f\"],[0.2222222222222222,\"#7201a8\"],[0.3333333333333333,\"#9c179e\"],[0.4444444444444444,\"#bd3786\"],[0.5555555555555556,\"#d8576b\"],[0.6666666666666666,\"#ed7953\"],[0.7777777777777778,\"#fb9f3a\"],[0.8888888888888888,\"#fdca26\"],[1.0,\"#f0f921\"]]}],\"choropleth\":[{\"type\":\"choropleth\",\"colorbar\":{\"outlinewidth\":0,\"ticks\":\"\"}}],\"histogram2d\":[{\"type\":\"histogram2d\",\"colorbar\":{\"outlinewidth\":0,\"ticks\":\"\"},\"colorscale\":[[0.0,\"#0d0887\"],[0.1111111111111111,\"#46039f\"],[0.2222222222222222,\"#7201a8\"],[0.3333333333333333,\"#9c179e\"],[0.4444444444444444,\"#bd3786\"],[0.5555555555555556,\"#d8576b\"],[0.6666666666666666,\"#ed7953\"],[0.7777777777777778,\"#fb9f3a\"],[0.8888888888888888,\"#fdca26\"],[1.0,\"#f0f921\"]]}],\"heatmap\":[{\"type\":\"heatmap\",\"colorbar\":{\"outlinewidth\":0,\"ticks\":\"\"},\"colorscale\":[[0.0,\"#0d0887\"],[0.1111111111111111,\"#46039f\"],[0.2222222222222222,\"#7201a8\"],[0.3333333333333333,\"#9c179e\"],[0.4444444444444444,\"#bd3786\"],[0.5555555555555556,\"#d8576b\"],[0.6666666666666666,\"#ed7953\"],[0.7777777777777778,\"#fb9f3a\"],[0.8888888888888888,\"#fdca26\"],[1.0,\"#f0f921\"]]}],\"heatmapgl\":[{\"type\":\"heatmapgl\",\"colorbar\":{\"outlinewidth\":0,\"ticks\":\"\"},\"colorscale\":[[0.0,\"#0d0887\"],[0.1111111111111111,\"#46039f\"],[0.2222222222222222,\"#7201a8\"],[0.3333333333333333,\"#9c179e\"],[0.4444444444444444,\"#bd3786\"],[0.5555555555555556,\"#d8576b\"],[0.6666666666666666,\"#ed7953\"],[0.7777777777777778,\"#fb9f3a\"],[0.8888888888888888,\"#fdca26\"],[1.0,\"#f0f921\"]]}],\"contourcarpet\":[{\"type\":\"contourcarpet\",\"colorbar\":{\"outlinewidth\":0,\"ticks\":\"\"}}],\"contour\":[{\"type\":\"contour\",\"colorbar\":{\"outlinewidth\":0,\"ticks\":\"\"},\"colorscale\":[[0.0,\"#0d0887\"],[0.1111111111111111,\"#46039f\"],[0.2222222222222222,\"#7201a8\"],[0.3333333333333333,\"#9c179e\"],[0.4444444444444444,\"#bd3786\"],[0.5555555555555556,\"#d8576b\"],[0.6666666666666666,\"#ed7953\"],[0.7777777777777778,\"#fb9f3a\"],[0.8888888888888888,\"#fdca26\"],[1.0,\"#f0f921\"]]}],\"surface\":[{\"type\":\"surface\",\"colorbar\":{\"outlinewidth\":0,\"ticks\":\"\"},\"colorscale\":[[0.0,\"#0d0887\"],[0.1111111111111111,\"#46039f\"],[0.2222222222222222,\"#7201a8\"],[0.3333333333333333,\"#9c179e\"],[0.4444444444444444,\"#bd3786\"],[0.5555555555555556,\"#d8576b\"],[0.6666666666666666,\"#ed7953\"],[0.7777777777777778,\"#fb9f3a\"],[0.8888888888888888,\"#fdca26\"],[1.0,\"#f0f921\"]]}],\"mesh3d\":[{\"type\":\"mesh3d\",\"colorbar\":{\"outlinewidth\":0,\"ticks\":\"\"}}],\"scatter\":[{\"fillpattern\":{\"fillmode\":\"overlay\",\"size\":10,\"solidity\":0.2},\"type\":\"scatter\"}],\"parcoords\":[{\"type\":\"parcoords\",\"line\":{\"colorbar\":{\"outlinewidth\":0,\"ticks\":\"\"}}}],\"scatterpolargl\":[{\"type\":\"scatterpolargl\",\"marker\":{\"colorbar\":{\"outlinewidth\":0,\"ticks\":\"\"}}}],\"bar\":[{\"error_x\":{\"color\":\"#2a3f5f\"},\"error_y\":{\"color\":\"#2a3f5f\"},\"marker\":{\"line\":{\"color\":\"#E5ECF6\",\"width\":0.5},\"pattern\":{\"fillmode\":\"overlay\",\"size\":10,\"solidity\":0.2}},\"type\":\"bar\"}],\"scattergeo\":[{\"type\":\"scattergeo\",\"marker\":{\"colorbar\":{\"outlinewidth\":0,\"ticks\":\"\"}}}],\"scatterpolar\":[{\"type\":\"scatterpolar\",\"marker\":{\"colorbar\":{\"outlinewidth\":0,\"ticks\":\"\"}}}],\"histogram\":[{\"marker\":{\"pattern\":{\"fillmode\":\"overlay\",\"size\":10,\"solidity\":0.2}},\"type\":\"histogram\"}],\"scattergl\":[{\"type\":\"scattergl\",\"marker\":{\"colorbar\":{\"outlinewidth\":0,\"ticks\":\"\"}}}],\"scatter3d\":[{\"type\":\"scatter3d\",\"line\":{\"colorbar\":{\"outlinewidth\":0,\"ticks\":\"\"}},\"marker\":{\"colorbar\":{\"outlinewidth\":0,\"ticks\":\"\"}}}],\"scattermapbox\":[{\"type\":\"scattermapbox\",\"marker\":{\"colorbar\":{\"outlinewidth\":0,\"ticks\":\"\"}}}],\"scatterternary\":[{\"type\":\"scatterternary\",\"marker\":{\"colorbar\":{\"outlinewidth\":0,\"ticks\":\"\"}}}],\"scattercarpet\":[{\"type\":\"scattercarpet\",\"marker\":{\"colorbar\":{\"outlinewidth\":0,\"ticks\":\"\"}}}],\"carpet\":[{\"aaxis\":{\"endlinecolor\":\"#2a3f5f\",\"gridcolor\":\"white\",\"linecolor\":\"white\",\"minorgridcolor\":\"white\",\"startlinecolor\":\"#2a3f5f\"},\"baxis\":{\"endlinecolor\":\"#2a3f5f\",\"gridcolor\":\"white\",\"linecolor\":\"white\",\"minorgridcolor\":\"white\",\"startlinecolor\":\"#2a3f5f\"},\"type\":\"carpet\"}],\"table\":[{\"cells\":{\"fill\":{\"color\":\"#EBF0F8\"},\"line\":{\"color\":\"white\"}},\"header\":{\"fill\":{\"color\":\"#C8D4E3\"},\"line\":{\"color\":\"white\"}},\"type\":\"table\"}],\"barpolar\":[{\"marker\":{\"line\":{\"color\":\"#E5ECF6\",\"width\":0.5},\"pattern\":{\"fillmode\":\"overlay\",\"size\":10,\"solidity\":0.2}},\"type\":\"barpolar\"}],\"pie\":[{\"automargin\":true,\"type\":\"pie\"}]},\"layout\":{\"autotypenumbers\":\"strict\",\"colorway\":[\"#636efa\",\"#EF553B\",\"#00cc96\",\"#ab63fa\",\"#FFA15A\",\"#19d3f3\",\"#FF6692\",\"#B6E880\",\"#FF97FF\",\"#FECB52\"],\"font\":{\"color\":\"#2a3f5f\"},\"hovermode\":\"closest\",\"hoverlabel\":{\"align\":\"left\"},\"paper_bgcolor\":\"white\",\"plot_bgcolor\":\"#E5ECF6\",\"polar\":{\"bgcolor\":\"#E5ECF6\",\"angularaxis\":{\"gridcolor\":\"white\",\"linecolor\":\"white\",\"ticks\":\"\"},\"radialaxis\":{\"gridcolor\":\"white\",\"linecolor\":\"white\",\"ticks\":\"\"}},\"ternary\":{\"bgcolor\":\"#E5ECF6\",\"aaxis\":{\"gridcolor\":\"white\",\"linecolor\":\"white\",\"ticks\":\"\"},\"baxis\":{\"gridcolor\":\"white\",\"linecolor\":\"white\",\"ticks\":\"\"},\"caxis\":{\"gridcolor\":\"white\",\"linecolor\":\"white\",\"ticks\":\"\"}},\"coloraxis\":{\"colorbar\":{\"outlinewidth\":0,\"ticks\":\"\"}},\"colorscale\":{\"sequential\":[[0.0,\"#0d0887\"],[0.1111111111111111,\"#46039f\"],[0.2222222222222222,\"#7201a8\"],[0.3333333333333333,\"#9c179e\"],[0.4444444444444444,\"#bd3786\"],[0.5555555555555556,\"#d8576b\"],[0.6666666666666666,\"#ed7953\"],[0.7777777777777778,\"#fb9f3a\"],[0.8888888888888888,\"#fdca26\"],[1.0,\"#f0f921\"]],\"sequentialminus\":[[0.0,\"#0d0887\"],[0.1111111111111111,\"#46039f\"],[0.2222222222222222,\"#7201a8\"],[0.3333333333333333,\"#9c179e\"],[0.4444444444444444,\"#bd3786\"],[0.5555555555555556,\"#d8576b\"],[0.6666666666666666,\"#ed7953\"],[0.7777777777777778,\"#fb9f3a\"],[0.8888888888888888,\"#fdca26\"],[1.0,\"#f0f921\"]],\"diverging\":[[0,\"#8e0152\"],[0.1,\"#c51b7d\"],[0.2,\"#de77ae\"],[0.3,\"#f1b6da\"],[0.4,\"#fde0ef\"],[0.5,\"#f7f7f7\"],[0.6,\"#e6f5d0\"],[0.7,\"#b8e186\"],[0.8,\"#7fbc41\"],[0.9,\"#4d9221\"],[1,\"#276419\"]]},\"xaxis\":{\"gridcolor\":\"white\",\"linecolor\":\"white\",\"ticks\":\"\",\"title\":{\"standoff\":15},\"zerolinecolor\":\"white\",\"automargin\":true,\"zerolinewidth\":2},\"yaxis\":{\"gridcolor\":\"white\",\"linecolor\":\"white\",\"ticks\":\"\",\"title\":{\"standoff\":15},\"zerolinecolor\":\"white\",\"automargin\":true,\"zerolinewidth\":2},\"scene\":{\"xaxis\":{\"backgroundcolor\":\"#E5ECF6\",\"gridcolor\":\"white\",\"linecolor\":\"white\",\"showbackground\":true,\"ticks\":\"\",\"zerolinecolor\":\"white\",\"gridwidth\":2},\"yaxis\":{\"backgroundcolor\":\"#E5ECF6\",\"gridcolor\":\"white\",\"linecolor\":\"white\",\"showbackground\":true,\"ticks\":\"\",\"zerolinecolor\":\"white\",\"gridwidth\":2},\"zaxis\":{\"backgroundcolor\":\"#E5ECF6\",\"gridcolor\":\"white\",\"linecolor\":\"white\",\"showbackground\":true,\"ticks\":\"\",\"zerolinecolor\":\"white\",\"gridwidth\":2}},\"shapedefaults\":{\"line\":{\"color\":\"#2a3f5f\"}},\"annotationdefaults\":{\"arrowcolor\":\"#2a3f5f\",\"arrowhead\":0,\"arrowwidth\":1},\"geo\":{\"bgcolor\":\"white\",\"landcolor\":\"#E5ECF6\",\"subunitcolor\":\"white\",\"showland\":true,\"showlakes\":true,\"lakecolor\":\"white\"},\"title\":{\"x\":0.05},\"mapbox\":{\"style\":\"light\"}}},\"xaxis\":{\"anchor\":\"y\",\"domain\":[0.0,1.0],\"title\":{\"text\":\"CH4\"}},\"yaxis\":{\"anchor\":\"x\",\"domain\":[0.0,1.0],\"title\":{\"text\":\"Temp\"}},\"coloraxis\":{\"colorbar\":{\"title\":{\"text\":\"Temp\"}},\"colorscale\":[[0.0,\"#0d0887\"],[0.1111111111111111,\"#46039f\"],[0.2222222222222222,\"#7201a8\"],[0.3333333333333333,\"#9c179e\"],[0.4444444444444444,\"#bd3786\"],[0.5555555555555556,\"#d8576b\"],[0.6666666666666666,\"#ed7953\"],[0.7777777777777778,\"#fb9f3a\"],[0.8888888888888888,\"#fdca26\"],[1.0,\"#f0f921\"]]},\"legend\":{\"tracegroupgap\":0},\"margin\":{\"t\":60}},                        {\"responsive\": true}                    ).then(function(){\n",
              "                            \n",
              "var gd = document.getElementById('dad44d8f-31cc-4339-820c-1149432f2813');\n",
              "var x = new MutationObserver(function (mutations, observer) {{\n",
              "        var display = window.getComputedStyle(gd).display;\n",
              "        if (!display || display === 'none') {{\n",
              "            console.log([gd, 'removed!']);\n",
              "            Plotly.purge(gd);\n",
              "            observer.disconnect();\n",
              "        }}\n",
              "}});\n",
              "\n",
              "// Listen for the removal of the full notebook cells\n",
              "var notebookContainer = gd.closest('#notebook-container');\n",
              "if (notebookContainer) {{\n",
              "    x.observe(notebookContainer, {childList: true});\n",
              "}}\n",
              "\n",
              "// Listen for the clearing of the current output cell\n",
              "var outputEl = gd.closest('.output');\n",
              "if (outputEl) {{\n",
              "    x.observe(outputEl, {childList: true});\n",
              "}}\n",
              "\n",
              "                        })                };                            </script>        </div>\n",
              "</body>\n",
              "</html>"
            ]
          },
          "metadata": {}
        }
      ],
      "source": [
        "# create scatter plot\n",
        "fig = px.scatter(no_outliers_df, x=\"CH4\", y=\"Temp\", color='Temp', trendline='ols')\n",
        "fig.show()"
      ]
    },
    {
      "cell_type": "markdown",
      "metadata": {
        "id": "5vvqyg5e-2J7"
      },
      "source": [
        "<i><b>Reason for choosing CH4 and Temp</b></i>"
      ]
    },
    {
      "cell_type": "markdown",
      "metadata": {
        "id": "dYeJDpnF-2J7"
      },
      "source": [
        "CH4 is a greenhouse gas that traps heat in the Earth's atmosphere which contributes to the warming of the planet."
      ]
    },
    {
      "cell_type": "code",
      "execution_count": null,
      "metadata": {
        "id": "7EJx5HRG-2J8",
        "colab": {
          "base_uri": "https://localhost:8080/"
        },
        "outputId": "0b1eaf92-354d-4b14-9682-a1447ebe78f1"
      },
      "outputs": [
        {
          "output_type": "execute_result",
          "data": {
            "text/plain": [
              "0.6807730524874527"
            ]
          },
          "metadata": {},
          "execution_count": 44
        }
      ],
      "source": [
        "# computes the Pearson correlation coefficients between CH4 and Temp\n",
        "corr = np.corrcoef(no_outliers_df.CH4, no_outliers_df.Temp)\n",
        "corr[1,0]"
      ]
    },
    {
      "cell_type": "markdown",
      "metadata": {
        "id": "_nzLEiDH-2J8"
      },
      "source": [
        "<i><b>Relationship between the variables</b></i>"
      ]
    },
    {
      "cell_type": "markdown",
      "metadata": {
        "id": "DGjtlxt--2J8"
      },
      "source": [
        "The high correlation coefficient of 0.670 indicates a strong and positive relationship between CH4 and temperature. As the concentration of CH4 increases, the temperature also increases."
      ]
    },
    {
      "cell_type": "markdown",
      "source": [
        "#####Temp and Year, categorised by N2O"
      ],
      "metadata": {
        "id": "DWqn3MoWEgEg"
      }
    },
    {
      "cell_type": "code",
      "source": [
        "# create scatter plot\n",
        "fig = px.scatter(no_outliers_df, x=\"Year\", y=\"Temp\", color='N2O')\n",
        "fig.show()"
      ],
      "metadata": {
        "id": "nkRUCTqYFM4o",
        "colab": {
          "base_uri": "https://localhost:8080/",
          "height": 542
        },
        "outputId": "ec98910e-62ab-4944-d082-f6c5240b98b5"
      },
      "execution_count": null,
      "outputs": [
        {
          "output_type": "display_data",
          "data": {
            "text/html": [
              "<html>\n",
              "<head><meta charset=\"utf-8\" /></head>\n",
              "<body>\n",
              "    <div>            <script src=\"https://cdnjs.cloudflare.com/ajax/libs/mathjax/2.7.5/MathJax.js?config=TeX-AMS-MML_SVG\"></script><script type=\"text/javascript\">if (window.MathJax && window.MathJax.Hub && window.MathJax.Hub.Config) {window.MathJax.Hub.Config({SVG: {font: \"STIX-Web\"}});}</script>                <script type=\"text/javascript\">window.PlotlyConfig = {MathJaxConfig: 'local'};</script>\n",
              "        <script src=\"https://cdn.plot.ly/plotly-2.18.2.min.js\"></script>                <div id=\"7f72d3e3-db91-4219-a2f8-86ef8e652745\" class=\"plotly-graph-div\" style=\"height:525px; width:100%;\"></div>            <script type=\"text/javascript\">                                    window.PLOTLYENV=window.PLOTLYENV || {};                                    if (document.getElementById(\"7f72d3e3-db91-4219-a2f8-86ef8e652745\")) {                    Plotly.newPlot(                        \"7f72d3e3-db91-4219-a2f8-86ef8e652745\",                        [{\"hovertemplate\":\"N2O=L<br>Year=%{x}<br>Temp=%{y}<extra></extra>\",\"legendgroup\":\"L\",\"marker\":{\"color\":\"#636efa\",\"symbol\":\"circle\"},\"mode\":\"markers\",\"name\":\"L\",\"orientation\":\"v\",\"showlegend\":true,\"x\":[1983,1983,1983,1983,1984,1984,1984,1984,1984,1984,1984,1984,1984,1985,1985,1985,1985,1985,1985,1985,1985,1985,1986,1986,1986,1986,1986,1986,1986,1986,1986,1986,1987,1987,1987,1987,1987,1987,1987,1987,1987,1987,1988,1988,1988,1988,1988,1988,1988,1988,1988,1988,1989,1989,1989,1989,1989,1989,1989,1989,1989,1990,1990,1990,1990,1990,1990,1990,1990,1990,1990,1991,1991,1991,1991,1991,1991,1991,1991,1991,1991,1991,1991,1992,1992,1992,1992,1992,1992,1992,1992,1992,1992,1993,1993,1993,1993,1993,1993,1993,1993,1993,1993,1993,1994,1994,1994,1994,1994,1994,1994,1994,1994,1995,1995,1995,1995,1995,1995,1995,1995,1995,1995,1996,1996,1996,1996,1996,1996,1996,1996,1996,1996,1996,1997,1997,1997,1997,1997,1997,1997,1997,1997,1997,1998,1998,1998,1998,1998,1998,1998,1998,1998,1998,1999,1999,1999,1999,1999,1999,1999,1999,1999,1999,1999,2000,2000,2000,2000,2000,2000,2000,2000,2001,2001,2001,2001,2001,2001,2001,2001,2001,2002,2002,2002,2002,2002,2002,2002,2002,2002,2002,2003,2003,2003,2003,2003,2003,2003,2003,2003,2003,2004,2004,2004,2004,2004,2004,2004,2004,2004,2004,2004,2005,2005,2005,2005,2005,2005,2005,2005,2005,2006,2006,2006,2006,2006,2006,2006,2006,2006,2006,2007,2007,2007,2007,2007,2007,2007,2007,2007,2007,2008,2008,2008,2008,2008,2008,2008,2008,2008,2008,2008,2008],\"xaxis\":\"x\",\"y\":[0.149,0.093,0.232,0.078,0.089,0.013,0.049,-0.019,0.065,-0.024,0.025,-0.123,-0.282,-0.032,-0.042,0.001,-0.049,-0.042,-0.035,-0.008,-0.093,-0.002,0.121,0.065,0.049,0.045,0.023,0.055,-0.001,0.043,-0.033,0.022,0.116,0.266,0.021,0.084,0.145,0.121,0.238,0.219,0.25,0.174,0.189,0.248,0.224,0.175,0.2,0.168,0.149,0.12,0.027,0.106,0.019,0.094,0.088,0.083,0.073,0.135,0.145,0.067,0.181,0.187,0.242,0.442,0.285,0.231,0.233,0.196,0.271,0.278,0.199,0.224,0.272,0.161,0.299,0.249,0.269,0.271,0.225,0.176,0.133,0.079,0.084,0.266,0.25,0.199,0.132,0.125,-0.008,-0.007,-0.062,-0.072,0.007,0.204,0.161,0.202,0.121,0.158,0.122,0.088,0.06,0.013,0.061,0.111,0.16,0.176,0.173,0.141,0.175,0.156,0.23,0.248,0.227,0.349,0.449,0.286,0.229,0.176,0.276,0.305,0.21,0.241,0.163,0.069,0.246,0.13,0.097,0.177,0.159,0.177,0.178,0.093,0.089,0.077,0.156,0.247,0.262,0.201,0.254,0.372,0.406,0.457,0.449,0.526,0.486,0.739,0.608,0.57,0.579,0.651,0.616,0.4,0.409,0.424,0.366,0.29,0.322,0.248,0.266,0.282,0.253,0.274,0.241,0.223,0.338,0.212,0.363,0.271,0.261,0.338,0.309,0.159,0.179,0.329,0.289,0.475,0.426,0.452,0.498,0.405,0.491,0.323,0.568,0.586,0.432,0.455,0.462,0.417,0.413,0.362,0.397,0.326,0.514,0.427,0.418,0.439,0.437,0.457,0.514,0.55,0.419,0.519,0.496,0.56,0.501,0.484,0.323,0.35,0.38,0.418,0.442,0.521,0.381,0.364,0.493,0.53,0.476,0.532,0.502,0.495,0.478,0.366,0.435,0.38,0.378,0.442,0.456,0.482,0.425,0.472,0.44,0.518,0.601,0.498,0.435,0.372,0.382,0.358,0.402,0.362,0.266,0.226,0.074,0.198,0.447,0.278,0.283,0.315,0.406,0.407,0.378,0.44,0.394,0.33],\"yaxis\":\"y\",\"type\":\"scatter\"},{\"hovertemplate\":\"N2O=H<br>Year=%{x}<br>Temp=%{y}<extra></extra>\",\"legendgroup\":\"H\",\"marker\":{\"color\":\"#EF553B\",\"symbol\":\"circle\"},\"mode\":\"markers\",\"name\":\"H\",\"orientation\":\"v\",\"showlegend\":true,\"x\":[1985,1987,1989,1990,1992,1997,2006,2006],\"xaxis\":\"x\",\"y\":[-0.155,0.186,0.168,0.179,0.118,0.367,0.32,0.352],\"yaxis\":\"y\",\"type\":\"scatter\"}],                        {\"template\":{\"data\":{\"histogram2dcontour\":[{\"type\":\"histogram2dcontour\",\"colorbar\":{\"outlinewidth\":0,\"ticks\":\"\"},\"colorscale\":[[0.0,\"#0d0887\"],[0.1111111111111111,\"#46039f\"],[0.2222222222222222,\"#7201a8\"],[0.3333333333333333,\"#9c179e\"],[0.4444444444444444,\"#bd3786\"],[0.5555555555555556,\"#d8576b\"],[0.6666666666666666,\"#ed7953\"],[0.7777777777777778,\"#fb9f3a\"],[0.8888888888888888,\"#fdca26\"],[1.0,\"#f0f921\"]]}],\"choropleth\":[{\"type\":\"choropleth\",\"colorbar\":{\"outlinewidth\":0,\"ticks\":\"\"}}],\"histogram2d\":[{\"type\":\"histogram2d\",\"colorbar\":{\"outlinewidth\":0,\"ticks\":\"\"},\"colorscale\":[[0.0,\"#0d0887\"],[0.1111111111111111,\"#46039f\"],[0.2222222222222222,\"#7201a8\"],[0.3333333333333333,\"#9c179e\"],[0.4444444444444444,\"#bd3786\"],[0.5555555555555556,\"#d8576b\"],[0.6666666666666666,\"#ed7953\"],[0.7777777777777778,\"#fb9f3a\"],[0.8888888888888888,\"#fdca26\"],[1.0,\"#f0f921\"]]}],\"heatmap\":[{\"type\":\"heatmap\",\"colorbar\":{\"outlinewidth\":0,\"ticks\":\"\"},\"colorscale\":[[0.0,\"#0d0887\"],[0.1111111111111111,\"#46039f\"],[0.2222222222222222,\"#7201a8\"],[0.3333333333333333,\"#9c179e\"],[0.4444444444444444,\"#bd3786\"],[0.5555555555555556,\"#d8576b\"],[0.6666666666666666,\"#ed7953\"],[0.7777777777777778,\"#fb9f3a\"],[0.8888888888888888,\"#fdca26\"],[1.0,\"#f0f921\"]]}],\"heatmapgl\":[{\"type\":\"heatmapgl\",\"colorbar\":{\"outlinewidth\":0,\"ticks\":\"\"},\"colorscale\":[[0.0,\"#0d0887\"],[0.1111111111111111,\"#46039f\"],[0.2222222222222222,\"#7201a8\"],[0.3333333333333333,\"#9c179e\"],[0.4444444444444444,\"#bd3786\"],[0.5555555555555556,\"#d8576b\"],[0.6666666666666666,\"#ed7953\"],[0.7777777777777778,\"#fb9f3a\"],[0.8888888888888888,\"#fdca26\"],[1.0,\"#f0f921\"]]}],\"contourcarpet\":[{\"type\":\"contourcarpet\",\"colorbar\":{\"outlinewidth\":0,\"ticks\":\"\"}}],\"contour\":[{\"type\":\"contour\",\"colorbar\":{\"outlinewidth\":0,\"ticks\":\"\"},\"colorscale\":[[0.0,\"#0d0887\"],[0.1111111111111111,\"#46039f\"],[0.2222222222222222,\"#7201a8\"],[0.3333333333333333,\"#9c179e\"],[0.4444444444444444,\"#bd3786\"],[0.5555555555555556,\"#d8576b\"],[0.6666666666666666,\"#ed7953\"],[0.7777777777777778,\"#fb9f3a\"],[0.8888888888888888,\"#fdca26\"],[1.0,\"#f0f921\"]]}],\"surface\":[{\"type\":\"surface\",\"colorbar\":{\"outlinewidth\":0,\"ticks\":\"\"},\"colorscale\":[[0.0,\"#0d0887\"],[0.1111111111111111,\"#46039f\"],[0.2222222222222222,\"#7201a8\"],[0.3333333333333333,\"#9c179e\"],[0.4444444444444444,\"#bd3786\"],[0.5555555555555556,\"#d8576b\"],[0.6666666666666666,\"#ed7953\"],[0.7777777777777778,\"#fb9f3a\"],[0.8888888888888888,\"#fdca26\"],[1.0,\"#f0f921\"]]}],\"mesh3d\":[{\"type\":\"mesh3d\",\"colorbar\":{\"outlinewidth\":0,\"ticks\":\"\"}}],\"scatter\":[{\"fillpattern\":{\"fillmode\":\"overlay\",\"size\":10,\"solidity\":0.2},\"type\":\"scatter\"}],\"parcoords\":[{\"type\":\"parcoords\",\"line\":{\"colorbar\":{\"outlinewidth\":0,\"ticks\":\"\"}}}],\"scatterpolargl\":[{\"type\":\"scatterpolargl\",\"marker\":{\"colorbar\":{\"outlinewidth\":0,\"ticks\":\"\"}}}],\"bar\":[{\"error_x\":{\"color\":\"#2a3f5f\"},\"error_y\":{\"color\":\"#2a3f5f\"},\"marker\":{\"line\":{\"color\":\"#E5ECF6\",\"width\":0.5},\"pattern\":{\"fillmode\":\"overlay\",\"size\":10,\"solidity\":0.2}},\"type\":\"bar\"}],\"scattergeo\":[{\"type\":\"scattergeo\",\"marker\":{\"colorbar\":{\"outlinewidth\":0,\"ticks\":\"\"}}}],\"scatterpolar\":[{\"type\":\"scatterpolar\",\"marker\":{\"colorbar\":{\"outlinewidth\":0,\"ticks\":\"\"}}}],\"histogram\":[{\"marker\":{\"pattern\":{\"fillmode\":\"overlay\",\"size\":10,\"solidity\":0.2}},\"type\":\"histogram\"}],\"scattergl\":[{\"type\":\"scattergl\",\"marker\":{\"colorbar\":{\"outlinewidth\":0,\"ticks\":\"\"}}}],\"scatter3d\":[{\"type\":\"scatter3d\",\"line\":{\"colorbar\":{\"outlinewidth\":0,\"ticks\":\"\"}},\"marker\":{\"colorbar\":{\"outlinewidth\":0,\"ticks\":\"\"}}}],\"scattermapbox\":[{\"type\":\"scattermapbox\",\"marker\":{\"colorbar\":{\"outlinewidth\":0,\"ticks\":\"\"}}}],\"scatterternary\":[{\"type\":\"scatterternary\",\"marker\":{\"colorbar\":{\"outlinewidth\":0,\"ticks\":\"\"}}}],\"scattercarpet\":[{\"type\":\"scattercarpet\",\"marker\":{\"colorbar\":{\"outlinewidth\":0,\"ticks\":\"\"}}}],\"carpet\":[{\"aaxis\":{\"endlinecolor\":\"#2a3f5f\",\"gridcolor\":\"white\",\"linecolor\":\"white\",\"minorgridcolor\":\"white\",\"startlinecolor\":\"#2a3f5f\"},\"baxis\":{\"endlinecolor\":\"#2a3f5f\",\"gridcolor\":\"white\",\"linecolor\":\"white\",\"minorgridcolor\":\"white\",\"startlinecolor\":\"#2a3f5f\"},\"type\":\"carpet\"}],\"table\":[{\"cells\":{\"fill\":{\"color\":\"#EBF0F8\"},\"line\":{\"color\":\"white\"}},\"header\":{\"fill\":{\"color\":\"#C8D4E3\"},\"line\":{\"color\":\"white\"}},\"type\":\"table\"}],\"barpolar\":[{\"marker\":{\"line\":{\"color\":\"#E5ECF6\",\"width\":0.5},\"pattern\":{\"fillmode\":\"overlay\",\"size\":10,\"solidity\":0.2}},\"type\":\"barpolar\"}],\"pie\":[{\"automargin\":true,\"type\":\"pie\"}]},\"layout\":{\"autotypenumbers\":\"strict\",\"colorway\":[\"#636efa\",\"#EF553B\",\"#00cc96\",\"#ab63fa\",\"#FFA15A\",\"#19d3f3\",\"#FF6692\",\"#B6E880\",\"#FF97FF\",\"#FECB52\"],\"font\":{\"color\":\"#2a3f5f\"},\"hovermode\":\"closest\",\"hoverlabel\":{\"align\":\"left\"},\"paper_bgcolor\":\"white\",\"plot_bgcolor\":\"#E5ECF6\",\"polar\":{\"bgcolor\":\"#E5ECF6\",\"angularaxis\":{\"gridcolor\":\"white\",\"linecolor\":\"white\",\"ticks\":\"\"},\"radialaxis\":{\"gridcolor\":\"white\",\"linecolor\":\"white\",\"ticks\":\"\"}},\"ternary\":{\"bgcolor\":\"#E5ECF6\",\"aaxis\":{\"gridcolor\":\"white\",\"linecolor\":\"white\",\"ticks\":\"\"},\"baxis\":{\"gridcolor\":\"white\",\"linecolor\":\"white\",\"ticks\":\"\"},\"caxis\":{\"gridcolor\":\"white\",\"linecolor\":\"white\",\"ticks\":\"\"}},\"coloraxis\":{\"colorbar\":{\"outlinewidth\":0,\"ticks\":\"\"}},\"colorscale\":{\"sequential\":[[0.0,\"#0d0887\"],[0.1111111111111111,\"#46039f\"],[0.2222222222222222,\"#7201a8\"],[0.3333333333333333,\"#9c179e\"],[0.4444444444444444,\"#bd3786\"],[0.5555555555555556,\"#d8576b\"],[0.6666666666666666,\"#ed7953\"],[0.7777777777777778,\"#fb9f3a\"],[0.8888888888888888,\"#fdca26\"],[1.0,\"#f0f921\"]],\"sequentialminus\":[[0.0,\"#0d0887\"],[0.1111111111111111,\"#46039f\"],[0.2222222222222222,\"#7201a8\"],[0.3333333333333333,\"#9c179e\"],[0.4444444444444444,\"#bd3786\"],[0.5555555555555556,\"#d8576b\"],[0.6666666666666666,\"#ed7953\"],[0.7777777777777778,\"#fb9f3a\"],[0.8888888888888888,\"#fdca26\"],[1.0,\"#f0f921\"]],\"diverging\":[[0,\"#8e0152\"],[0.1,\"#c51b7d\"],[0.2,\"#de77ae\"],[0.3,\"#f1b6da\"],[0.4,\"#fde0ef\"],[0.5,\"#f7f7f7\"],[0.6,\"#e6f5d0\"],[0.7,\"#b8e186\"],[0.8,\"#7fbc41\"],[0.9,\"#4d9221\"],[1,\"#276419\"]]},\"xaxis\":{\"gridcolor\":\"white\",\"linecolor\":\"white\",\"ticks\":\"\",\"title\":{\"standoff\":15},\"zerolinecolor\":\"white\",\"automargin\":true,\"zerolinewidth\":2},\"yaxis\":{\"gridcolor\":\"white\",\"linecolor\":\"white\",\"ticks\":\"\",\"title\":{\"standoff\":15},\"zerolinecolor\":\"white\",\"automargin\":true,\"zerolinewidth\":2},\"scene\":{\"xaxis\":{\"backgroundcolor\":\"#E5ECF6\",\"gridcolor\":\"white\",\"linecolor\":\"white\",\"showbackground\":true,\"ticks\":\"\",\"zerolinecolor\":\"white\",\"gridwidth\":2},\"yaxis\":{\"backgroundcolor\":\"#E5ECF6\",\"gridcolor\":\"white\",\"linecolor\":\"white\",\"showbackground\":true,\"ticks\":\"\",\"zerolinecolor\":\"white\",\"gridwidth\":2},\"zaxis\":{\"backgroundcolor\":\"#E5ECF6\",\"gridcolor\":\"white\",\"linecolor\":\"white\",\"showbackground\":true,\"ticks\":\"\",\"zerolinecolor\":\"white\",\"gridwidth\":2}},\"shapedefaults\":{\"line\":{\"color\":\"#2a3f5f\"}},\"annotationdefaults\":{\"arrowcolor\":\"#2a3f5f\",\"arrowhead\":0,\"arrowwidth\":1},\"geo\":{\"bgcolor\":\"white\",\"landcolor\":\"#E5ECF6\",\"subunitcolor\":\"white\",\"showland\":true,\"showlakes\":true,\"lakecolor\":\"white\"},\"title\":{\"x\":0.05},\"mapbox\":{\"style\":\"light\"}}},\"xaxis\":{\"anchor\":\"y\",\"domain\":[0.0,1.0],\"title\":{\"text\":\"Year\"}},\"yaxis\":{\"anchor\":\"x\",\"domain\":[0.0,1.0],\"title\":{\"text\":\"Temp\"}},\"legend\":{\"title\":{\"text\":\"N2O\"},\"tracegroupgap\":0},\"margin\":{\"t\":60}},                        {\"responsive\": true}                    ).then(function(){\n",
              "                            \n",
              "var gd = document.getElementById('7f72d3e3-db91-4219-a2f8-86ef8e652745');\n",
              "var x = new MutationObserver(function (mutations, observer) {{\n",
              "        var display = window.getComputedStyle(gd).display;\n",
              "        if (!display || display === 'none') {{\n",
              "            console.log([gd, 'removed!']);\n",
              "            Plotly.purge(gd);\n",
              "            observer.disconnect();\n",
              "        }}\n",
              "}});\n",
              "\n",
              "// Listen for the removal of the full notebook cells\n",
              "var notebookContainer = gd.closest('#notebook-container');\n",
              "if (notebookContainer) {{\n",
              "    x.observe(notebookContainer, {childList: true});\n",
              "}}\n",
              "\n",
              "// Listen for the clearing of the current output cell\n",
              "var outputEl = gd.closest('.output');\n",
              "if (outputEl) {{\n",
              "    x.observe(outputEl, {childList: true});\n",
              "}}\n",
              "\n",
              "                        })                };                            </script>        </div>\n",
              "</body>\n",
              "</html>"
            ]
          },
          "metadata": {}
        }
      ]
    },
    {
      "cell_type": "markdown",
      "source": [
        "<i><b>Reason for choosing N2O and Temp<i><b>"
      ],
      "metadata": {
        "id": "Q8FzNViXFZJQ"
      }
    },
    {
      "cell_type": "markdown",
      "source": [
        "Nitrous oxide enhances the greenhouse effect just as carbon dioxide does by capturing reradiated infrared radiation from the Earth's surface and subsequently warming the troposphere.\n",
        "\n",
        "Since there is only 8 data points that fall under an N2O level of \"H\", it is not fair to compare N2O against Temp to derive any correlation."
      ],
      "metadata": {
        "id": "gxRHKAcsFhHd"
      }
    },
    {
      "cell_type": "markdown",
      "source": [
        "CFC-11 and Temp"
      ],
      "metadata": {
        "id": "TodEiPExFm_h"
      }
    },
    {
      "cell_type": "code",
      "source": [
        "# create scatter plot\n",
        "fig = px.scatter(no_outliers_df, x=\"CFC-11\", y=\"Temp\", color='Temp')\n",
        "fig.show()"
      ],
      "metadata": {
        "id": "w53Tnrq0Fs4n",
        "colab": {
          "base_uri": "https://localhost:8080/",
          "height": 542
        },
        "outputId": "77082b7d-4646-4cb1-c2b4-084b9b0c35d6"
      },
      "execution_count": null,
      "outputs": [
        {
          "output_type": "display_data",
          "data": {
            "text/html": [
              "<html>\n",
              "<head><meta charset=\"utf-8\" /></head>\n",
              "<body>\n",
              "    <div>            <script src=\"https://cdnjs.cloudflare.com/ajax/libs/mathjax/2.7.5/MathJax.js?config=TeX-AMS-MML_SVG\"></script><script type=\"text/javascript\">if (window.MathJax && window.MathJax.Hub && window.MathJax.Hub.Config) {window.MathJax.Hub.Config({SVG: {font: \"STIX-Web\"}});}</script>                <script type=\"text/javascript\">window.PlotlyConfig = {MathJaxConfig: 'local'};</script>\n",
              "        <script src=\"https://cdn.plot.ly/plotly-2.18.2.min.js\"></script>                <div id=\"e28f7120-e7b8-442b-9052-6e9bb8fc49f8\" class=\"plotly-graph-div\" style=\"height:525px; width:100%;\"></div>            <script type=\"text/javascript\">                                    window.PLOTLYENV=window.PLOTLYENV || {};                                    if (document.getElementById(\"e28f7120-e7b8-442b-9052-6e9bb8fc49f8\")) {                    Plotly.newPlot(                        \"e28f7120-e7b8-442b-9052-6e9bb8fc49f8\",                        [{\"hovertemplate\":\"CFC-11=%{x}<br>Temp=%{marker.color}<extra></extra>\",\"legendgroup\":\"\",\"marker\":{\"color\":[0.149,0.093,0.232,0.078,0.089,0.013,0.049,-0.019,0.065,-0.024,0.025,-0.123,-0.282,-0.155,-0.032,-0.042,0.001,-0.049,-0.042,-0.035,-0.008,-0.093,-0.002,0.121,0.065,0.049,0.045,0.023,0.055,-0.001,0.043,-0.033,0.022,0.116,0.266,0.021,0.084,0.145,0.121,0.238,0.219,0.25,0.174,0.186,0.189,0.248,0.224,0.175,0.2,0.168,0.149,0.12,0.027,0.106,0.019,0.094,0.088,0.083,0.073,0.168,0.135,0.145,0.067,0.181,0.187,0.242,0.442,0.285,0.231,0.233,0.196,0.179,0.271,0.278,0.199,0.224,0.272,0.161,0.299,0.249,0.269,0.271,0.225,0.176,0.133,0.079,0.084,0.266,0.25,0.199,0.132,0.125,0.118,-0.008,-0.007,-0.062,-0.072,0.007,0.204,0.161,0.202,0.121,0.158,0.122,0.088,0.06,0.013,0.061,0.111,0.16,0.176,0.173,0.141,0.175,0.156,0.23,0.248,0.227,0.349,0.449,0.286,0.229,0.176,0.276,0.305,0.21,0.241,0.163,0.069,0.246,0.13,0.097,0.177,0.159,0.177,0.178,0.093,0.089,0.077,0.156,0.247,0.262,0.201,0.254,0.367,0.372,0.406,0.457,0.449,0.526,0.486,0.739,0.608,0.57,0.579,0.651,0.616,0.4,0.409,0.424,0.366,0.29,0.322,0.248,0.266,0.282,0.253,0.274,0.241,0.223,0.338,0.212,0.363,0.271,0.261,0.338,0.309,0.159,0.179,0.329,0.289,0.475,0.426,0.452,0.498,0.405,0.491,0.323,0.568,0.586,0.432,0.455,0.462,0.417,0.413,0.362,0.397,0.326,0.514,0.427,0.418,0.439,0.437,0.457,0.514,0.55,0.419,0.519,0.496,0.56,0.501,0.484,0.323,0.35,0.38,0.418,0.442,0.521,0.381,0.364,0.493,0.53,0.476,0.532,0.502,0.495,0.478,0.366,0.32,0.435,0.38,0.378,0.352,0.442,0.456,0.482,0.425,0.472,0.44,0.518,0.601,0.498,0.435,0.372,0.382,0.358,0.402,0.362,0.266,0.226,0.074,0.198,0.447,0.278,0.283,0.315,0.406,0.407,0.378,0.44,0.394,0.33],\"coloraxis\":\"coloraxis\",\"symbol\":\"circle\"},\"mode\":\"markers\",\"name\":\"\",\"orientation\":\"v\",\"showlegend\":false,\"x\":[194.392,195.171,195.921,196.609,197.219,197.759,198.249,198.723,199.233,200.671,202.972,205.893,207.308,209.543,210.368,211.111,211.823,212.512,213.165,214.501,215.327,216.282,217.326,218.382,219.379,220.315,221.245,222.197,223.189,225.302,227.325,228.224,229.058,229.846,230.592,231.325,232.098,232.939,233.798,234.778,235.789,237.075,238.697,239.588,242.064,243.44,244.954,246.043,246.338,247.245,249.389,250.566,251.664,252.345,252.554,252.79,253.161,253.623,253.699,255.528,256.719,257.946,258.73,259.472,259.917,260.525,260.594,260.604,260.699,261.138,261.594,263.107,263.616,264.455,265.182,265.709,266.008,265.86,265.876,265.784,267.329,267.25,266.54,265.986,266.846,267.752,267.859,268.05,268.274,268.477,268.387,268.65,269.014,269.483,269.912,270.497,270.765,271.057,271.193,270.814,270.154,269.914,270.53,270.92,270.46,270.194,270.685,271.216,271.494,271.238,270.676,270.924,270.85,271.228,271.042,270.928,271.087,270.807,270.435,270.304,270.098,269.861,269.941,269.636,269.661,269.792,269.799,269.981,269.579,269.384,269.482,269.61,269.456,269.163,268.803,268.982,268.964,268.728,268.673,268.715,268.491,268.388,268.151,268.078,268.026,267.784,267.441,267.414,267.495,267.368,267.19,266.978,266.054,265.841,265.668,265.787,265.784,265.911,266.395,266.247,266.016,265.343,265.111,264.811,264.479,264.296,264.182,264.14,264.181,264.266,264.212,264.074,263.832,262.655,262.444,262.428,262.365,262.448,262.356,262.207,261.978,261.612,261.27,260.612,260.4,260.311,260.434,260.432,260.392,260.008,259.153,258.797,258.6,258.399,258.269,258.274,258.289,257.956,257.416,257.107,256.985,256.395,256.239,256.118,255.889,255.573,255.679,255.522,255.276,255.018,254.712,254.385,254.176,253.87,253.59,253.44,253.211,252.783,252.754,252.479,252.271,251.965,251.676,251.306,251.077,251.021,251.048,250.989,250.771,250.484,250.155,249.989,249.839,249.614,249.247,248.981,248.775,248.666,248.605,248.48,248.372,248.264,247.997,247.224,246.881,246.307,246.214,246.189,246.178,246.261,246.183,245.898,245.43,245.086,244.914,244.676,244.434,244.2,244.083,244.08,244.225,244.204],\"xaxis\":\"x\",\"y\":[0.149,0.093,0.232,0.078,0.089,0.013,0.049,-0.019,0.065,-0.024,0.025,-0.123,-0.282,-0.155,-0.032,-0.042,0.001,-0.049,-0.042,-0.035,-0.008,-0.093,-0.002,0.121,0.065,0.049,0.045,0.023,0.055,-0.001,0.043,-0.033,0.022,0.116,0.266,0.021,0.084,0.145,0.121,0.238,0.219,0.25,0.174,0.186,0.189,0.248,0.224,0.175,0.2,0.168,0.149,0.12,0.027,0.106,0.019,0.094,0.088,0.083,0.073,0.168,0.135,0.145,0.067,0.181,0.187,0.242,0.442,0.285,0.231,0.233,0.196,0.179,0.271,0.278,0.199,0.224,0.272,0.161,0.299,0.249,0.269,0.271,0.225,0.176,0.133,0.079,0.084,0.266,0.25,0.199,0.132,0.125,0.118,-0.008,-0.007,-0.062,-0.072,0.007,0.204,0.161,0.202,0.121,0.158,0.122,0.088,0.06,0.013,0.061,0.111,0.16,0.176,0.173,0.141,0.175,0.156,0.23,0.248,0.227,0.349,0.449,0.286,0.229,0.176,0.276,0.305,0.21,0.241,0.163,0.069,0.246,0.13,0.097,0.177,0.159,0.177,0.178,0.093,0.089,0.077,0.156,0.247,0.262,0.201,0.254,0.367,0.372,0.406,0.457,0.449,0.526,0.486,0.739,0.608,0.57,0.579,0.651,0.616,0.4,0.409,0.424,0.366,0.29,0.322,0.248,0.266,0.282,0.253,0.274,0.241,0.223,0.338,0.212,0.363,0.271,0.261,0.338,0.309,0.159,0.179,0.329,0.289,0.475,0.426,0.452,0.498,0.405,0.491,0.323,0.568,0.586,0.432,0.455,0.462,0.417,0.413,0.362,0.397,0.326,0.514,0.427,0.418,0.439,0.437,0.457,0.514,0.55,0.419,0.519,0.496,0.56,0.501,0.484,0.323,0.35,0.38,0.418,0.442,0.521,0.381,0.364,0.493,0.53,0.476,0.532,0.502,0.495,0.478,0.366,0.32,0.435,0.38,0.378,0.352,0.442,0.456,0.482,0.425,0.472,0.44,0.518,0.601,0.498,0.435,0.372,0.382,0.358,0.402,0.362,0.266,0.226,0.074,0.198,0.447,0.278,0.283,0.315,0.406,0.407,0.378,0.44,0.394,0.33],\"yaxis\":\"y\",\"type\":\"scatter\"}],                        {\"template\":{\"data\":{\"histogram2dcontour\":[{\"type\":\"histogram2dcontour\",\"colorbar\":{\"outlinewidth\":0,\"ticks\":\"\"},\"colorscale\":[[0.0,\"#0d0887\"],[0.1111111111111111,\"#46039f\"],[0.2222222222222222,\"#7201a8\"],[0.3333333333333333,\"#9c179e\"],[0.4444444444444444,\"#bd3786\"],[0.5555555555555556,\"#d8576b\"],[0.6666666666666666,\"#ed7953\"],[0.7777777777777778,\"#fb9f3a\"],[0.8888888888888888,\"#fdca26\"],[1.0,\"#f0f921\"]]}],\"choropleth\":[{\"type\":\"choropleth\",\"colorbar\":{\"outlinewidth\":0,\"ticks\":\"\"}}],\"histogram2d\":[{\"type\":\"histogram2d\",\"colorbar\":{\"outlinewidth\":0,\"ticks\":\"\"},\"colorscale\":[[0.0,\"#0d0887\"],[0.1111111111111111,\"#46039f\"],[0.2222222222222222,\"#7201a8\"],[0.3333333333333333,\"#9c179e\"],[0.4444444444444444,\"#bd3786\"],[0.5555555555555556,\"#d8576b\"],[0.6666666666666666,\"#ed7953\"],[0.7777777777777778,\"#fb9f3a\"],[0.8888888888888888,\"#fdca26\"],[1.0,\"#f0f921\"]]}],\"heatmap\":[{\"type\":\"heatmap\",\"colorbar\":{\"outlinewidth\":0,\"ticks\":\"\"},\"colorscale\":[[0.0,\"#0d0887\"],[0.1111111111111111,\"#46039f\"],[0.2222222222222222,\"#7201a8\"],[0.3333333333333333,\"#9c179e\"],[0.4444444444444444,\"#bd3786\"],[0.5555555555555556,\"#d8576b\"],[0.6666666666666666,\"#ed7953\"],[0.7777777777777778,\"#fb9f3a\"],[0.8888888888888888,\"#fdca26\"],[1.0,\"#f0f921\"]]}],\"heatmapgl\":[{\"type\":\"heatmapgl\",\"colorbar\":{\"outlinewidth\":0,\"ticks\":\"\"},\"colorscale\":[[0.0,\"#0d0887\"],[0.1111111111111111,\"#46039f\"],[0.2222222222222222,\"#7201a8\"],[0.3333333333333333,\"#9c179e\"],[0.4444444444444444,\"#bd3786\"],[0.5555555555555556,\"#d8576b\"],[0.6666666666666666,\"#ed7953\"],[0.7777777777777778,\"#fb9f3a\"],[0.8888888888888888,\"#fdca26\"],[1.0,\"#f0f921\"]]}],\"contourcarpet\":[{\"type\":\"contourcarpet\",\"colorbar\":{\"outlinewidth\":0,\"ticks\":\"\"}}],\"contour\":[{\"type\":\"contour\",\"colorbar\":{\"outlinewidth\":0,\"ticks\":\"\"},\"colorscale\":[[0.0,\"#0d0887\"],[0.1111111111111111,\"#46039f\"],[0.2222222222222222,\"#7201a8\"],[0.3333333333333333,\"#9c179e\"],[0.4444444444444444,\"#bd3786\"],[0.5555555555555556,\"#d8576b\"],[0.6666666666666666,\"#ed7953\"],[0.7777777777777778,\"#fb9f3a\"],[0.8888888888888888,\"#fdca26\"],[1.0,\"#f0f921\"]]}],\"surface\":[{\"type\":\"surface\",\"colorbar\":{\"outlinewidth\":0,\"ticks\":\"\"},\"colorscale\":[[0.0,\"#0d0887\"],[0.1111111111111111,\"#46039f\"],[0.2222222222222222,\"#7201a8\"],[0.3333333333333333,\"#9c179e\"],[0.4444444444444444,\"#bd3786\"],[0.5555555555555556,\"#d8576b\"],[0.6666666666666666,\"#ed7953\"],[0.7777777777777778,\"#fb9f3a\"],[0.8888888888888888,\"#fdca26\"],[1.0,\"#f0f921\"]]}],\"mesh3d\":[{\"type\":\"mesh3d\",\"colorbar\":{\"outlinewidth\":0,\"ticks\":\"\"}}],\"scatter\":[{\"fillpattern\":{\"fillmode\":\"overlay\",\"size\":10,\"solidity\":0.2},\"type\":\"scatter\"}],\"parcoords\":[{\"type\":\"parcoords\",\"line\":{\"colorbar\":{\"outlinewidth\":0,\"ticks\":\"\"}}}],\"scatterpolargl\":[{\"type\":\"scatterpolargl\",\"marker\":{\"colorbar\":{\"outlinewidth\":0,\"ticks\":\"\"}}}],\"bar\":[{\"error_x\":{\"color\":\"#2a3f5f\"},\"error_y\":{\"color\":\"#2a3f5f\"},\"marker\":{\"line\":{\"color\":\"#E5ECF6\",\"width\":0.5},\"pattern\":{\"fillmode\":\"overlay\",\"size\":10,\"solidity\":0.2}},\"type\":\"bar\"}],\"scattergeo\":[{\"type\":\"scattergeo\",\"marker\":{\"colorbar\":{\"outlinewidth\":0,\"ticks\":\"\"}}}],\"scatterpolar\":[{\"type\":\"scatterpolar\",\"marker\":{\"colorbar\":{\"outlinewidth\":0,\"ticks\":\"\"}}}],\"histogram\":[{\"marker\":{\"pattern\":{\"fillmode\":\"overlay\",\"size\":10,\"solidity\":0.2}},\"type\":\"histogram\"}],\"scattergl\":[{\"type\":\"scattergl\",\"marker\":{\"colorbar\":{\"outlinewidth\":0,\"ticks\":\"\"}}}],\"scatter3d\":[{\"type\":\"scatter3d\",\"line\":{\"colorbar\":{\"outlinewidth\":0,\"ticks\":\"\"}},\"marker\":{\"colorbar\":{\"outlinewidth\":0,\"ticks\":\"\"}}}],\"scattermapbox\":[{\"type\":\"scattermapbox\",\"marker\":{\"colorbar\":{\"outlinewidth\":0,\"ticks\":\"\"}}}],\"scatterternary\":[{\"type\":\"scatterternary\",\"marker\":{\"colorbar\":{\"outlinewidth\":0,\"ticks\":\"\"}}}],\"scattercarpet\":[{\"type\":\"scattercarpet\",\"marker\":{\"colorbar\":{\"outlinewidth\":0,\"ticks\":\"\"}}}],\"carpet\":[{\"aaxis\":{\"endlinecolor\":\"#2a3f5f\",\"gridcolor\":\"white\",\"linecolor\":\"white\",\"minorgridcolor\":\"white\",\"startlinecolor\":\"#2a3f5f\"},\"baxis\":{\"endlinecolor\":\"#2a3f5f\",\"gridcolor\":\"white\",\"linecolor\":\"white\",\"minorgridcolor\":\"white\",\"startlinecolor\":\"#2a3f5f\"},\"type\":\"carpet\"}],\"table\":[{\"cells\":{\"fill\":{\"color\":\"#EBF0F8\"},\"line\":{\"color\":\"white\"}},\"header\":{\"fill\":{\"color\":\"#C8D4E3\"},\"line\":{\"color\":\"white\"}},\"type\":\"table\"}],\"barpolar\":[{\"marker\":{\"line\":{\"color\":\"#E5ECF6\",\"width\":0.5},\"pattern\":{\"fillmode\":\"overlay\",\"size\":10,\"solidity\":0.2}},\"type\":\"barpolar\"}],\"pie\":[{\"automargin\":true,\"type\":\"pie\"}]},\"layout\":{\"autotypenumbers\":\"strict\",\"colorway\":[\"#636efa\",\"#EF553B\",\"#00cc96\",\"#ab63fa\",\"#FFA15A\",\"#19d3f3\",\"#FF6692\",\"#B6E880\",\"#FF97FF\",\"#FECB52\"],\"font\":{\"color\":\"#2a3f5f\"},\"hovermode\":\"closest\",\"hoverlabel\":{\"align\":\"left\"},\"paper_bgcolor\":\"white\",\"plot_bgcolor\":\"#E5ECF6\",\"polar\":{\"bgcolor\":\"#E5ECF6\",\"angularaxis\":{\"gridcolor\":\"white\",\"linecolor\":\"white\",\"ticks\":\"\"},\"radialaxis\":{\"gridcolor\":\"white\",\"linecolor\":\"white\",\"ticks\":\"\"}},\"ternary\":{\"bgcolor\":\"#E5ECF6\",\"aaxis\":{\"gridcolor\":\"white\",\"linecolor\":\"white\",\"ticks\":\"\"},\"baxis\":{\"gridcolor\":\"white\",\"linecolor\":\"white\",\"ticks\":\"\"},\"caxis\":{\"gridcolor\":\"white\",\"linecolor\":\"white\",\"ticks\":\"\"}},\"coloraxis\":{\"colorbar\":{\"outlinewidth\":0,\"ticks\":\"\"}},\"colorscale\":{\"sequential\":[[0.0,\"#0d0887\"],[0.1111111111111111,\"#46039f\"],[0.2222222222222222,\"#7201a8\"],[0.3333333333333333,\"#9c179e\"],[0.4444444444444444,\"#bd3786\"],[0.5555555555555556,\"#d8576b\"],[0.6666666666666666,\"#ed7953\"],[0.7777777777777778,\"#fb9f3a\"],[0.8888888888888888,\"#fdca26\"],[1.0,\"#f0f921\"]],\"sequentialminus\":[[0.0,\"#0d0887\"],[0.1111111111111111,\"#46039f\"],[0.2222222222222222,\"#7201a8\"],[0.3333333333333333,\"#9c179e\"],[0.4444444444444444,\"#bd3786\"],[0.5555555555555556,\"#d8576b\"],[0.6666666666666666,\"#ed7953\"],[0.7777777777777778,\"#fb9f3a\"],[0.8888888888888888,\"#fdca26\"],[1.0,\"#f0f921\"]],\"diverging\":[[0,\"#8e0152\"],[0.1,\"#c51b7d\"],[0.2,\"#de77ae\"],[0.3,\"#f1b6da\"],[0.4,\"#fde0ef\"],[0.5,\"#f7f7f7\"],[0.6,\"#e6f5d0\"],[0.7,\"#b8e186\"],[0.8,\"#7fbc41\"],[0.9,\"#4d9221\"],[1,\"#276419\"]]},\"xaxis\":{\"gridcolor\":\"white\",\"linecolor\":\"white\",\"ticks\":\"\",\"title\":{\"standoff\":15},\"zerolinecolor\":\"white\",\"automargin\":true,\"zerolinewidth\":2},\"yaxis\":{\"gridcolor\":\"white\",\"linecolor\":\"white\",\"ticks\":\"\",\"title\":{\"standoff\":15},\"zerolinecolor\":\"white\",\"automargin\":true,\"zerolinewidth\":2},\"scene\":{\"xaxis\":{\"backgroundcolor\":\"#E5ECF6\",\"gridcolor\":\"white\",\"linecolor\":\"white\",\"showbackground\":true,\"ticks\":\"\",\"zerolinecolor\":\"white\",\"gridwidth\":2},\"yaxis\":{\"backgroundcolor\":\"#E5ECF6\",\"gridcolor\":\"white\",\"linecolor\":\"white\",\"showbackground\":true,\"ticks\":\"\",\"zerolinecolor\":\"white\",\"gridwidth\":2},\"zaxis\":{\"backgroundcolor\":\"#E5ECF6\",\"gridcolor\":\"white\",\"linecolor\":\"white\",\"showbackground\":true,\"ticks\":\"\",\"zerolinecolor\":\"white\",\"gridwidth\":2}},\"shapedefaults\":{\"line\":{\"color\":\"#2a3f5f\"}},\"annotationdefaults\":{\"arrowcolor\":\"#2a3f5f\",\"arrowhead\":0,\"arrowwidth\":1},\"geo\":{\"bgcolor\":\"white\",\"landcolor\":\"#E5ECF6\",\"subunitcolor\":\"white\",\"showland\":true,\"showlakes\":true,\"lakecolor\":\"white\"},\"title\":{\"x\":0.05},\"mapbox\":{\"style\":\"light\"}}},\"xaxis\":{\"anchor\":\"y\",\"domain\":[0.0,1.0],\"title\":{\"text\":\"CFC-11\"}},\"yaxis\":{\"anchor\":\"x\",\"domain\":[0.0,1.0],\"title\":{\"text\":\"Temp\"}},\"coloraxis\":{\"colorbar\":{\"title\":{\"text\":\"Temp\"}},\"colorscale\":[[0.0,\"#0d0887\"],[0.1111111111111111,\"#46039f\"],[0.2222222222222222,\"#7201a8\"],[0.3333333333333333,\"#9c179e\"],[0.4444444444444444,\"#bd3786\"],[0.5555555555555556,\"#d8576b\"],[0.6666666666666666,\"#ed7953\"],[0.7777777777777778,\"#fb9f3a\"],[0.8888888888888888,\"#fdca26\"],[1.0,\"#f0f921\"]]},\"legend\":{\"tracegroupgap\":0},\"margin\":{\"t\":60}},                        {\"responsive\": true}                    ).then(function(){\n",
              "                            \n",
              "var gd = document.getElementById('e28f7120-e7b8-442b-9052-6e9bb8fc49f8');\n",
              "var x = new MutationObserver(function (mutations, observer) {{\n",
              "        var display = window.getComputedStyle(gd).display;\n",
              "        if (!display || display === 'none') {{\n",
              "            console.log([gd, 'removed!']);\n",
              "            Plotly.purge(gd);\n",
              "            observer.disconnect();\n",
              "        }}\n",
              "}});\n",
              "\n",
              "// Listen for the removal of the full notebook cells\n",
              "var notebookContainer = gd.closest('#notebook-container');\n",
              "if (notebookContainer) {{\n",
              "    x.observe(notebookContainer, {childList: true});\n",
              "}}\n",
              "\n",
              "// Listen for the clearing of the current output cell\n",
              "var outputEl = gd.closest('.output');\n",
              "if (outputEl) {{\n",
              "    x.observe(outputEl, {childList: true});\n",
              "}}\n",
              "\n",
              "                        })                };                            </script>        </div>\n",
              "</body>\n",
              "</html>"
            ]
          },
          "metadata": {}
        }
      ]
    },
    {
      "cell_type": "markdown",
      "source": [
        "<i><b>Reason for choosing CFC-11 and Temp<i><b>"
      ],
      "metadata": {
        "id": "0yd2XXOPFxUt"
      }
    },
    {
      "cell_type": "markdown",
      "source": [
        "When CFC-11 reaches the stratosphere, it breaks down and releases its chlorine atoms to catalytically destroy ozone which worsens global warming. "
      ],
      "metadata": {
        "id": "39W_GPm3HPat"
      }
    },
    {
      "cell_type": "code",
      "source": [
        "xs = no_outliers_df[\"CFC-11\"]\n",
        "ys = no_outliers_df.Temp\n",
        "# computes the Pearson correlation coefficients between CFC-11 and Temp\n",
        "corr = np.corrcoef(xs, ys)\n",
        "corr[1,0]"
      ],
      "metadata": {
        "id": "FLOmMLPwHWYh",
        "colab": {
          "base_uri": "https://localhost:8080/"
        },
        "outputId": "dc71aa4a-9549-4280-bd45-e4ba82872215"
      },
      "execution_count": null,
      "outputs": [
        {
          "output_type": "execute_result",
          "data": {
            "text/plain": [
              "0.3673697663450421"
            ]
          },
          "metadata": {},
          "execution_count": 47
        }
      ]
    },
    {
      "cell_type": "markdown",
      "source": [
        "<i><b>Relationship between the variables</b></i>"
      ],
      "metadata": {
        "id": "HARcnfFdHgH9"
      }
    },
    {
      "cell_type": "markdown",
      "source": [
        "The low correlation coefficient of 0.380 indicates a weak, positive relationship between CFC-11 and temperature. As the concentration of CFC-11 increases, the temperature also increases but the increase in temperature is also affected by other variables."
      ],
      "metadata": {
        "id": "DByBrtG6HiO4"
      }
    },
    {
      "cell_type": "markdown",
      "source": [
        "#####CFC-12 and Temp"
      ],
      "metadata": {
        "id": "LxVxV0w3HmTN"
      }
    },
    {
      "cell_type": "code",
      "source": [
        "# create scatter plot\n",
        "fig = px.scatter(no_outliers_df, x=\"CFC-12\", y=\"Temp\", color='Temp')\n",
        "fig.show()"
      ],
      "metadata": {
        "id": "2loNgm1sHrKq",
        "colab": {
          "base_uri": "https://localhost:8080/",
          "height": 542
        },
        "outputId": "4186b4e1-fd29-415f-8b0f-ddb7b3fac630"
      },
      "execution_count": null,
      "outputs": [
        {
          "output_type": "display_data",
          "data": {
            "text/html": [
              "<html>\n",
              "<head><meta charset=\"utf-8\" /></head>\n",
              "<body>\n",
              "    <div>            <script src=\"https://cdnjs.cloudflare.com/ajax/libs/mathjax/2.7.5/MathJax.js?config=TeX-AMS-MML_SVG\"></script><script type=\"text/javascript\">if (window.MathJax && window.MathJax.Hub && window.MathJax.Hub.Config) {window.MathJax.Hub.Config({SVG: {font: \"STIX-Web\"}});}</script>                <script type=\"text/javascript\">window.PlotlyConfig = {MathJaxConfig: 'local'};</script>\n",
              "        <script src=\"https://cdn.plot.ly/plotly-2.18.2.min.js\"></script>                <div id=\"c36d9dc7-8153-43ff-910b-01528b13cc9b\" class=\"plotly-graph-div\" style=\"height:525px; width:100%;\"></div>            <script type=\"text/javascript\">                                    window.PLOTLYENV=window.PLOTLYENV || {};                                    if (document.getElementById(\"c36d9dc7-8153-43ff-910b-01528b13cc9b\")) {                    Plotly.newPlot(                        \"c36d9dc7-8153-43ff-910b-01528b13cc9b\",                        [{\"hovertemplate\":\"CFC-12=%{x}<br>Temp=%{marker.color}<extra></extra>\",\"legendgroup\":\"\",\"marker\":{\"color\":[0.149,0.093,0.232,0.078,0.089,0.013,0.049,-0.019,0.065,-0.024,0.025,-0.123,-0.282,-0.155,-0.032,-0.042,0.001,-0.049,-0.042,-0.035,-0.008,-0.093,-0.002,0.121,0.065,0.049,0.045,0.023,0.055,-0.001,0.043,-0.033,0.022,0.116,0.266,0.021,0.084,0.145,0.121,0.238,0.219,0.25,0.174,0.186,0.189,0.248,0.224,0.175,0.2,0.168,0.149,0.12,0.027,0.106,0.019,0.094,0.088,0.083,0.073,0.168,0.135,0.145,0.067,0.181,0.187,0.242,0.442,0.285,0.231,0.233,0.196,0.179,0.271,0.278,0.199,0.224,0.272,0.161,0.299,0.249,0.269,0.271,0.225,0.176,0.133,0.079,0.084,0.266,0.25,0.199,0.132,0.125,0.118,-0.008,-0.007,-0.062,-0.072,0.007,0.204,0.161,0.202,0.121,0.158,0.122,0.088,0.06,0.013,0.061,0.111,0.16,0.176,0.173,0.141,0.175,0.156,0.23,0.248,0.227,0.349,0.449,0.286,0.229,0.176,0.276,0.305,0.21,0.241,0.163,0.069,0.246,0.13,0.097,0.177,0.159,0.177,0.178,0.093,0.089,0.077,0.156,0.247,0.262,0.201,0.254,0.367,0.372,0.406,0.457,0.449,0.526,0.486,0.739,0.608,0.57,0.579,0.651,0.616,0.4,0.409,0.424,0.366,0.29,0.322,0.248,0.266,0.282,0.253,0.274,0.241,0.223,0.338,0.212,0.363,0.271,0.261,0.338,0.309,0.159,0.179,0.329,0.289,0.475,0.426,0.452,0.498,0.405,0.491,0.323,0.568,0.586,0.432,0.455,0.462,0.417,0.413,0.362,0.397,0.326,0.514,0.427,0.418,0.439,0.437,0.457,0.514,0.55,0.419,0.519,0.496,0.56,0.501,0.484,0.323,0.35,0.38,0.418,0.442,0.521,0.381,0.364,0.493,0.53,0.476,0.532,0.502,0.495,0.478,0.366,0.32,0.435,0.38,0.378,0.352,0.442,0.456,0.482,0.425,0.472,0.44,0.518,0.601,0.498,0.435,0.372,0.382,0.358,0.402,0.362,0.266,0.226,0.074,0.198,0.447,0.278,0.283,0.315,0.406,0.407,0.378,0.44,0.394,0.33],\"coloraxis\":\"coloraxis\",\"symbol\":\"circle\"},\"mode\":\"markers\",\"name\":\"\",\"orientation\":\"v\",\"showlegend\":false,\"x\":[357.465,359.174,360.758,362.174,363.359,364.296,365.044,365.692,366.317,367.893,369.8,371.77,372.701,374.681,376.004,377.635,379.539,381.642,383.905,388.5,390.676,392.714,394.539,396.082,397.345,398.41,399.398,400.393,401.487,404.06,407.328,409.211,411.112,412.92,414.572,416.063,417.549,418.723,420.222,422.707,426.191,428.871,431.542,433.915,440.937,442.755,443.846,444.729,445.352,447.106,451.255,453.848,456.226,458.194,459.549,460.408,461.292,462.96,463.964,468.631,470.907,472.912,474.245,475.63,476.396,477.152,477.409,478.259,479.174,480.57,481.251,484.643,486.334,487.528,488.674,489.664,490.433,491.114,491.634,491.15,492.105,493.348,493.929,495.096,496.798,497.967,498.083,499.467,501.644,502.436,502.811,504.226,505.101,505.671,507.207,508.52,508.614,509.265,509.232,509.287,509.218,509.453,510.264,511.74,513.309,513.715,513.455,513.602,514.616,514.991,515.302,515.243,517.172,517.716,518.274,519.545,520.879,521.311,521.54,521.752,522.426,523.229,523.768,524.878,525.647,525.989,526.535,527.476,528.077,528.897,528.589,528.263,528.449,528.67,528.804,529.492,530.227,530.837,531.628,532.302,532.387,532.452,532.257,532.311,532.575,532.827,533.315,534.415,535.405,535.373,535.465,535.561,535.409,535.766,536.123,536.151,536.489,537.326,538.583,538.66,538.872,539.005,538.895,539.015,538.912,539.103,539.311,539.685,539.952,540.312,540.749,541.045,540.971,541.342,541.745,541.777,541.898,542.379,542.388,542.493,542.613,542.323,542.068,542.092,542.131,542.279,543.226,543.419,543.501,543.473,543.053,543.279,543.181,542.882,543.078,543.472,543.647,543.383,543.113,543.032,543.149,542.513,542.162,542.208,542.529,542.935,543.166,543.199,543.133,543.039,543.008,542.685,542.361,542.098,541.999,541.864,541.798,542.474,542.172,542.021,542.044,541.74,541.332,540.964,540.978,541.44,541.756,541.799,541.627,541.273,540.952,540.741,540.456,539.999,539.725,539.682,539.566,539.488,539.5,539.377,539.206,538.973,538.811,538.13,537.376,537.125,537.281,537.38,537.319,537.052,536.876,536.484,535.979,535.648,535.399,535.128,535.026,535.072,535.048,534.927,534.906,535.005],\"xaxis\":\"x\",\"y\":[0.149,0.093,0.232,0.078,0.089,0.013,0.049,-0.019,0.065,-0.024,0.025,-0.123,-0.282,-0.155,-0.032,-0.042,0.001,-0.049,-0.042,-0.035,-0.008,-0.093,-0.002,0.121,0.065,0.049,0.045,0.023,0.055,-0.001,0.043,-0.033,0.022,0.116,0.266,0.021,0.084,0.145,0.121,0.238,0.219,0.25,0.174,0.186,0.189,0.248,0.224,0.175,0.2,0.168,0.149,0.12,0.027,0.106,0.019,0.094,0.088,0.083,0.073,0.168,0.135,0.145,0.067,0.181,0.187,0.242,0.442,0.285,0.231,0.233,0.196,0.179,0.271,0.278,0.199,0.224,0.272,0.161,0.299,0.249,0.269,0.271,0.225,0.176,0.133,0.079,0.084,0.266,0.25,0.199,0.132,0.125,0.118,-0.008,-0.007,-0.062,-0.072,0.007,0.204,0.161,0.202,0.121,0.158,0.122,0.088,0.06,0.013,0.061,0.111,0.16,0.176,0.173,0.141,0.175,0.156,0.23,0.248,0.227,0.349,0.449,0.286,0.229,0.176,0.276,0.305,0.21,0.241,0.163,0.069,0.246,0.13,0.097,0.177,0.159,0.177,0.178,0.093,0.089,0.077,0.156,0.247,0.262,0.201,0.254,0.367,0.372,0.406,0.457,0.449,0.526,0.486,0.739,0.608,0.57,0.579,0.651,0.616,0.4,0.409,0.424,0.366,0.29,0.322,0.248,0.266,0.282,0.253,0.274,0.241,0.223,0.338,0.212,0.363,0.271,0.261,0.338,0.309,0.159,0.179,0.329,0.289,0.475,0.426,0.452,0.498,0.405,0.491,0.323,0.568,0.586,0.432,0.455,0.462,0.417,0.413,0.362,0.397,0.326,0.514,0.427,0.418,0.439,0.437,0.457,0.514,0.55,0.419,0.519,0.496,0.56,0.501,0.484,0.323,0.35,0.38,0.418,0.442,0.521,0.381,0.364,0.493,0.53,0.476,0.532,0.502,0.495,0.478,0.366,0.32,0.435,0.38,0.378,0.352,0.442,0.456,0.482,0.425,0.472,0.44,0.518,0.601,0.498,0.435,0.372,0.382,0.358,0.402,0.362,0.266,0.226,0.074,0.198,0.447,0.278,0.283,0.315,0.406,0.407,0.378,0.44,0.394,0.33],\"yaxis\":\"y\",\"type\":\"scatter\"}],                        {\"template\":{\"data\":{\"histogram2dcontour\":[{\"type\":\"histogram2dcontour\",\"colorbar\":{\"outlinewidth\":0,\"ticks\":\"\"},\"colorscale\":[[0.0,\"#0d0887\"],[0.1111111111111111,\"#46039f\"],[0.2222222222222222,\"#7201a8\"],[0.3333333333333333,\"#9c179e\"],[0.4444444444444444,\"#bd3786\"],[0.5555555555555556,\"#d8576b\"],[0.6666666666666666,\"#ed7953\"],[0.7777777777777778,\"#fb9f3a\"],[0.8888888888888888,\"#fdca26\"],[1.0,\"#f0f921\"]]}],\"choropleth\":[{\"type\":\"choropleth\",\"colorbar\":{\"outlinewidth\":0,\"ticks\":\"\"}}],\"histogram2d\":[{\"type\":\"histogram2d\",\"colorbar\":{\"outlinewidth\":0,\"ticks\":\"\"},\"colorscale\":[[0.0,\"#0d0887\"],[0.1111111111111111,\"#46039f\"],[0.2222222222222222,\"#7201a8\"],[0.3333333333333333,\"#9c179e\"],[0.4444444444444444,\"#bd3786\"],[0.5555555555555556,\"#d8576b\"],[0.6666666666666666,\"#ed7953\"],[0.7777777777777778,\"#fb9f3a\"],[0.8888888888888888,\"#fdca26\"],[1.0,\"#f0f921\"]]}],\"heatmap\":[{\"type\":\"heatmap\",\"colorbar\":{\"outlinewidth\":0,\"ticks\":\"\"},\"colorscale\":[[0.0,\"#0d0887\"],[0.1111111111111111,\"#46039f\"],[0.2222222222222222,\"#7201a8\"],[0.3333333333333333,\"#9c179e\"],[0.4444444444444444,\"#bd3786\"],[0.5555555555555556,\"#d8576b\"],[0.6666666666666666,\"#ed7953\"],[0.7777777777777778,\"#fb9f3a\"],[0.8888888888888888,\"#fdca26\"],[1.0,\"#f0f921\"]]}],\"heatmapgl\":[{\"type\":\"heatmapgl\",\"colorbar\":{\"outlinewidth\":0,\"ticks\":\"\"},\"colorscale\":[[0.0,\"#0d0887\"],[0.1111111111111111,\"#46039f\"],[0.2222222222222222,\"#7201a8\"],[0.3333333333333333,\"#9c179e\"],[0.4444444444444444,\"#bd3786\"],[0.5555555555555556,\"#d8576b\"],[0.6666666666666666,\"#ed7953\"],[0.7777777777777778,\"#fb9f3a\"],[0.8888888888888888,\"#fdca26\"],[1.0,\"#f0f921\"]]}],\"contourcarpet\":[{\"type\":\"contourcarpet\",\"colorbar\":{\"outlinewidth\":0,\"ticks\":\"\"}}],\"contour\":[{\"type\":\"contour\",\"colorbar\":{\"outlinewidth\":0,\"ticks\":\"\"},\"colorscale\":[[0.0,\"#0d0887\"],[0.1111111111111111,\"#46039f\"],[0.2222222222222222,\"#7201a8\"],[0.3333333333333333,\"#9c179e\"],[0.4444444444444444,\"#bd3786\"],[0.5555555555555556,\"#d8576b\"],[0.6666666666666666,\"#ed7953\"],[0.7777777777777778,\"#fb9f3a\"],[0.8888888888888888,\"#fdca26\"],[1.0,\"#f0f921\"]]}],\"surface\":[{\"type\":\"surface\",\"colorbar\":{\"outlinewidth\":0,\"ticks\":\"\"},\"colorscale\":[[0.0,\"#0d0887\"],[0.1111111111111111,\"#46039f\"],[0.2222222222222222,\"#7201a8\"],[0.3333333333333333,\"#9c179e\"],[0.4444444444444444,\"#bd3786\"],[0.5555555555555556,\"#d8576b\"],[0.6666666666666666,\"#ed7953\"],[0.7777777777777778,\"#fb9f3a\"],[0.8888888888888888,\"#fdca26\"],[1.0,\"#f0f921\"]]}],\"mesh3d\":[{\"type\":\"mesh3d\",\"colorbar\":{\"outlinewidth\":0,\"ticks\":\"\"}}],\"scatter\":[{\"fillpattern\":{\"fillmode\":\"overlay\",\"size\":10,\"solidity\":0.2},\"type\":\"scatter\"}],\"parcoords\":[{\"type\":\"parcoords\",\"line\":{\"colorbar\":{\"outlinewidth\":0,\"ticks\":\"\"}}}],\"scatterpolargl\":[{\"type\":\"scatterpolargl\",\"marker\":{\"colorbar\":{\"outlinewidth\":0,\"ticks\":\"\"}}}],\"bar\":[{\"error_x\":{\"color\":\"#2a3f5f\"},\"error_y\":{\"color\":\"#2a3f5f\"},\"marker\":{\"line\":{\"color\":\"#E5ECF6\",\"width\":0.5},\"pattern\":{\"fillmode\":\"overlay\",\"size\":10,\"solidity\":0.2}},\"type\":\"bar\"}],\"scattergeo\":[{\"type\":\"scattergeo\",\"marker\":{\"colorbar\":{\"outlinewidth\":0,\"ticks\":\"\"}}}],\"scatterpolar\":[{\"type\":\"scatterpolar\",\"marker\":{\"colorbar\":{\"outlinewidth\":0,\"ticks\":\"\"}}}],\"histogram\":[{\"marker\":{\"pattern\":{\"fillmode\":\"overlay\",\"size\":10,\"solidity\":0.2}},\"type\":\"histogram\"}],\"scattergl\":[{\"type\":\"scattergl\",\"marker\":{\"colorbar\":{\"outlinewidth\":0,\"ticks\":\"\"}}}],\"scatter3d\":[{\"type\":\"scatter3d\",\"line\":{\"colorbar\":{\"outlinewidth\":0,\"ticks\":\"\"}},\"marker\":{\"colorbar\":{\"outlinewidth\":0,\"ticks\":\"\"}}}],\"scattermapbox\":[{\"type\":\"scattermapbox\",\"marker\":{\"colorbar\":{\"outlinewidth\":0,\"ticks\":\"\"}}}],\"scatterternary\":[{\"type\":\"scatterternary\",\"marker\":{\"colorbar\":{\"outlinewidth\":0,\"ticks\":\"\"}}}],\"scattercarpet\":[{\"type\":\"scattercarpet\",\"marker\":{\"colorbar\":{\"outlinewidth\":0,\"ticks\":\"\"}}}],\"carpet\":[{\"aaxis\":{\"endlinecolor\":\"#2a3f5f\",\"gridcolor\":\"white\",\"linecolor\":\"white\",\"minorgridcolor\":\"white\",\"startlinecolor\":\"#2a3f5f\"},\"baxis\":{\"endlinecolor\":\"#2a3f5f\",\"gridcolor\":\"white\",\"linecolor\":\"white\",\"minorgridcolor\":\"white\",\"startlinecolor\":\"#2a3f5f\"},\"type\":\"carpet\"}],\"table\":[{\"cells\":{\"fill\":{\"color\":\"#EBF0F8\"},\"line\":{\"color\":\"white\"}},\"header\":{\"fill\":{\"color\":\"#C8D4E3\"},\"line\":{\"color\":\"white\"}},\"type\":\"table\"}],\"barpolar\":[{\"marker\":{\"line\":{\"color\":\"#E5ECF6\",\"width\":0.5},\"pattern\":{\"fillmode\":\"overlay\",\"size\":10,\"solidity\":0.2}},\"type\":\"barpolar\"}],\"pie\":[{\"automargin\":true,\"type\":\"pie\"}]},\"layout\":{\"autotypenumbers\":\"strict\",\"colorway\":[\"#636efa\",\"#EF553B\",\"#00cc96\",\"#ab63fa\",\"#FFA15A\",\"#19d3f3\",\"#FF6692\",\"#B6E880\",\"#FF97FF\",\"#FECB52\"],\"font\":{\"color\":\"#2a3f5f\"},\"hovermode\":\"closest\",\"hoverlabel\":{\"align\":\"left\"},\"paper_bgcolor\":\"white\",\"plot_bgcolor\":\"#E5ECF6\",\"polar\":{\"bgcolor\":\"#E5ECF6\",\"angularaxis\":{\"gridcolor\":\"white\",\"linecolor\":\"white\",\"ticks\":\"\"},\"radialaxis\":{\"gridcolor\":\"white\",\"linecolor\":\"white\",\"ticks\":\"\"}},\"ternary\":{\"bgcolor\":\"#E5ECF6\",\"aaxis\":{\"gridcolor\":\"white\",\"linecolor\":\"white\",\"ticks\":\"\"},\"baxis\":{\"gridcolor\":\"white\",\"linecolor\":\"white\",\"ticks\":\"\"},\"caxis\":{\"gridcolor\":\"white\",\"linecolor\":\"white\",\"ticks\":\"\"}},\"coloraxis\":{\"colorbar\":{\"outlinewidth\":0,\"ticks\":\"\"}},\"colorscale\":{\"sequential\":[[0.0,\"#0d0887\"],[0.1111111111111111,\"#46039f\"],[0.2222222222222222,\"#7201a8\"],[0.3333333333333333,\"#9c179e\"],[0.4444444444444444,\"#bd3786\"],[0.5555555555555556,\"#d8576b\"],[0.6666666666666666,\"#ed7953\"],[0.7777777777777778,\"#fb9f3a\"],[0.8888888888888888,\"#fdca26\"],[1.0,\"#f0f921\"]],\"sequentialminus\":[[0.0,\"#0d0887\"],[0.1111111111111111,\"#46039f\"],[0.2222222222222222,\"#7201a8\"],[0.3333333333333333,\"#9c179e\"],[0.4444444444444444,\"#bd3786\"],[0.5555555555555556,\"#d8576b\"],[0.6666666666666666,\"#ed7953\"],[0.7777777777777778,\"#fb9f3a\"],[0.8888888888888888,\"#fdca26\"],[1.0,\"#f0f921\"]],\"diverging\":[[0,\"#8e0152\"],[0.1,\"#c51b7d\"],[0.2,\"#de77ae\"],[0.3,\"#f1b6da\"],[0.4,\"#fde0ef\"],[0.5,\"#f7f7f7\"],[0.6,\"#e6f5d0\"],[0.7,\"#b8e186\"],[0.8,\"#7fbc41\"],[0.9,\"#4d9221\"],[1,\"#276419\"]]},\"xaxis\":{\"gridcolor\":\"white\",\"linecolor\":\"white\",\"ticks\":\"\",\"title\":{\"standoff\":15},\"zerolinecolor\":\"white\",\"automargin\":true,\"zerolinewidth\":2},\"yaxis\":{\"gridcolor\":\"white\",\"linecolor\":\"white\",\"ticks\":\"\",\"title\":{\"standoff\":15},\"zerolinecolor\":\"white\",\"automargin\":true,\"zerolinewidth\":2},\"scene\":{\"xaxis\":{\"backgroundcolor\":\"#E5ECF6\",\"gridcolor\":\"white\",\"linecolor\":\"white\",\"showbackground\":true,\"ticks\":\"\",\"zerolinecolor\":\"white\",\"gridwidth\":2},\"yaxis\":{\"backgroundcolor\":\"#E5ECF6\",\"gridcolor\":\"white\",\"linecolor\":\"white\",\"showbackground\":true,\"ticks\":\"\",\"zerolinecolor\":\"white\",\"gridwidth\":2},\"zaxis\":{\"backgroundcolor\":\"#E5ECF6\",\"gridcolor\":\"white\",\"linecolor\":\"white\",\"showbackground\":true,\"ticks\":\"\",\"zerolinecolor\":\"white\",\"gridwidth\":2}},\"shapedefaults\":{\"line\":{\"color\":\"#2a3f5f\"}},\"annotationdefaults\":{\"arrowcolor\":\"#2a3f5f\",\"arrowhead\":0,\"arrowwidth\":1},\"geo\":{\"bgcolor\":\"white\",\"landcolor\":\"#E5ECF6\",\"subunitcolor\":\"white\",\"showland\":true,\"showlakes\":true,\"lakecolor\":\"white\"},\"title\":{\"x\":0.05},\"mapbox\":{\"style\":\"light\"}}},\"xaxis\":{\"anchor\":\"y\",\"domain\":[0.0,1.0],\"title\":{\"text\":\"CFC-12\"}},\"yaxis\":{\"anchor\":\"x\",\"domain\":[0.0,1.0],\"title\":{\"text\":\"Temp\"}},\"coloraxis\":{\"colorbar\":{\"title\":{\"text\":\"Temp\"}},\"colorscale\":[[0.0,\"#0d0887\"],[0.1111111111111111,\"#46039f\"],[0.2222222222222222,\"#7201a8\"],[0.3333333333333333,\"#9c179e\"],[0.4444444444444444,\"#bd3786\"],[0.5555555555555556,\"#d8576b\"],[0.6666666666666666,\"#ed7953\"],[0.7777777777777778,\"#fb9f3a\"],[0.8888888888888888,\"#fdca26\"],[1.0,\"#f0f921\"]]},\"legend\":{\"tracegroupgap\":0},\"margin\":{\"t\":60}},                        {\"responsive\": true}                    ).then(function(){\n",
              "                            \n",
              "var gd = document.getElementById('c36d9dc7-8153-43ff-910b-01528b13cc9b');\n",
              "var x = new MutationObserver(function (mutations, observer) {{\n",
              "        var display = window.getComputedStyle(gd).display;\n",
              "        if (!display || display === 'none') {{\n",
              "            console.log([gd, 'removed!']);\n",
              "            Plotly.purge(gd);\n",
              "            observer.disconnect();\n",
              "        }}\n",
              "}});\n",
              "\n",
              "// Listen for the removal of the full notebook cells\n",
              "var notebookContainer = gd.closest('#notebook-container');\n",
              "if (notebookContainer) {{\n",
              "    x.observe(notebookContainer, {childList: true});\n",
              "}}\n",
              "\n",
              "// Listen for the clearing of the current output cell\n",
              "var outputEl = gd.closest('.output');\n",
              "if (outputEl) {{\n",
              "    x.observe(outputEl, {childList: true});\n",
              "}}\n",
              "\n",
              "                        })                };                            </script>        </div>\n",
              "</body>\n",
              "</html>"
            ]
          },
          "metadata": {}
        }
      ]
    },
    {
      "cell_type": "markdown",
      "source": [
        "<i><b>Reason for choosing CFC-12 and Temp<i><b>"
      ],
      "metadata": {
        "id": "IwqpHQHSHvau"
      }
    },
    {
      "cell_type": "markdown",
      "source": [
        "CFC-12 absorbs light in a part of the infrared spectrum that more abundant greenhouse gases like CO2 and water vapor do not. By capturing that heat that would otherwise escape into space, even a small amount of CFC molecules can have a significant impact on warming. By performing a bivariate analysis on these two variables, we can examine the strength and direction of their relationship, and better understand the extent to which CFC-12 is driving changes in global temperature."
      ],
      "metadata": {
        "id": "8P9M9f54HwJ3"
      }
    },
    {
      "cell_type": "code",
      "source": [
        "xs = no_outliers_df[\"CFC-12\"]\n",
        "ys = no_outliers_df.Temp\n",
        "# computes the Pearson correlation coefficients between CFC-11 and Temp\n",
        "corr = np.corrcoef(xs, ys)\n",
        "corr[1,0]"
      ],
      "metadata": {
        "id": "3sGhd2cFHz0J",
        "colab": {
          "base_uri": "https://localhost:8080/"
        },
        "outputId": "7d2c3cfe-d3a7-487d-a75e-35917e83ba44"
      },
      "execution_count": null,
      "outputs": [
        {
          "output_type": "execute_result",
          "data": {
            "text/plain": [
              "0.6975005858833704"
            ]
          },
          "metadata": {},
          "execution_count": 49
        }
      ]
    },
    {
      "cell_type": "markdown",
      "source": [
        "<i><b>Relationship between the variables</b></i>"
      ],
      "metadata": {
        "id": "7mWyxmBgH6Kf"
      }
    },
    {
      "cell_type": "markdown",
      "source": [
        "The high correlation coefficient of 0.616 indicates a strong, positive relationship between CFC-12 and temperature. As the concentration of CFC-12 increases, the temperature also increases."
      ],
      "metadata": {
        "id": "x4EykM4MH6-q"
      }
    },
    {
      "cell_type": "markdown",
      "source": [
        "#####TSI and Temp"
      ],
      "metadata": {
        "id": "xbbxZFsuH_fY"
      }
    },
    {
      "cell_type": "code",
      "source": [
        "# create box plot\n",
        "fig = px.box(no_outliers_df, x=\"TSI\", y=\"Temp\")\n",
        "fig.update_traces(quartilemethod=\"exclusive\")\n",
        "fig.show()"
      ],
      "metadata": {
        "id": "1TzjWzAcIAOH",
        "colab": {
          "base_uri": "https://localhost:8080/",
          "height": 542
        },
        "outputId": "4ced1647-c854-46b8-95ad-c957c529b505"
      },
      "execution_count": null,
      "outputs": [
        {
          "output_type": "display_data",
          "data": {
            "text/html": [
              "<html>\n",
              "<head><meta charset=\"utf-8\" /></head>\n",
              "<body>\n",
              "    <div>            <script src=\"https://cdnjs.cloudflare.com/ajax/libs/mathjax/2.7.5/MathJax.js?config=TeX-AMS-MML_SVG\"></script><script type=\"text/javascript\">if (window.MathJax && window.MathJax.Hub && window.MathJax.Hub.Config) {window.MathJax.Hub.Config({SVG: {font: \"STIX-Web\"}});}</script>                <script type=\"text/javascript\">window.PlotlyConfig = {MathJaxConfig: 'local'};</script>\n",
              "        <script src=\"https://cdn.plot.ly/plotly-2.18.2.min.js\"></script>                <div id=\"2ad098e3-875b-4d73-b278-3a4a49fcc5f1\" class=\"plotly-graph-div\" style=\"height:525px; width:100%;\"></div>            <script type=\"text/javascript\">                                    window.PLOTLYENV=window.PLOTLYENV || {};                                    if (document.getElementById(\"2ad098e3-875b-4d73-b278-3a4a49fcc5f1\")) {                    Plotly.newPlot(                        \"2ad098e3-875b-4d73-b278-3a4a49fcc5f1\",                        [{\"alignmentgroup\":\"True\",\"hovertemplate\":\"TSI=%{x}<br>Temp=%{y}<extra></extra>\",\"legendgroup\":\"\",\"marker\":{\"color\":\"#636efa\"},\"name\":\"\",\"notched\":false,\"offsetgroup\":\"\",\"orientation\":\"v\",\"showlegend\":false,\"x\":[\"M\",\"M\",\"M\",\"M\",\"L\",\"L\",\"M\",\"L\",\"M\",\"M\",\"M\",\"L\",\"M\",\"L\",\"L\",\"L\",\"L\",\"L\",\"L\",\"L\",\"L\",\"L\",\"L\",\"L\",\"L\",\"L\",\"L\",\"L\",\"L\",\"L\",\"L\",\"L\",\"L\",\"L\",\"L\",\"L\",\"L\",\"M\",\"M\",\"M\",\"M\",\"M\",\"M\",\"M\",\"M\",\"M\",\"M\",\"M\",\"M\",\"M\",\"M\",\"M\",\"M\",\"M\",\"H\",\"H\",\"M\",\"H\",\"H\",\"H\",\"M\",\"H\",\"H\",\"H\",\"H\",\"H\",\"H\",\"H\",\"H\",\"H\",\"M\",\"H\",\"H\",\"M\",\"M\",\"M\",\"M\",\"H\",\"H\",\"M\",\"M\",\"H\",\"M\",\"H\",\"M\",\"H\",\"M\",\"H\",\"M\",\"H\",\"H\",\"M\",\"M\",\"M\",\"M\",\"M\",\"M\",\"M\",\"M\",\"M\",\"M\",\"M\",\"M\",\"M\",\"M\",\"M\",\"M\",\"L\",\"M\",\"L\",\"M\",\"M\",\"M\",\"M\",\"L\",\"L\",\"M\",\"L\",\"M\",\"M\",\"L\",\"L\",\"L\",\"L\",\"L\",\"L\",\"L\",\"L\",\"L\",\"L\",\"L\",\"L\",\"L\",\"L\",\"L\",\"L\",\"L\",\"L\",\"L\",\"L\",\"L\",\"L\",\"L\",\"L\",\"L\",\"L\",\"M\",\"L\",\"M\",\"M\",\"M\",\"M\",\"M\",\"M\",\"M\",\"M\",\"M\",\"M\",\"M\",\"M\",\"M\",\"M\",\"M\",\"M\",\"M\",\"M\",\"M\",\"H\",\"M\",\"M\",\"M\",\"H\",\"H\",\"M\",\"H\",\"H\",\"H\",\"H\",\"H\",\"H\",\"H\",\"M\",\"M\",\"H\",\"M\",\"M\",\"H\",\"H\",\"H\",\"H\",\"H\",\"H\",\"M\",\"M\",\"M\",\"H\",\"M\",\"H\",\"H\",\"H\",\"M\",\"M\",\"M\",\"M\",\"M\",\"L\",\"M\",\"M\",\"M\",\"M\",\"M\",\"M\",\"M\",\"M\",\"M\",\"M\",\"M\",\"M\",\"M\",\"M\",\"M\",\"M\",\"M\",\"M\",\"M\",\"M\",\"M\",\"M\",\"M\",\"M\",\"M\",\"M\",\"M\",\"M\",\"M\",\"L\",\"M\",\"M\",\"L\",\"L\",\"L\",\"L\",\"M\",\"L\",\"M\",\"M\",\"L\",\"L\",\"L\",\"L\",\"L\",\"L\",\"L\",\"L\",\"L\",\"L\",\"L\",\"L\",\"L\",\"L\",\"L\",\"L\"],\"x0\":\" \",\"xaxis\":\"x\",\"y\":[0.149,0.093,0.232,0.078,0.089,0.013,0.049,-0.019,0.065,-0.024,0.025,-0.123,-0.282,-0.155,-0.032,-0.042,0.001,-0.049,-0.042,-0.035,-0.008,-0.093,-0.002,0.121,0.065,0.049,0.045,0.023,0.055,-0.001,0.043,-0.033,0.022,0.116,0.266,0.021,0.084,0.145,0.121,0.238,0.219,0.25,0.174,0.186,0.189,0.248,0.224,0.175,0.2,0.168,0.149,0.12,0.027,0.106,0.019,0.094,0.088,0.083,0.073,0.168,0.135,0.145,0.067,0.181,0.187,0.242,0.442,0.285,0.231,0.233,0.196,0.179,0.271,0.278,0.199,0.224,0.272,0.161,0.299,0.249,0.269,0.271,0.225,0.176,0.133,0.079,0.084,0.266,0.25,0.199,0.132,0.125,0.118,-0.008,-0.007,-0.062,-0.072,0.007,0.204,0.161,0.202,0.121,0.158,0.122,0.088,0.06,0.013,0.061,0.111,0.16,0.176,0.173,0.141,0.175,0.156,0.23,0.248,0.227,0.349,0.449,0.286,0.229,0.176,0.276,0.305,0.21,0.241,0.163,0.069,0.246,0.13,0.097,0.177,0.159,0.177,0.178,0.093,0.089,0.077,0.156,0.247,0.262,0.201,0.254,0.367,0.372,0.406,0.457,0.449,0.526,0.486,0.739,0.608,0.57,0.579,0.651,0.616,0.4,0.409,0.424,0.366,0.29,0.322,0.248,0.266,0.282,0.253,0.274,0.241,0.223,0.338,0.212,0.363,0.271,0.261,0.338,0.309,0.159,0.179,0.329,0.289,0.475,0.426,0.452,0.498,0.405,0.491,0.323,0.568,0.586,0.432,0.455,0.462,0.417,0.413,0.362,0.397,0.326,0.514,0.427,0.418,0.439,0.437,0.457,0.514,0.55,0.419,0.519,0.496,0.56,0.501,0.484,0.323,0.35,0.38,0.418,0.442,0.521,0.381,0.364,0.493,0.53,0.476,0.532,0.502,0.495,0.478,0.366,0.32,0.435,0.38,0.378,0.352,0.442,0.456,0.482,0.425,0.472,0.44,0.518,0.601,0.498,0.435,0.372,0.382,0.358,0.402,0.362,0.266,0.226,0.074,0.198,0.447,0.278,0.283,0.315,0.406,0.407,0.378,0.44,0.394,0.33],\"y0\":\" \",\"yaxis\":\"y\",\"type\":\"box\",\"quartilemethod\":\"exclusive\"}],                        {\"template\":{\"data\":{\"histogram2dcontour\":[{\"type\":\"histogram2dcontour\",\"colorbar\":{\"outlinewidth\":0,\"ticks\":\"\"},\"colorscale\":[[0.0,\"#0d0887\"],[0.1111111111111111,\"#46039f\"],[0.2222222222222222,\"#7201a8\"],[0.3333333333333333,\"#9c179e\"],[0.4444444444444444,\"#bd3786\"],[0.5555555555555556,\"#d8576b\"],[0.6666666666666666,\"#ed7953\"],[0.7777777777777778,\"#fb9f3a\"],[0.8888888888888888,\"#fdca26\"],[1.0,\"#f0f921\"]]}],\"choropleth\":[{\"type\":\"choropleth\",\"colorbar\":{\"outlinewidth\":0,\"ticks\":\"\"}}],\"histogram2d\":[{\"type\":\"histogram2d\",\"colorbar\":{\"outlinewidth\":0,\"ticks\":\"\"},\"colorscale\":[[0.0,\"#0d0887\"],[0.1111111111111111,\"#46039f\"],[0.2222222222222222,\"#7201a8\"],[0.3333333333333333,\"#9c179e\"],[0.4444444444444444,\"#bd3786\"],[0.5555555555555556,\"#d8576b\"],[0.6666666666666666,\"#ed7953\"],[0.7777777777777778,\"#fb9f3a\"],[0.8888888888888888,\"#fdca26\"],[1.0,\"#f0f921\"]]}],\"heatmap\":[{\"type\":\"heatmap\",\"colorbar\":{\"outlinewidth\":0,\"ticks\":\"\"},\"colorscale\":[[0.0,\"#0d0887\"],[0.1111111111111111,\"#46039f\"],[0.2222222222222222,\"#7201a8\"],[0.3333333333333333,\"#9c179e\"],[0.4444444444444444,\"#bd3786\"],[0.5555555555555556,\"#d8576b\"],[0.6666666666666666,\"#ed7953\"],[0.7777777777777778,\"#fb9f3a\"],[0.8888888888888888,\"#fdca26\"],[1.0,\"#f0f921\"]]}],\"heatmapgl\":[{\"type\":\"heatmapgl\",\"colorbar\":{\"outlinewidth\":0,\"ticks\":\"\"},\"colorscale\":[[0.0,\"#0d0887\"],[0.1111111111111111,\"#46039f\"],[0.2222222222222222,\"#7201a8\"],[0.3333333333333333,\"#9c179e\"],[0.4444444444444444,\"#bd3786\"],[0.5555555555555556,\"#d8576b\"],[0.6666666666666666,\"#ed7953\"],[0.7777777777777778,\"#fb9f3a\"],[0.8888888888888888,\"#fdca26\"],[1.0,\"#f0f921\"]]}],\"contourcarpet\":[{\"type\":\"contourcarpet\",\"colorbar\":{\"outlinewidth\":0,\"ticks\":\"\"}}],\"contour\":[{\"type\":\"contour\",\"colorbar\":{\"outlinewidth\":0,\"ticks\":\"\"},\"colorscale\":[[0.0,\"#0d0887\"],[0.1111111111111111,\"#46039f\"],[0.2222222222222222,\"#7201a8\"],[0.3333333333333333,\"#9c179e\"],[0.4444444444444444,\"#bd3786\"],[0.5555555555555556,\"#d8576b\"],[0.6666666666666666,\"#ed7953\"],[0.7777777777777778,\"#fb9f3a\"],[0.8888888888888888,\"#fdca26\"],[1.0,\"#f0f921\"]]}],\"surface\":[{\"type\":\"surface\",\"colorbar\":{\"outlinewidth\":0,\"ticks\":\"\"},\"colorscale\":[[0.0,\"#0d0887\"],[0.1111111111111111,\"#46039f\"],[0.2222222222222222,\"#7201a8\"],[0.3333333333333333,\"#9c179e\"],[0.4444444444444444,\"#bd3786\"],[0.5555555555555556,\"#d8576b\"],[0.6666666666666666,\"#ed7953\"],[0.7777777777777778,\"#fb9f3a\"],[0.8888888888888888,\"#fdca26\"],[1.0,\"#f0f921\"]]}],\"mesh3d\":[{\"type\":\"mesh3d\",\"colorbar\":{\"outlinewidth\":0,\"ticks\":\"\"}}],\"scatter\":[{\"fillpattern\":{\"fillmode\":\"overlay\",\"size\":10,\"solidity\":0.2},\"type\":\"scatter\"}],\"parcoords\":[{\"type\":\"parcoords\",\"line\":{\"colorbar\":{\"outlinewidth\":0,\"ticks\":\"\"}}}],\"scatterpolargl\":[{\"type\":\"scatterpolargl\",\"marker\":{\"colorbar\":{\"outlinewidth\":0,\"ticks\":\"\"}}}],\"bar\":[{\"error_x\":{\"color\":\"#2a3f5f\"},\"error_y\":{\"color\":\"#2a3f5f\"},\"marker\":{\"line\":{\"color\":\"#E5ECF6\",\"width\":0.5},\"pattern\":{\"fillmode\":\"overlay\",\"size\":10,\"solidity\":0.2}},\"type\":\"bar\"}],\"scattergeo\":[{\"type\":\"scattergeo\",\"marker\":{\"colorbar\":{\"outlinewidth\":0,\"ticks\":\"\"}}}],\"scatterpolar\":[{\"type\":\"scatterpolar\",\"marker\":{\"colorbar\":{\"outlinewidth\":0,\"ticks\":\"\"}}}],\"histogram\":[{\"marker\":{\"pattern\":{\"fillmode\":\"overlay\",\"size\":10,\"solidity\":0.2}},\"type\":\"histogram\"}],\"scattergl\":[{\"type\":\"scattergl\",\"marker\":{\"colorbar\":{\"outlinewidth\":0,\"ticks\":\"\"}}}],\"scatter3d\":[{\"type\":\"scatter3d\",\"line\":{\"colorbar\":{\"outlinewidth\":0,\"ticks\":\"\"}},\"marker\":{\"colorbar\":{\"outlinewidth\":0,\"ticks\":\"\"}}}],\"scattermapbox\":[{\"type\":\"scattermapbox\",\"marker\":{\"colorbar\":{\"outlinewidth\":0,\"ticks\":\"\"}}}],\"scatterternary\":[{\"type\":\"scatterternary\",\"marker\":{\"colorbar\":{\"outlinewidth\":0,\"ticks\":\"\"}}}],\"scattercarpet\":[{\"type\":\"scattercarpet\",\"marker\":{\"colorbar\":{\"outlinewidth\":0,\"ticks\":\"\"}}}],\"carpet\":[{\"aaxis\":{\"endlinecolor\":\"#2a3f5f\",\"gridcolor\":\"white\",\"linecolor\":\"white\",\"minorgridcolor\":\"white\",\"startlinecolor\":\"#2a3f5f\"},\"baxis\":{\"endlinecolor\":\"#2a3f5f\",\"gridcolor\":\"white\",\"linecolor\":\"white\",\"minorgridcolor\":\"white\",\"startlinecolor\":\"#2a3f5f\"},\"type\":\"carpet\"}],\"table\":[{\"cells\":{\"fill\":{\"color\":\"#EBF0F8\"},\"line\":{\"color\":\"white\"}},\"header\":{\"fill\":{\"color\":\"#C8D4E3\"},\"line\":{\"color\":\"white\"}},\"type\":\"table\"}],\"barpolar\":[{\"marker\":{\"line\":{\"color\":\"#E5ECF6\",\"width\":0.5},\"pattern\":{\"fillmode\":\"overlay\",\"size\":10,\"solidity\":0.2}},\"type\":\"barpolar\"}],\"pie\":[{\"automargin\":true,\"type\":\"pie\"}]},\"layout\":{\"autotypenumbers\":\"strict\",\"colorway\":[\"#636efa\",\"#EF553B\",\"#00cc96\",\"#ab63fa\",\"#FFA15A\",\"#19d3f3\",\"#FF6692\",\"#B6E880\",\"#FF97FF\",\"#FECB52\"],\"font\":{\"color\":\"#2a3f5f\"},\"hovermode\":\"closest\",\"hoverlabel\":{\"align\":\"left\"},\"paper_bgcolor\":\"white\",\"plot_bgcolor\":\"#E5ECF6\",\"polar\":{\"bgcolor\":\"#E5ECF6\",\"angularaxis\":{\"gridcolor\":\"white\",\"linecolor\":\"white\",\"ticks\":\"\"},\"radialaxis\":{\"gridcolor\":\"white\",\"linecolor\":\"white\",\"ticks\":\"\"}},\"ternary\":{\"bgcolor\":\"#E5ECF6\",\"aaxis\":{\"gridcolor\":\"white\",\"linecolor\":\"white\",\"ticks\":\"\"},\"baxis\":{\"gridcolor\":\"white\",\"linecolor\":\"white\",\"ticks\":\"\"},\"caxis\":{\"gridcolor\":\"white\",\"linecolor\":\"white\",\"ticks\":\"\"}},\"coloraxis\":{\"colorbar\":{\"outlinewidth\":0,\"ticks\":\"\"}},\"colorscale\":{\"sequential\":[[0.0,\"#0d0887\"],[0.1111111111111111,\"#46039f\"],[0.2222222222222222,\"#7201a8\"],[0.3333333333333333,\"#9c179e\"],[0.4444444444444444,\"#bd3786\"],[0.5555555555555556,\"#d8576b\"],[0.6666666666666666,\"#ed7953\"],[0.7777777777777778,\"#fb9f3a\"],[0.8888888888888888,\"#fdca26\"],[1.0,\"#f0f921\"]],\"sequentialminus\":[[0.0,\"#0d0887\"],[0.1111111111111111,\"#46039f\"],[0.2222222222222222,\"#7201a8\"],[0.3333333333333333,\"#9c179e\"],[0.4444444444444444,\"#bd3786\"],[0.5555555555555556,\"#d8576b\"],[0.6666666666666666,\"#ed7953\"],[0.7777777777777778,\"#fb9f3a\"],[0.8888888888888888,\"#fdca26\"],[1.0,\"#f0f921\"]],\"diverging\":[[0,\"#8e0152\"],[0.1,\"#c51b7d\"],[0.2,\"#de77ae\"],[0.3,\"#f1b6da\"],[0.4,\"#fde0ef\"],[0.5,\"#f7f7f7\"],[0.6,\"#e6f5d0\"],[0.7,\"#b8e186\"],[0.8,\"#7fbc41\"],[0.9,\"#4d9221\"],[1,\"#276419\"]]},\"xaxis\":{\"gridcolor\":\"white\",\"linecolor\":\"white\",\"ticks\":\"\",\"title\":{\"standoff\":15},\"zerolinecolor\":\"white\",\"automargin\":true,\"zerolinewidth\":2},\"yaxis\":{\"gridcolor\":\"white\",\"linecolor\":\"white\",\"ticks\":\"\",\"title\":{\"standoff\":15},\"zerolinecolor\":\"white\",\"automargin\":true,\"zerolinewidth\":2},\"scene\":{\"xaxis\":{\"backgroundcolor\":\"#E5ECF6\",\"gridcolor\":\"white\",\"linecolor\":\"white\",\"showbackground\":true,\"ticks\":\"\",\"zerolinecolor\":\"white\",\"gridwidth\":2},\"yaxis\":{\"backgroundcolor\":\"#E5ECF6\",\"gridcolor\":\"white\",\"linecolor\":\"white\",\"showbackground\":true,\"ticks\":\"\",\"zerolinecolor\":\"white\",\"gridwidth\":2},\"zaxis\":{\"backgroundcolor\":\"#E5ECF6\",\"gridcolor\":\"white\",\"linecolor\":\"white\",\"showbackground\":true,\"ticks\":\"\",\"zerolinecolor\":\"white\",\"gridwidth\":2}},\"shapedefaults\":{\"line\":{\"color\":\"#2a3f5f\"}},\"annotationdefaults\":{\"arrowcolor\":\"#2a3f5f\",\"arrowhead\":0,\"arrowwidth\":1},\"geo\":{\"bgcolor\":\"white\",\"landcolor\":\"#E5ECF6\",\"subunitcolor\":\"white\",\"showland\":true,\"showlakes\":true,\"lakecolor\":\"white\"},\"title\":{\"x\":0.05},\"mapbox\":{\"style\":\"light\"}}},\"xaxis\":{\"anchor\":\"y\",\"domain\":[0.0,1.0],\"title\":{\"text\":\"TSI\"}},\"yaxis\":{\"anchor\":\"x\",\"domain\":[0.0,1.0],\"title\":{\"text\":\"Temp\"}},\"legend\":{\"tracegroupgap\":0},\"margin\":{\"t\":60},\"boxmode\":\"group\"},                        {\"responsive\": true}                    ).then(function(){\n",
              "                            \n",
              "var gd = document.getElementById('2ad098e3-875b-4d73-b278-3a4a49fcc5f1');\n",
              "var x = new MutationObserver(function (mutations, observer) {{\n",
              "        var display = window.getComputedStyle(gd).display;\n",
              "        if (!display || display === 'none') {{\n",
              "            console.log([gd, 'removed!']);\n",
              "            Plotly.purge(gd);\n",
              "            observer.disconnect();\n",
              "        }}\n",
              "}});\n",
              "\n",
              "// Listen for the removal of the full notebook cells\n",
              "var notebookContainer = gd.closest('#notebook-container');\n",
              "if (notebookContainer) {{\n",
              "    x.observe(notebookContainer, {childList: true});\n",
              "}}\n",
              "\n",
              "// Listen for the clearing of the current output cell\n",
              "var outputEl = gd.closest('.output');\n",
              "if (outputEl) {{\n",
              "    x.observe(outputEl, {childList: true});\n",
              "}}\n",
              "\n",
              "                        })                };                            </script>        </div>\n",
              "</body>\n",
              "</html>"
            ]
          },
          "metadata": {}
        }
      ]
    },
    {
      "cell_type": "markdown",
      "source": [
        "<i><b>Reason for choosing TSI and Temp<i><b>"
      ],
      "metadata": {
        "id": "uAD7C8EVIvst"
      }
    },
    {
      "cell_type": "markdown",
      "source": [
        "TSI, which is affected by the area of the sun that is radiating energy on to Earth, varies according to whether the sun spot is radiating more amounts of energy on Earth, which then increases global temperatures.\n"
      ],
      "metadata": {
        "id": "w4_py6kvIyQx"
      }
    },
    {
      "cell_type": "markdown",
      "source": [
        "<i><b>Relationship between the variables<b><i>"
      ],
      "metadata": {
        "id": "3Rm5sQWaI2vs"
      }
    },
    {
      "cell_type": "markdown",
      "source": [
        "Based on the boxplots, it can be seen that regardless whether TSI is low, medium or high, the temperatures do not vary much. This might be because the distance between the sun and earth is very great hence TSI is not very significant."
      ],
      "metadata": {
        "id": "XdR18jS1I3je"
      }
    },
    {
      "cell_type": "markdown",
      "source": [
        "#####Aerosols and Temp"
      ],
      "metadata": {
        "id": "zumHiEySI61U"
      }
    },
    {
      "cell_type": "code",
      "source": [
        "# create box plot\n",
        "fig = px.box(no_outliers_df, x=\"Aerosols\", y=\"Temp\", color=\"Aerosols\")\n",
        "fig.update_traces(quartilemethod=\"exclusive\")\n",
        "fig.show()"
      ],
      "metadata": {
        "id": "YPJF_qZiI_rb",
        "colab": {
          "base_uri": "https://localhost:8080/",
          "height": 542
        },
        "outputId": "077b558f-92e4-4082-da2b-7821dd67ff5a"
      },
      "execution_count": null,
      "outputs": [
        {
          "output_type": "display_data",
          "data": {
            "text/html": [
              "<html>\n",
              "<head><meta charset=\"utf-8\" /></head>\n",
              "<body>\n",
              "    <div>            <script src=\"https://cdnjs.cloudflare.com/ajax/libs/mathjax/2.7.5/MathJax.js?config=TeX-AMS-MML_SVG\"></script><script type=\"text/javascript\">if (window.MathJax && window.MathJax.Hub && window.MathJax.Hub.Config) {window.MathJax.Hub.Config({SVG: {font: \"STIX-Web\"}});}</script>                <script type=\"text/javascript\">window.PlotlyConfig = {MathJaxConfig: 'local'};</script>\n",
              "        <script src=\"https://cdn.plot.ly/plotly-2.18.2.min.js\"></script>                <div id=\"c96858f3-f44b-4fe5-b373-6c4313b19e6c\" class=\"plotly-graph-div\" style=\"height:525px; width:100%;\"></div>            <script type=\"text/javascript\">                                    window.PLOTLYENV=window.PLOTLYENV || {};                                    if (document.getElementById(\"c96858f3-f44b-4fe5-b373-6c4313b19e6c\")) {                    Plotly.newPlot(                        \"c96858f3-f44b-4fe5-b373-6c4313b19e6c\",                        [{\"alignmentgroup\":\"True\",\"hovertemplate\":\"Aerosols=%{x}<br>Temp=%{y}<extra></extra>\",\"legendgroup\":\"H\",\"marker\":{\"color\":\"#636efa\"},\"name\":\"H\",\"notched\":false,\"offsetgroup\":\"H\",\"orientation\":\"v\",\"showlegend\":true,\"x\":[\"H\",\"H\",\"H\",\"H\",\"H\",\"H\",\"H\",\"H\",\"H\",\"H\",\"H\",\"H\",\"H\",\"H\",\"H\",\"H\",\"H\",\"H\",\"H\",\"H\",\"H\",\"H\",\"H\",\"H\",\"H\",\"H\",\"H\",\"H\",\"H\",\"H\",\"H\",\"H\",\"H\",\"H\",\"H\",\"H\",\"H\",\"H\",\"H\",\"H\",\"H\",\"H\",\"H\"],\"x0\":\" \",\"xaxis\":\"x\",\"y\":[0.149,0.093,0.232,0.078,0.089,0.013,0.049,-0.019,0.065,-0.024,0.025,-0.123,0.271,0.225,0.176,0.133,0.079,0.084,0.266,0.25,0.199,0.132,0.125,0.118,-0.008,-0.007,-0.062,-0.072,0.007,0.204,0.161,0.202,0.121,0.158,0.122,0.088,0.06,0.013,0.061,0.111,0.16,0.176,0.173],\"y0\":\" \",\"yaxis\":\"y\",\"type\":\"box\",\"quartilemethod\":\"exclusive\"},{\"alignmentgroup\":\"True\",\"hovertemplate\":\"Aerosols=%{x}<br>Temp=%{y}<extra></extra>\",\"legendgroup\":\"M\",\"marker\":{\"color\":\"#EF553B\"},\"name\":\"M\",\"notched\":false,\"offsetgroup\":\"M\",\"orientation\":\"v\",\"showlegend\":true,\"x\":[\"M\",\"M\",\"M\",\"M\",\"M\",\"M\",\"M\",\"M\",\"M\",\"M\",\"M\",\"M\",\"M\",\"M\",\"M\",\"M\",\"M\",\"M\",\"M\",\"M\",\"M\",\"M\",\"M\",\"M\",\"M\",\"M\",\"M\",\"M\",\"M\",\"M\",\"M\",\"M\",\"M\",\"M\",\"M\",\"M\",\"M\",\"M\",\"M\",\"M\",\"M\",\"M\",\"M\",\"M\",\"M\",\"M\",\"M\",\"M\",\"M\",\"M\",\"M\",\"M\",\"M\",\"M\",\"M\",\"M\",\"M\",\"M\",\"M\",\"M\",\"M\",\"M\",\"M\",\"M\",\"M\",\"M\",\"M\",\"M\",\"M\",\"M\",\"M\",\"M\",\"M\",\"M\",\"M\",\"M\",\"M\",\"M\",\"M\",\"M\",\"M\",\"M\",\"M\",\"M\",\"M\",\"M\",\"M\",\"M\",\"M\",\"M\",\"M\",\"M\",\"M\",\"M\",\"M\",\"M\",\"M\",\"M\",\"M\",\"M\",\"M\",\"M\",\"M\",\"M\",\"M\",\"M\",\"M\",\"M\",\"M\",\"M\",\"M\",\"M\",\"M\",\"M\",\"M\",\"M\",\"M\",\"M\",\"M\",\"M\",\"M\",\"M\",\"M\",\"M\",\"M\",\"M\",\"M\"],\"x0\":\" \",\"xaxis\":\"x\",\"y\":[-0.282,-0.155,-0.032,-0.042,0.001,-0.049,-0.042,-0.035,-0.008,-0.093,-0.002,0.121,0.065,0.049,0.045,0.023,0.055,-0.001,0.043,-0.033,0.022,0.116,0.266,0.021,0.084,0.145,0.121,0.238,0.219,0.25,0.174,0.186,0.189,0.248,0.224,0.175,0.2,0.168,0.149,0.12,0.027,0.106,0.019,0.094,0.088,0.083,0.073,0.168,0.135,0.145,0.067,0.181,0.187,0.242,0.442,0.285,0.231,0.233,0.196,0.179,0.271,0.278,0.199,0.224,0.272,0.161,0.299,0.249,0.269,0.141,0.175,0.156,0.23,0.248,0.227,0.349,0.449,0.286,0.229,0.176,0.276,0.305,0.21,0.241,0.163,0.069,0.246,0.13,0.097,0.177,0.159,0.177,0.178,0.093,0.089,0.077,0.156,0.247,0.262,0.201,0.254,0.367,0.372,0.406,0.457,0.449,0.526,0.486,0.482,0.425,0.472,0.44,0.518,0.601,0.498,0.435,0.372,0.382,0.358,0.402,0.362,0.266,0.226,0.378,0.44,0.394,0.33],\"y0\":\" \",\"yaxis\":\"y\",\"type\":\"box\",\"quartilemethod\":\"exclusive\"},{\"alignmentgroup\":\"True\",\"hovertemplate\":\"Aerosols=%{x}<br>Temp=%{y}<extra></extra>\",\"legendgroup\":\"L\",\"marker\":{\"color\":\"#00cc96\"},\"name\":\"L\",\"notched\":false,\"offsetgroup\":\"L\",\"orientation\":\"v\",\"showlegend\":true,\"x\":[\"L\",\"L\",\"L\",\"L\",\"L\",\"L\",\"L\",\"L\",\"L\",\"L\",\"L\",\"L\",\"L\",\"L\",\"L\",\"L\",\"L\",\"L\",\"L\",\"L\",\"L\",\"L\",\"L\",\"L\",\"L\",\"L\",\"L\",\"L\",\"L\",\"L\",\"L\",\"L\",\"L\",\"L\",\"L\",\"L\",\"L\",\"L\",\"L\",\"L\",\"L\",\"L\",\"L\",\"L\",\"L\",\"L\",\"L\",\"L\",\"L\",\"L\",\"L\",\"L\",\"L\",\"L\",\"L\",\"L\",\"L\",\"L\",\"L\",\"L\",\"L\",\"L\",\"L\",\"L\",\"L\",\"L\",\"L\",\"L\",\"L\",\"L\",\"L\",\"L\",\"L\",\"L\",\"L\",\"L\",\"L\",\"L\",\"L\",\"L\",\"L\",\"L\",\"L\",\"L\",\"L\",\"L\",\"L\",\"L\",\"L\",\"L\",\"L\",\"L\"],\"x0\":\" \",\"xaxis\":\"x\",\"y\":[0.739,0.608,0.57,0.579,0.651,0.616,0.4,0.409,0.424,0.366,0.29,0.322,0.248,0.266,0.282,0.253,0.274,0.241,0.223,0.338,0.212,0.363,0.271,0.261,0.338,0.309,0.159,0.179,0.329,0.289,0.475,0.426,0.452,0.498,0.405,0.491,0.323,0.568,0.586,0.432,0.455,0.462,0.417,0.413,0.362,0.397,0.326,0.514,0.427,0.418,0.439,0.437,0.457,0.514,0.55,0.419,0.519,0.496,0.56,0.501,0.484,0.323,0.35,0.38,0.418,0.442,0.521,0.381,0.364,0.493,0.53,0.476,0.532,0.502,0.495,0.478,0.366,0.32,0.435,0.38,0.378,0.352,0.442,0.456,0.074,0.198,0.447,0.278,0.283,0.315,0.406,0.407],\"y0\":\" \",\"yaxis\":\"y\",\"type\":\"box\",\"quartilemethod\":\"exclusive\"}],                        {\"template\":{\"data\":{\"histogram2dcontour\":[{\"type\":\"histogram2dcontour\",\"colorbar\":{\"outlinewidth\":0,\"ticks\":\"\"},\"colorscale\":[[0.0,\"#0d0887\"],[0.1111111111111111,\"#46039f\"],[0.2222222222222222,\"#7201a8\"],[0.3333333333333333,\"#9c179e\"],[0.4444444444444444,\"#bd3786\"],[0.5555555555555556,\"#d8576b\"],[0.6666666666666666,\"#ed7953\"],[0.7777777777777778,\"#fb9f3a\"],[0.8888888888888888,\"#fdca26\"],[1.0,\"#f0f921\"]]}],\"choropleth\":[{\"type\":\"choropleth\",\"colorbar\":{\"outlinewidth\":0,\"ticks\":\"\"}}],\"histogram2d\":[{\"type\":\"histogram2d\",\"colorbar\":{\"outlinewidth\":0,\"ticks\":\"\"},\"colorscale\":[[0.0,\"#0d0887\"],[0.1111111111111111,\"#46039f\"],[0.2222222222222222,\"#7201a8\"],[0.3333333333333333,\"#9c179e\"],[0.4444444444444444,\"#bd3786\"],[0.5555555555555556,\"#d8576b\"],[0.6666666666666666,\"#ed7953\"],[0.7777777777777778,\"#fb9f3a\"],[0.8888888888888888,\"#fdca26\"],[1.0,\"#f0f921\"]]}],\"heatmap\":[{\"type\":\"heatmap\",\"colorbar\":{\"outlinewidth\":0,\"ticks\":\"\"},\"colorscale\":[[0.0,\"#0d0887\"],[0.1111111111111111,\"#46039f\"],[0.2222222222222222,\"#7201a8\"],[0.3333333333333333,\"#9c179e\"],[0.4444444444444444,\"#bd3786\"],[0.5555555555555556,\"#d8576b\"],[0.6666666666666666,\"#ed7953\"],[0.7777777777777778,\"#fb9f3a\"],[0.8888888888888888,\"#fdca26\"],[1.0,\"#f0f921\"]]}],\"heatmapgl\":[{\"type\":\"heatmapgl\",\"colorbar\":{\"outlinewidth\":0,\"ticks\":\"\"},\"colorscale\":[[0.0,\"#0d0887\"],[0.1111111111111111,\"#46039f\"],[0.2222222222222222,\"#7201a8\"],[0.3333333333333333,\"#9c179e\"],[0.4444444444444444,\"#bd3786\"],[0.5555555555555556,\"#d8576b\"],[0.6666666666666666,\"#ed7953\"],[0.7777777777777778,\"#fb9f3a\"],[0.8888888888888888,\"#fdca26\"],[1.0,\"#f0f921\"]]}],\"contourcarpet\":[{\"type\":\"contourcarpet\",\"colorbar\":{\"outlinewidth\":0,\"ticks\":\"\"}}],\"contour\":[{\"type\":\"contour\",\"colorbar\":{\"outlinewidth\":0,\"ticks\":\"\"},\"colorscale\":[[0.0,\"#0d0887\"],[0.1111111111111111,\"#46039f\"],[0.2222222222222222,\"#7201a8\"],[0.3333333333333333,\"#9c179e\"],[0.4444444444444444,\"#bd3786\"],[0.5555555555555556,\"#d8576b\"],[0.6666666666666666,\"#ed7953\"],[0.7777777777777778,\"#fb9f3a\"],[0.8888888888888888,\"#fdca26\"],[1.0,\"#f0f921\"]]}],\"surface\":[{\"type\":\"surface\",\"colorbar\":{\"outlinewidth\":0,\"ticks\":\"\"},\"colorscale\":[[0.0,\"#0d0887\"],[0.1111111111111111,\"#46039f\"],[0.2222222222222222,\"#7201a8\"],[0.3333333333333333,\"#9c179e\"],[0.4444444444444444,\"#bd3786\"],[0.5555555555555556,\"#d8576b\"],[0.6666666666666666,\"#ed7953\"],[0.7777777777777778,\"#fb9f3a\"],[0.8888888888888888,\"#fdca26\"],[1.0,\"#f0f921\"]]}],\"mesh3d\":[{\"type\":\"mesh3d\",\"colorbar\":{\"outlinewidth\":0,\"ticks\":\"\"}}],\"scatter\":[{\"fillpattern\":{\"fillmode\":\"overlay\",\"size\":10,\"solidity\":0.2},\"type\":\"scatter\"}],\"parcoords\":[{\"type\":\"parcoords\",\"line\":{\"colorbar\":{\"outlinewidth\":0,\"ticks\":\"\"}}}],\"scatterpolargl\":[{\"type\":\"scatterpolargl\",\"marker\":{\"colorbar\":{\"outlinewidth\":0,\"ticks\":\"\"}}}],\"bar\":[{\"error_x\":{\"color\":\"#2a3f5f\"},\"error_y\":{\"color\":\"#2a3f5f\"},\"marker\":{\"line\":{\"color\":\"#E5ECF6\",\"width\":0.5},\"pattern\":{\"fillmode\":\"overlay\",\"size\":10,\"solidity\":0.2}},\"type\":\"bar\"}],\"scattergeo\":[{\"type\":\"scattergeo\",\"marker\":{\"colorbar\":{\"outlinewidth\":0,\"ticks\":\"\"}}}],\"scatterpolar\":[{\"type\":\"scatterpolar\",\"marker\":{\"colorbar\":{\"outlinewidth\":0,\"ticks\":\"\"}}}],\"histogram\":[{\"marker\":{\"pattern\":{\"fillmode\":\"overlay\",\"size\":10,\"solidity\":0.2}},\"type\":\"histogram\"}],\"scattergl\":[{\"type\":\"scattergl\",\"marker\":{\"colorbar\":{\"outlinewidth\":0,\"ticks\":\"\"}}}],\"scatter3d\":[{\"type\":\"scatter3d\",\"line\":{\"colorbar\":{\"outlinewidth\":0,\"ticks\":\"\"}},\"marker\":{\"colorbar\":{\"outlinewidth\":0,\"ticks\":\"\"}}}],\"scattermapbox\":[{\"type\":\"scattermapbox\",\"marker\":{\"colorbar\":{\"outlinewidth\":0,\"ticks\":\"\"}}}],\"scatterternary\":[{\"type\":\"scatterternary\",\"marker\":{\"colorbar\":{\"outlinewidth\":0,\"ticks\":\"\"}}}],\"scattercarpet\":[{\"type\":\"scattercarpet\",\"marker\":{\"colorbar\":{\"outlinewidth\":0,\"ticks\":\"\"}}}],\"carpet\":[{\"aaxis\":{\"endlinecolor\":\"#2a3f5f\",\"gridcolor\":\"white\",\"linecolor\":\"white\",\"minorgridcolor\":\"white\",\"startlinecolor\":\"#2a3f5f\"},\"baxis\":{\"endlinecolor\":\"#2a3f5f\",\"gridcolor\":\"white\",\"linecolor\":\"white\",\"minorgridcolor\":\"white\",\"startlinecolor\":\"#2a3f5f\"},\"type\":\"carpet\"}],\"table\":[{\"cells\":{\"fill\":{\"color\":\"#EBF0F8\"},\"line\":{\"color\":\"white\"}},\"header\":{\"fill\":{\"color\":\"#C8D4E3\"},\"line\":{\"color\":\"white\"}},\"type\":\"table\"}],\"barpolar\":[{\"marker\":{\"line\":{\"color\":\"#E5ECF6\",\"width\":0.5},\"pattern\":{\"fillmode\":\"overlay\",\"size\":10,\"solidity\":0.2}},\"type\":\"barpolar\"}],\"pie\":[{\"automargin\":true,\"type\":\"pie\"}]},\"layout\":{\"autotypenumbers\":\"strict\",\"colorway\":[\"#636efa\",\"#EF553B\",\"#00cc96\",\"#ab63fa\",\"#FFA15A\",\"#19d3f3\",\"#FF6692\",\"#B6E880\",\"#FF97FF\",\"#FECB52\"],\"font\":{\"color\":\"#2a3f5f\"},\"hovermode\":\"closest\",\"hoverlabel\":{\"align\":\"left\"},\"paper_bgcolor\":\"white\",\"plot_bgcolor\":\"#E5ECF6\",\"polar\":{\"bgcolor\":\"#E5ECF6\",\"angularaxis\":{\"gridcolor\":\"white\",\"linecolor\":\"white\",\"ticks\":\"\"},\"radialaxis\":{\"gridcolor\":\"white\",\"linecolor\":\"white\",\"ticks\":\"\"}},\"ternary\":{\"bgcolor\":\"#E5ECF6\",\"aaxis\":{\"gridcolor\":\"white\",\"linecolor\":\"white\",\"ticks\":\"\"},\"baxis\":{\"gridcolor\":\"white\",\"linecolor\":\"white\",\"ticks\":\"\"},\"caxis\":{\"gridcolor\":\"white\",\"linecolor\":\"white\",\"ticks\":\"\"}},\"coloraxis\":{\"colorbar\":{\"outlinewidth\":0,\"ticks\":\"\"}},\"colorscale\":{\"sequential\":[[0.0,\"#0d0887\"],[0.1111111111111111,\"#46039f\"],[0.2222222222222222,\"#7201a8\"],[0.3333333333333333,\"#9c179e\"],[0.4444444444444444,\"#bd3786\"],[0.5555555555555556,\"#d8576b\"],[0.6666666666666666,\"#ed7953\"],[0.7777777777777778,\"#fb9f3a\"],[0.8888888888888888,\"#fdca26\"],[1.0,\"#f0f921\"]],\"sequentialminus\":[[0.0,\"#0d0887\"],[0.1111111111111111,\"#46039f\"],[0.2222222222222222,\"#7201a8\"],[0.3333333333333333,\"#9c179e\"],[0.4444444444444444,\"#bd3786\"],[0.5555555555555556,\"#d8576b\"],[0.6666666666666666,\"#ed7953\"],[0.7777777777777778,\"#fb9f3a\"],[0.8888888888888888,\"#fdca26\"],[1.0,\"#f0f921\"]],\"diverging\":[[0,\"#8e0152\"],[0.1,\"#c51b7d\"],[0.2,\"#de77ae\"],[0.3,\"#f1b6da\"],[0.4,\"#fde0ef\"],[0.5,\"#f7f7f7\"],[0.6,\"#e6f5d0\"],[0.7,\"#b8e186\"],[0.8,\"#7fbc41\"],[0.9,\"#4d9221\"],[1,\"#276419\"]]},\"xaxis\":{\"gridcolor\":\"white\",\"linecolor\":\"white\",\"ticks\":\"\",\"title\":{\"standoff\":15},\"zerolinecolor\":\"white\",\"automargin\":true,\"zerolinewidth\":2},\"yaxis\":{\"gridcolor\":\"white\",\"linecolor\":\"white\",\"ticks\":\"\",\"title\":{\"standoff\":15},\"zerolinecolor\":\"white\",\"automargin\":true,\"zerolinewidth\":2},\"scene\":{\"xaxis\":{\"backgroundcolor\":\"#E5ECF6\",\"gridcolor\":\"white\",\"linecolor\":\"white\",\"showbackground\":true,\"ticks\":\"\",\"zerolinecolor\":\"white\",\"gridwidth\":2},\"yaxis\":{\"backgroundcolor\":\"#E5ECF6\",\"gridcolor\":\"white\",\"linecolor\":\"white\",\"showbackground\":true,\"ticks\":\"\",\"zerolinecolor\":\"white\",\"gridwidth\":2},\"zaxis\":{\"backgroundcolor\":\"#E5ECF6\",\"gridcolor\":\"white\",\"linecolor\":\"white\",\"showbackground\":true,\"ticks\":\"\",\"zerolinecolor\":\"white\",\"gridwidth\":2}},\"shapedefaults\":{\"line\":{\"color\":\"#2a3f5f\"}},\"annotationdefaults\":{\"arrowcolor\":\"#2a3f5f\",\"arrowhead\":0,\"arrowwidth\":1},\"geo\":{\"bgcolor\":\"white\",\"landcolor\":\"#E5ECF6\",\"subunitcolor\":\"white\",\"showland\":true,\"showlakes\":true,\"lakecolor\":\"white\"},\"title\":{\"x\":0.05},\"mapbox\":{\"style\":\"light\"}}},\"xaxis\":{\"anchor\":\"y\",\"domain\":[0.0,1.0],\"title\":{\"text\":\"Aerosols\"},\"categoryorder\":\"array\",\"categoryarray\":[\"H\",\"M\",\"L\"]},\"yaxis\":{\"anchor\":\"x\",\"domain\":[0.0,1.0],\"title\":{\"text\":\"Temp\"}},\"legend\":{\"title\":{\"text\":\"Aerosols\"},\"tracegroupgap\":0},\"margin\":{\"t\":60},\"boxmode\":\"overlay\"},                        {\"responsive\": true}                    ).then(function(){\n",
              "                            \n",
              "var gd = document.getElementById('c96858f3-f44b-4fe5-b373-6c4313b19e6c');\n",
              "var x = new MutationObserver(function (mutations, observer) {{\n",
              "        var display = window.getComputedStyle(gd).display;\n",
              "        if (!display || display === 'none') {{\n",
              "            console.log([gd, 'removed!']);\n",
              "            Plotly.purge(gd);\n",
              "            observer.disconnect();\n",
              "        }}\n",
              "}});\n",
              "\n",
              "// Listen for the removal of the full notebook cells\n",
              "var notebookContainer = gd.closest('#notebook-container');\n",
              "if (notebookContainer) {{\n",
              "    x.observe(notebookContainer, {childList: true});\n",
              "}}\n",
              "\n",
              "// Listen for the clearing of the current output cell\n",
              "var outputEl = gd.closest('.output');\n",
              "if (outputEl) {{\n",
              "    x.observe(outputEl, {childList: true});\n",
              "}}\n",
              "\n",
              "                        })                };                            </script>        </div>\n",
              "</body>\n",
              "</html>"
            ]
          },
          "metadata": {}
        }
      ]
    },
    {
      "cell_type": "markdown",
      "source": [
        "<i><b>Reason for choosing Aerosols and Temp<i><b>"
      ],
      "metadata": {
        "id": "4dy2nO3JJGRZ"
      }
    },
    {
      "cell_type": "markdown",
      "source": [
        "Aerosols reflect the sun's energy back out into space which decreases the Earth's temperature."
      ],
      "metadata": {
        "id": "SPrvC9dfJHBh"
      }
    },
    {
      "cell_type": "markdown",
      "source": [
        "<i><b>Relationship between the variables<b><i>"
      ],
      "metadata": {
        "id": "i_nx8ZEQJJS4"
      }
    },
    {
      "cell_type": "markdown",
      "source": [
        "Based on the boxplots, it can be seen that the temperature is lower for for higher amounts of aerosols. Thus, aerosols and temperature have a negative relationship."
      ],
      "metadata": {
        "id": "kEU1BAEFJJYt"
      }
    },
    {
      "cell_type": "code",
      "source": [
        "import numpy as np\n",
        "import pandas as pd\n",
        "pd.set_option('display.max_columns', None)\n",
        "import matplotlib.pyplot as plt\n",
        "import warnings\n",
        "warnings.filterwarnings('ignore')\n",
        "import plotly.express as px"
      ],
      "metadata": {
        "id": "UA708AqpWUWv"
      },
      "execution_count": null,
      "outputs": []
    },
    {
      "cell_type": "markdown",
      "metadata": {
        "id": "AF848nDU2kIe"
      },
      "source": [
        "## Part II: Modeling [12% of final grade]"
      ]
    },
    {
      "cell_type": "markdown",
      "metadata": {
        "id": "I5ZA_W222kIe"
      },
      "source": [
        "### 1. Problem formulation [15% of Part II]"
      ]
    },
    {
      "cell_type": "markdown",
      "metadata": {
        "id": "Wwr1Kfyb2kIe"
      },
      "source": [
        "**a.** Formulate one regression problem and one classification based on the dataset, in **no more than 50 words**."
      ]
    },
    {
      "cell_type": "markdown",
      "metadata": {
        "id": "JGe-WKTK2kIe"
      },
      "source": [
        "**Response.** "
      ]
    },
    {
      "cell_type": "markdown",
      "metadata": {
        "id": "XQqWjTRA2kIf"
      },
      "source": [
        "**b.** State which problem (regression or classification) you would be investigating and why, in **no more than 20 words**."
      ]
    },
    {
      "cell_type": "markdown",
      "metadata": {
        "id": "f24BMYfO2kIf"
      },
      "source": [
        "**Response.** "
      ]
    },
    {
      "cell_type": "markdown",
      "metadata": {
        "id": "JJl-ZBRI2kIf"
      },
      "source": [
        "**c.** Clearly specify the dependent variable you are predicting, and its significance, in **no more than 20 words**"
      ]
    },
    {
      "cell_type": "markdown",
      "metadata": {
        "id": "xGIzrxNn2kIf"
      },
      "source": [
        "**Response.** "
      ]
    },
    {
      "cell_type": "markdown",
      "metadata": {
        "id": "FSCv_XBr2kIg"
      },
      "source": [
        "### 2. Model training [30% of Part II]"
      ]
    },
    {
      "cell_type": "code",
      "source": [
        "data = pd.read_csv(\"climate.csv\")"
      ],
      "metadata": {
        "id": "o9mdBJwOubT8"
      },
      "execution_count": null,
      "outputs": []
    },
    {
      "cell_type": "code",
      "source": [
        "n_rows, n_cols = data.shape\n",
        "n_rows, n_cols"
      ],
      "metadata": {
        "colab": {
          "base_uri": "https://localhost:8080/"
        },
        "id": "kgNPw4Gau-xi",
        "outputId": "8503257f-030a-40fa-d1a9-128314f8ca06"
      },
      "execution_count": null,
      "outputs": [
        {
          "output_type": "execute_result",
          "data": {
            "text/plain": [
              "(308, 11)"
            ]
          },
          "metadata": {},
          "execution_count": 59
        }
      ]
    },
    {
      "cell_type": "code",
      "source": [
        "# Get a list of numerical, categorical features\n",
        "\n",
        "datatypes = data.dtypes\n",
        "print(datatypes)\n",
        "\n",
        "categorical_features = datatypes[datatypes==\"object\"].index\n",
        "numerical_features = datatypes[datatypes!=\"object\"].index"
      ],
      "metadata": {
        "colab": {
          "base_uri": "https://localhost:8080/"
        },
        "id": "GSmGotcBvEw3",
        "outputId": "4a28d21e-62d6-40ec-93c0-44bf8bd4c8f3"
      },
      "execution_count": null,
      "outputs": [
        {
          "output_type": "stream",
          "name": "stdout",
          "text": [
            "Year          int64\n",
            "Month         int64\n",
            "MEI         float64\n",
            "CO2         float64\n",
            "CH4         float64\n",
            "N2O          object\n",
            "CFC-11      float64\n",
            "CFC-12      float64\n",
            "TSI          object\n",
            "Aerosols     object\n",
            "Temp        float64\n",
            "dtype: object\n"
          ]
        }
      ]
    },
    {
      "cell_type": "code",
      "source": [
        "print(f\"# categorical features: {len(categorical_features)}\")\n",
        "print(f\"# numerical features: {len(numerical_features)}\")"
      ],
      "metadata": {
        "colab": {
          "base_uri": "https://localhost:8080/"
        },
        "id": "n_MIPl56vQ7E",
        "outputId": "e5c78ee2-5c2a-493d-e365-f5a59853df65"
      },
      "execution_count": null,
      "outputs": [
        {
          "output_type": "stream",
          "name": "stdout",
          "text": [
            "# categorical features: 3\n",
            "# numerical features: 8\n"
          ]
        }
      ]
    },
    {
      "cell_type": "code",
      "source": [
        "# calculate percentage of non-NaN data\n",
        "\n",
        "missing_percent = 1 - data.count() / n_rows\n",
        "\n",
        "\n",
        "# filter for columns with non-zero count of NaN data\n",
        "\n",
        "missing_percent[missing_percent > 0.0]\n",
        "print(f\"# features with missing data : {len(missing_percent[missing_percent>0.0])}\")"
      ],
      "metadata": {
        "colab": {
          "base_uri": "https://localhost:8080/"
        },
        "id": "Kbn-ftOrvr-X",
        "outputId": "fa878b2e-12ee-4d9e-d687-5a61a6f995c5"
      },
      "execution_count": null,
      "outputs": [
        {
          "output_type": "stream",
          "name": "stdout",
          "text": [
            "# features with missing data : 2\n"
          ]
        }
      ]
    },
    {
      "cell_type": "code",
      "source": [
        "missing_percent[missing_percent>0.].hist()\n",
        "plt.xlabel(\"% of missing data\")\n",
        "plt.ylabel(\"# of variables\")\n",
        "plt.show()"
      ],
      "metadata": {
        "colab": {
          "base_uri": "https://localhost:8080/",
          "height": 279
        },
        "id": "Z8yIscWzv7Yj",
        "outputId": "971dbf4f-e405-4dde-e72f-049323b4fa84"
      },
      "execution_count": null,
      "outputs": [
        {
          "output_type": "display_data",
          "data": {
            "text/plain": [
              "<Figure size 432x288 with 1 Axes>"
            ],
            "image/png": "[encoded data removed]"
          },
          "metadata": {
            "needs_background": "light"
          }
        }
      ]
    },
    {
      "cell_type": "code",
      "source": [
        "# get categorical variables with < 10% missing data and impute with mode\n",
        "\n",
        "threshold = 0.10\n",
        "cols_to_impute = missing_percent[(missing_percent<threshold)&(missing_percent>0.0)].index\n",
        "cols_to_impute_mode = list(set(cols_to_impute) & set(categorical_features))\n",
        "print(f\"Categorical columns to impute with mode: {cols_to_impute_mode}\\n\")\n",
        "\n",
        "for col in cols_to_impute_mode:\n",
        "    data[col].fillna(data[col].mode().iloc[0], inplace=True)\n",
        "\n",
        "# confirm no missing values\n",
        "\n",
        "print(data[cols_to_impute_mode].count())"
      ],
      "metadata": {
        "colab": {
          "base_uri": "https://localhost:8080/"
        },
        "id": "Yd2H13A5wmhc",
        "outputId": "8c1740f5-c35d-481f-b985-c65fc3b1be69"
      },
      "execution_count": null,
      "outputs": [
        {
          "output_type": "stream",
          "name": "stdout",
          "text": [
            "Categorical columns to impute with mode: ['TSI']\n",
            "\n",
            "TSI    308\n",
            "dtype: int64\n"
          ]
        }
      ]
    },
    {
      "cell_type": "code",
      "source": [
        "# get numerical variables with < 10% missing data and impute with mean\n",
        "\n",
        "threshold = 0.10\n",
        "cols_to_impute = missing_percent[(missing_percent<threshold)&(missing_percent>0.0)].index\n",
        "cols_to_impute_mean = list(set(cols_to_impute) & set(numerical_features))\n",
        "print(f\"Numerical columns to impute with mean: {cols_to_impute_mean}\\n\")\n",
        "\n",
        "for col in cols_to_impute_mean:\n",
        "    data[col].fillna(data[col].mean(), inplace=True)\n",
        "\n",
        "# confirm no missing data\n",
        "\n",
        "print(data[cols_to_impute_mean].count())"
      ],
      "metadata": {
        "colab": {
          "base_uri": "https://localhost:8080/"
        },
        "id": "sZFJ-gLvwtKg",
        "outputId": "971f17b8-da70-4c9d-ada2-cb2d1f709c9d"
      },
      "execution_count": null,
      "outputs": [
        {
          "output_type": "stream",
          "name": "stdout",
          "text": [
            "Numerical columns to impute with mean: ['CO2']\n",
            "\n",
            "CO2    308\n",
            "dtype: int64\n"
          ]
        }
      ]
    },
    {
      "cell_type": "markdown",
      "metadata": {
        "id": "nScNwQ_y2kIg"
      },
      "source": [
        "**a.** Perform feature selection. For each variable, decide if you want to include it as a feature and provide a justification. You may leverage on your analysis in Part I: EDA and/or perform additional analysis."
      ]
    },
    {
      "cell_type": "code",
      "source": [
        "datatypes = data.dtypes\n",
        "categorical_features = datatypes[datatypes==\"object\"].index\n",
        "numerical_features = datatypes[datatypes!=\"object\"].index"
      ],
      "metadata": {
        "id": "Q_mOwN98xmza"
      },
      "execution_count": null,
      "outputs": []
    },
    {
      "cell_type": "code",
      "source": [
        "n = len(categorical_features)\n",
        "\n",
        "r, c = 8,5\n",
        "fig, ax = plt.subplots(r, c, figsize=(30,50))\n",
        "\n",
        "for i in range(n):\n",
        "    feature = categorical_features[i]\n",
        "    ax = plt.subplot(r,c,i+1)\n",
        "    ax.set_title(feature)\n",
        "    data[feature].value_counts(normalize=True).plot(kind='bar')\n",
        "\n",
        "plt.show()"
      ],
      "metadata": {
        "colab": {
          "base_uri": "https://localhost:8080/",
          "height": 1000
        },
        "id": "gqntLJp8xs_e",
        "outputId": "d881d102-b9bd-4e71-86d2-9f757bfdb482"
      },
      "execution_count": null,
      "outputs": [
        {
          "output_type": "display_data",
          "data": {
            "text/plain": [
              "<Figure size 2160x3600 with 40 Axes>"
            ],
            "image/png": "[encoded data removed]"
          },
          "metadata": {
            "needs_background": "light"
          }
        }
      ]
    },
    {
      "cell_type": "markdown",
      "metadata": {
        "id": "JMpcJS_j2kIg"
      },
      "source": [
        "**Response.** "
      ]
    },
    {
      "cell_type": "markdown",
      "metadata": {
        "id": "RhgskaCV2kIh"
      },
      "source": [
        "**b.** Split the dataset into train and test sets. Describe how you split step by step."
      ]
    },
    {
      "cell_type": "markdown",
      "metadata": {
        "id": "xPqyON3Y2kIh"
      },
      "source": [
        "**Response.** "
      ]
    },
    {
      "cell_type": "markdown",
      "metadata": {
        "id": "opR0cUW92kIh"
      },
      "source": [
        "**c.** State the model(s) you will train, and explain your choice(s), in **no more than 50 words per model**. You only need to\n",
        "train one model, but if you do train more models, limit yourself to no more than three---Grading is based on the validity and soundness of your model, rather than the quantity."
      ]
    },
    {
      "cell_type": "markdown",
      "metadata": {
        "id": "jFSNQVs92kIh"
      },
      "source": [
        "**Response.** "
      ]
    },
    {
      "cell_type": "markdown",
      "metadata": {
        "id": "MutHL5t62kIh"
      },
      "source": [
        "**d.** For each model, perform the training, and report the trained parameters and the training scores, if applicable. "
      ]
    },
    {
      "cell_type": "markdown",
      "metadata": {
        "id": "t9onn1Ko2kIi"
      },
      "source": [
        "**Response.** "
      ]
    },
    {
      "cell_type": "markdown",
      "metadata": {
        "id": "HYtSgftY2kIi"
      },
      "source": [
        "### 3. Model evaluation and selection [30% of Part II]"
      ]
    },
    {
      "cell_type": "markdown",
      "metadata": {
        "id": "-oC40tSt2kIi"
      },
      "source": [
        "**a.** For each model, predict the response variable on the test set."
      ]
    },
    {
      "cell_type": "markdown",
      "metadata": {
        "id": "-OcOcr_w2kIi"
      },
      "source": [
        "**Response.** "
      ]
    },
    {
      "cell_type": "markdown",
      "metadata": {
        "id": "MNweKe5O2kIj"
      },
      "source": [
        "**b.** Describe the metric you use to evaluate your model(s). Report the test scores for each model."
      ]
    },
    {
      "cell_type": "markdown",
      "metadata": {
        "id": "AAlfrm0U2kIj"
      },
      "source": [
        "**Response.** "
      ]
    },
    {
      "cell_type": "markdown",
      "metadata": {
        "id": "cjQPzaF22kIj"
      },
      "source": [
        "**c.** If you trained more than one model, identify the final model you would choose for the prediction task, and explain your choice, **in no more than 50 words**."
      ]
    },
    {
      "cell_type": "markdown",
      "metadata": {
        "id": "pf36Kz0o2kIk"
      },
      "source": [
        "**Response.** "
      ]
    },
    {
      "cell_type": "markdown",
      "metadata": {
        "id": "hI8qbOWr2kIk"
      },
      "source": [
        "### 4. Findings and conclusion [20% of Part II]"
      ]
    },
    {
      "cell_type": "markdown",
      "metadata": {
        "id": "k_5YOEdX2kIk"
      },
      "source": [
        "**a.** Interpret what your model is implying, and summarize any insight you have drawn from the project. Explain if it is consistent with intuition, and if not, provide a plausible justification. Limit your entire response to **50 words**."
      ]
    },
    {
      "cell_type": "markdown",
      "metadata": {
        "id": "FjDvZUy42kIk"
      },
      "source": [
        "**Response.** "
      ]
    },
    {
      "cell_type": "markdown",
      "metadata": {
        "id": "w4bZO-vd2kIl"
      },
      "source": [
        "**b.** Share any lesson you have learned from the project, in **no more than 50 words**."
      ]
    },
    {
      "cell_type": "markdown",
      "metadata": {
        "id": "sN0kTHI92kIl"
      },
      "source": [
        "**Response.** "
      ]
    },
    {
      "cell_type": "markdown",
      "metadata": {
        "id": "VkAoSIN72kIl"
      },
      "source": [
        "### 5. Non-technical protocol [5% of Part II]"
      ]
    },
    {
      "cell_type": "markdown",
      "metadata": {
        "id": "3OdMllMY2kIl"
      },
      "source": [
        "**a.** Describe the detailed contribution of each team member, including both the tangible (e.g., implementation, testing, writing) and intangible (e.g., generating ideas, planning, leadership) efforts."
      ]
    },
    {
      "cell_type": "markdown",
      "metadata": {
        "id": "xVHRVyXa2kIl"
      },
      "source": [
        "**Response.** "
      ]
    },
    {
      "cell_type": "markdown",
      "metadata": {
        "id": "1_layYgE2kIl"
      },
      "source": [
        "**b.** List any references and sources you have cited."
      ]
    },
    {
      "cell_type": "markdown",
      "metadata": {
        "id": "EYMogFy12kIl"
      },
      "source": [
        "**Response.** "
      ]
    }
  ],
  "metadata": {
    "kernelspec": {
      "display_name": "Python 3 (ipykernel)",
      "language": "python",
      "name": "python3"
    },
    "language_info": {
      "codemirror_mode": {
        "name": "ipython",
        "version": 3
      },
      "file_extension": ".py",
      "mimetype": "text/x-python",
      "name": "python",
      "nbconvert_exporter": "python",
      "pygments_lexer": "ipython3",
      "version": "3.7.3"
    },
    "colab": {
      "provenance": []
    }
  },
  "nbformat": 4,
  "nbformat_minor": 0
}